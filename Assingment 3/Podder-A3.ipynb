{
 "cells": [
  {
   "cell_type": "markdown",
   "metadata": {},
   "source": [
    "# A3: NeuralNetwork Class"
   ]
  },
  {
   "cell_type": "markdown",
   "metadata": {
    "toc": true
   },
   "source": [
    "<h1>Table of Contents<span class=\"tocSkip\"></span></h1>\n",
    "<div class=\"toc\"><ul class=\"toc-item\"><li><span><a href=\"#Requirements\" data-toc-modified-id=\"Requirements-1\">Requirements</a></span></li><li><span><a href=\"#Code-for-NeuralNetwork-Class-Saved-in-File-neuralnetworkA3.py\" data-toc-modified-id=\"Code-for-NeuralNetwork-Class-Saved-in-File-neuralnetworkA3.py-2\">Code for <code>NeuralNetwork</code> Class Saved in File <code>neuralnetworkA3.py</code></a></span></li><li><span><a href=\"#Example-Results\" data-toc-modified-id=\"Example-Results-3\">Example Results</a></span></li><li><span><a href=\"#Application-to-Seoul-Bike-Sharing-Demand-Data\" data-toc-modified-id=\"Application-to-Seoul-Bike-Sharing-Demand-Data-4\">Application to Seoul Bike Sharing Demand Data</a></span></li></ul></div>"
   ]
  },
  {
   "cell_type": "markdown",
   "metadata": {},
   "source": [
    "## Requirements"
   ]
  },
  {
   "cell_type": "markdown",
   "metadata": {},
   "source": [
    "In this assignment, you will complete the implementation of the `NeuralNetwork` class, starting with the code included in the next code cell.  Your implementation must meet the requirements described in the doc-strings.\n",
    "\n",
    "Run the code in [05 Optimizers](https://www.cs.colostate.edu/~anderson/cs545/notebooks/05%20Optimizers.ipynb) to create the file `optimizers.py` for use in this assignment.\n",
    "\n",
    "Then apply your `NeuralNetwork` class to the problem of predicting the value of houses in Boston as described below."
   ]
  },
  {
   "cell_type": "markdown",
   "metadata": {},
   "source": [
    "## Code for `NeuralNetwork` Class Saved in File `neuralnetworkA3.py`"
   ]
  },
  {
   "cell_type": "code",
   "execution_count": 1,
   "metadata": {},
   "outputs": [
    {
     "name": "stdout",
     "output_type": "stream",
     "text": [
      "Overwriting neuralnetworkA3.py\n"
     ]
    }
   ],
   "source": [
    "%%writefile neuralnetworkA3.py\n",
    "\n",
    "import numpy as np\n",
    "import optimizers as opt\n",
    "\n",
    "\n",
    "class NeuralNetwork():\n",
    "    \"\"\"\n",
    "    A class that represents a neural network for nonlinear regression.\n",
    "\n",
    "    Attributes\n",
    "    ----------\n",
    "    n_inputs : int\n",
    "        The number of values in each sample\n",
    "    n_hidden_units_by_layers : list of ints, or empty\n",
    "        The number of units in each hidden layer.\n",
    "        Its length specifies the number of hidden layers.\n",
    "    n_outputs : int\n",
    "        The number of units in output layer\n",
    "    all_weights : one-dimensional numpy array\n",
    "        Contains all weights of the network as a vector\n",
    "    Ws : list of two-dimensional numpy arrays\n",
    "        Contains matrices of weights in each layer,\n",
    "        as views into all_weights\n",
    "    all_gradients : one-dimensional numpy array\n",
    "        Contains all gradients of mean square error with\n",
    "        respect to each weight in the network as a vector\n",
    "    Grads : list of two-dimensional numpy arrays\n",
    "        Contains matrices of gradients weights in each layer,\n",
    "        as views into all_gradients\n",
    "   performance_trace : list of floats\n",
    "        Mean square error (unstandardized) after each epoch\n",
    "    n_epochs : int\n",
    "        Number of epochs trained so far\n",
    "    X_means : one-dimensional numpy array\n",
    "        Means of the components, or features, across samples\n",
    "    X_stds : one-dimensional numpy array\n",
    "        Standard deviations of the components, or features, across samples\n",
    "    T_means : one-dimensional numpy array\n",
    "        Means of the components of the targets, across samples\n",
    "    T_stds : one-dimensional numpy array\n",
    "        Standard deviations of the components of the targets, across samples\n",
    "        \n",
    "        \n",
    "    Methods\n",
    "    -------\n",
    "    make_weights_and_views(shapes)\n",
    "        Creates all initial weights and views for each layer\n",
    "\n",
    "    train(X, T, n_epochs, method='sgd', learning_rate=None, verbose=True)\n",
    "        Trains the network using input and target samples by rows in X and T\n",
    "\n",
    "    use(X)\n",
    "        Applies network to inputs X and returns network's output\n",
    "    \"\"\"\n",
    "\n",
    "    def __init__(self, n_inputs, n_hidden_units_by_layers, n_outputs):\n",
    "        \"\"\"Creates a neural network with the given structure\n",
    "\n",
    "        Parameters\n",
    "        ----------\n",
    "        n_inputs : int\n",
    "            The number of values in each sample\n",
    "        n_hidden_units_by_layers : list of ints, or empty\n",
    "            The number of units in each hidden layer.\n",
    "            Its length specifies the number of hidden layers.\n",
    "        n_outputs : int\n",
    "            The number of units in output layer\n",
    "\n",
    "        Returns\n",
    "        -------\n",
    "        NeuralNetwork object\n",
    "        \"\"\"\n",
    "\n",
    "        # Assign attribute values. \n",
    "        self.n_inputs = n_inputs\n",
    "        self.n_hidden_units_by_layers = n_hidden_units_by_layers\n",
    "        self.n_outputs = n_outputs\n",
    "        self.n_epochs = 0\n",
    "        # Set performance_trace to [].\n",
    "        self.performance_trace = []\n",
    "        # Set self.X_means to None to indicate\n",
    "        # that standardization parameters have not been calculated.\n",
    "        # ....\n",
    "        self.X_means = None\n",
    "        self.X_stds = None\n",
    "        self.T_means = None\n",
    "        self.T_stds = None\n",
    "        \n",
    "        # Build list of shapes for weight matrices in each layer\n",
    "        # ...\n",
    "        shapes = []\n",
    "        nh = 0\n",
    "        ni = self.n_inputs\n",
    "        for nh in self.n_hidden_units_by_layers:\n",
    "            shapes.append((1 + ni, nh))\n",
    "            ni = nh\n",
    "        #Output Layer\n",
    "        ni = nh if nh > 0 else ni\n",
    "        nu = self.n_outputs\n",
    "        shapes.append((1 + ni, nu))\n",
    "        # Call make_weights_and_views to create all_weights and Ws\n",
    "        \n",
    "        self.all_weights, self.Ws = self.make_weights_and_views(shapes)\n",
    "\n",
    "        # Call make_weights_and_views to create all_gradients and Grads\n",
    "        \n",
    "        self.all_gradients, self.Grads = self.make_weights_and_views(shapes)\n",
    "\n",
    "\n",
    "    def make_weights_and_views(self, shapes):\n",
    "        \"\"\"Creates vector of all weights and views for each layer\n",
    "\n",
    "        Parameters\n",
    "        ----------\n",
    "        shapes : list of pairs of ints\n",
    "            Each pair is number of rows and columns of weights in each layer.\n",
    "            Number of rows is number of inputs to layer (including constant 1).\n",
    "            Number of columns is number of units, or outputs, in layer.\n",
    "\n",
    "        Returns\n",
    "        -------\n",
    "        Vector of all weights, and list of views into this vector for each layer\n",
    "        \"\"\"\n",
    "\n",
    "        # Create one-dimensional numpy array of all weights with random initial values\n",
    "\n",
    "        #  ...\n",
    "        W_shape = np.array(shapes)\n",
    "        shape_sum = np.sum(W_shape[:, 0] * W_shape[:, 1])\n",
    "        weights = np.random.uniform(-0.1, 0.1, shape_sum)\n",
    "\n",
    "        # Build weight matrices as list of views (pairs of number of rows and number \n",
    "        # of columns) by reshaping corresponding elements from vector of all weights \n",
    "        # into correct shape for each layer. \n",
    "        \n",
    "        # ...\n",
    "        temp = 0\n",
    "        Ws = []\n",
    "        for i in W_shape:\n",
    "            init = temp + i[0] * i[1]\n",
    "            Ws.append(weights[temp:init].reshape(i[0], i[1]))\n",
    "            temp = init\n",
    "        # Divide values of each weight matrix by square root of number of its inputs.\n",
    "\n",
    "        for W in Ws:\n",
    "            sqrt_input = np.sqrt(W.shape[0])\n",
    "            for val in W:\n",
    "                val = val/sqrt_input\n",
    "        \n",
    "        # Set output layer weights to zero.\n",
    "        \n",
    "        Ws[-1][:,:]=0\n",
    "        \n",
    "        return weights, Ws\n",
    "        \n",
    "    def __repr__(self):\n",
    "        return 'NeuralNetwork({}, {}, {})'.format(self.n_inputs, self.n_hiddens_each_layer, self.n_outputs)\n",
    "\n",
    "    def __str__(self):\n",
    "        s = self.__repr__()\n",
    "        if self.total_epochs > 0:\n",
    "            s += '\\n Trained for {} epochs.'.format(self.n_epochs)\n",
    "            s += '\\n Final standardized training error {:.4g}.'.format(self.performance_trace[-1])\n",
    "        return s\n",
    " \n",
    "    def train(self, X, T, n_epochs, method='sgd', learning_rate=None, verbose=True):\n",
    "        \"\"\"Updates the weights.\n",
    "\n",
    "        Parameters\n",
    "        ----------\n",
    "        X : two-dimensional numpy array \n",
    "            number of samples  by  number of input components\n",
    "        T : two-dimensional numpy array\n",
    "            number of samples  by  number of output components\n",
    "        n_epochs : int\n",
    "            Number of passes to take through all samples\n",
    "        method : str\n",
    "            'sgd', 'adam', or 'scg'\n",
    "        learning_rate : float\n",
    "            Controls the step size of each update, only for sgd and adam\n",
    "        verbose: boolean\n",
    "            If True, progress is shown with print statements\n",
    "        \"\"\"\n",
    "        n_samples, n_inputs = X.shape\n",
    "        _, n_outputs = T.shape\n",
    "\n",
    "        # Calculate and assign standardization parameters\n",
    "        self.X_means = np.mean(X, axis=0)\n",
    "        self.X_stds = np.std(X, axis=0)\n",
    "        self.T_means = np.mean(T, axis=0)\n",
    "        self.T_stds = np.std(T, axis=0)\n",
    "\n",
    "        # Standardize X and T.  Assign back to X and T.\n",
    "        \n",
    "        X = (X - self.X_means) / self.X_stds\n",
    "        T = (T - self.T_means) / self.T_stds\n",
    "\n",
    "        # Instantiate Optimizers object by giving it vector of all weights\n",
    "        \n",
    "        optimizer = opt.Optimizers(self.all_weights)\n",
    "\n",
    "        # Define function to convert mean-square error to root-mean-square error,\n",
    "        # Here we use a lambda function just to illustrate its use.  \n",
    "        # We could have also defined this function with\n",
    "        # def error_convert_f(err):\n",
    "        #     return np.sqrt(err)\n",
    "\n",
    "        error_convert_f = lambda err: np.sqrt(err)\n",
    "        \n",
    "        # Call the requested optimizer method to train the weights.\n",
    "\n",
    "        if method == 'sgd':\n",
    "\n",
    "            performance_trace = optimizer.sgd(self.error_f, self.gradient_f,\n",
    "                                              fargs=[X, T], n_epochs=n_epochs,\n",
    "                                              learning_rate=learning_rate,\n",
    "                                              error_convert_f=error_convert_f, \n",
    "                                              error_convert_name='RMSE',\n",
    "                                              verbose=verbose)\n",
    "\n",
    "        elif method == 'adam':\n",
    "\n",
    "            performance_trace = optimizer.adam(self.error_f, self.gradient_f,\n",
    "                                               fargs=[X, T], n_epochs=n_epochs,\n",
    "                                               learning_rate=learning_rate,\n",
    "                                               error_convert_f=error_convert_f, \n",
    "                                               error_convert_name='RMSE',\n",
    "                                               verbose=verbose)\n",
    "\n",
    "        elif method == 'scg':\n",
    "\n",
    "            performance_trace = optimizer.scg(self.error_f, self.gradient_f,\n",
    "                                              fargs=[X, T], n_epochs=n_epochs,\n",
    "                                              error_convert_f=error_convert_f, \n",
    "                                              error_convert_name='RMSE',\n",
    "                                              verbose=verbose)\n",
    "\n",
    "        else:\n",
    "            raise Exception(\"method must be 'sgd', 'adam', or 'scg'\")\n",
    "\n",
    "        self.n_epochs += len(performance_trace)\n",
    "        self.performance_trace += performance_trace\n",
    "\n",
    "        # Return neural network object to allow applying other methods\n",
    "        # after training, such as:    Y = nnet.train(X, T, 100, 0.01).use(X)\n",
    "\n",
    "        return self\n",
    "\n",
    "    def _add_ones(self, X):\n",
    "        return np.insert(X, 0, 1, 1)\n",
    "    \n",
    "    def _forward(self, X):\n",
    "        \"\"\"Calculate outputs of each layer given inputs in X.\n",
    "        \n",
    "        Parameters\n",
    "        ----------\n",
    "        X : input samples, standardized.\n",
    "\n",
    "        Returns\n",
    "        -------\n",
    "        Standardized outputs of all layers as list, include X as first element.\n",
    "        \"\"\"\n",
    "        Z_previous_layer = X\n",
    "        self.Zs = [X]\n",
    "        \n",
    "        # Append output of each layer to list in self.Zs, then return it.\n",
    "        \n",
    "        for W_layer in self.Ws[:-1]:\n",
    "            Z_previous_layer = np.tanh(self._add_ones(Z_previous_layer) @ W_layer)\n",
    "            self.Zs.append(Z_previous_layer)  # save for gradient calculations\n",
    "        # Output Layer\n",
    "        Y = self._add_ones(Z_previous_layer) @ self.Ws[-1]\n",
    "        self.Zs.append(Y)\n",
    "        return Y\n",
    "\n",
    "    # Function to be minimized by optimizer method, mean squared error\n",
    "    def error_f(self, X, T):\n",
    "        \"\"\"Calculate output of net given input X and its mean squared error.\n",
    "        Function to be minimized by optimizer.\n",
    "\n",
    "        Parameters\n",
    "        ----------\n",
    "        X : two-dimensional numpy array, standardized\n",
    "            number of samples  by  number of input components\n",
    "        T : two-dimensional numpy array, standardized\n",
    "            number of samples  by  number of output components\n",
    "\n",
    "        Returns\n",
    "        -------\n",
    "        Standardized mean square error as scalar float that is the mean\n",
    "        square error over all samples and all network outputs.\n",
    "        \"\"\"\n",
    "        # Call _forward, calculate mean square error and return it.\n",
    "        Y = self._forward(X)\n",
    "        #error = (T - Y) * self.T_stds \n",
    "        error = (T - Y)\n",
    "        result = np.mean(error ** 2)\n",
    "        return result\n",
    "\n",
    "    # Gradient of function to be minimized for use by optimizer method\n",
    "    def gradient_f(self, X, T):\n",
    "        \"\"\"Returns gradient wrt all weights. Assumes _forward already called\n",
    "        so input and all layer outputs stored in self.Zs\n",
    "\n",
    "        Parameters\n",
    "        ----------\n",
    "        X : two-dimensional numpy array, standardized\n",
    "            number of samples  x  number of input components\n",
    "        T : two-dimensional numpy array, standardized\n",
    "            number of samples  x  number of output components\n",
    "\n",
    "        Returns\n",
    "        -------\n",
    "        Vector of gradients of mean square error wrt all weights\n",
    "        \"\"\"\n",
    "\n",
    "        # Assumes forward_pass just called with layer outputs saved in self.Zs.\n",
    "        \n",
    "        n_samples = X.shape[0]\n",
    "        n_outputs = T.shape[1]\n",
    "        n_layers = len(self.n_hidden_units_by_layers) + 1\n",
    "\n",
    "        # delta is delta matrix to be back propagated.\n",
    "        # Dividing by n_samples and n_outputs here replaces the scaling of\n",
    "        # the learning rate.\n",
    "        \n",
    "        delta = -(T - self.Zs[-1]) / (n_samples * n_outputs)\n",
    "\n",
    "        # Step backwards through the layers to back-propagate the error (delta)\n",
    "        \n",
    "        for layeri in range(n_layers - 1, -1, -1):\n",
    "            # gradient of all but bias weights\n",
    "            self.Grads[layeri][:] = self._add_ones(self.Zs[layeri]).T @ delta\n",
    "           # Back-propagate this layer's delta to previous layer\n",
    "            if layeri > 0:\n",
    "                delta = delta @ self.Ws[layeri][1:, :].T * (1 - self.Zs[layeri]**2)\n",
    "\n",
    "        return self.all_gradients\n",
    "\n",
    "    def use(self, X):\n",
    "        \"\"\"Return the output of the network for input samples as rows in X.\n",
    "        X assumed to not be standardized.\n",
    "\n",
    "        Parameters\n",
    "        ----------\n",
    "        X : two-dimensional numpy array\n",
    "            number of samples  by  number of input components, unstandardized\n",
    "\n",
    "        Returns\n",
    "        -------\n",
    "        Output of neural network, unstandardized, as numpy array\n",
    "        of shape  number of samples  by  number of outputs\n",
    "        \"\"\"\n",
    "\n",
    "        # Standardize X\n",
    "        \n",
    "        X_st = (X - self.X_means) / self.X_stds\n",
    "        \n",
    "        # Unstandardize output Y before returning it\n",
    "        Y = self._forward(X_st)\n",
    "        Y = Y * self.T_stds + self.T_means\n",
    "        return Y\n",
    "\n",
    "    def get_performance_trace(self):\n",
    "        \"\"\"Returns list of unstandardized root-mean square error for each epoch\"\"\"\n",
    "        return self.performance_trace"
   ]
  },
  {
   "cell_type": "markdown",
   "metadata": {},
   "source": [
    "## Example Results"
   ]
  },
  {
   "cell_type": "markdown",
   "metadata": {},
   "source": [
    "Here we test the `NeuralNetwork` class with some simple data.  \n"
   ]
  },
  {
   "cell_type": "code",
   "execution_count": 2,
   "metadata": {
    "ExecuteTime": {
     "end_time": "2022-10-04T16:45:19.796891Z",
     "start_time": "2022-10-04T16:45:19.792940Z"
    }
   },
   "outputs": [],
   "source": [
    "import numpy as np\n",
    "import matplotlib.pyplot as plt\n",
    "%matplotlib inline\n",
    "\n",
    "import neuralnetworkA3 as nn  # Your file produced from the above code cell.\n"
   ]
  },
  {
   "cell_type": "code",
   "execution_count": 3,
   "metadata": {
    "ExecuteTime": {
     "end_time": "2022-10-04T16:45:20.543559Z",
     "start_time": "2022-10-04T16:45:20.505942Z"
    }
   },
   "outputs": [
    {
     "name": "stdout",
     "output_type": "stream",
     "text": [
      "sgd: Epoch 1 RMSE=1.00005\n"
     ]
    },
    {
     "data": {
      "text/plain": [
       "[array([[-1.51603124e-07,  9.99801782e-04],\n",
       "        [ 2.00719909e-03,  3.00940664e-03]]),\n",
       " array([[0.00398889, 0.00498788],\n",
       "        [0.00600106, 0.00700115],\n",
       "        [0.00800157, 0.00900172]]),\n",
       " array([[0.00898958],\n",
       "        [0.01099768],\n",
       "        [0.01199691]])]"
      ]
     },
     "execution_count": 3,
     "metadata": {},
     "output_type": "execute_result"
    }
   ],
   "source": [
    "X = np.arange(0, 2, 0.5).reshape(-1, 1)\n",
    "T = np.sin(X) * np.sin(X * 10)\n",
    "\n",
    "nnet = nn.NeuralNetwork(X.shape[1], [2, 2], 1)\n",
    "    \n",
    "# Set all weights here to allow comparison of your calculations\n",
    "# Must use [:] to overwrite values in all_weights.\n",
    "# Without [:], new array is assigned to self.all_weights, so self.Ws no longer refer to same memory\n",
    "nnet.all_weights[:] = np.arange(len(nnet.all_weights)) * 0.001\n",
    "\n",
    "nnet.train(X, T, n_epochs=1, method='sgd', learning_rate=0.1)\n",
    "\n",
    "nnet.Ws"
   ]
  },
  {
   "cell_type": "code",
   "execution_count": 4,
   "metadata": {
    "ExecuteTime": {
     "end_time": "2022-10-04T16:45:21.218607Z",
     "start_time": "2022-10-04T16:45:21.213431Z"
    }
   },
   "outputs": [
    {
     "data": {
      "text/plain": [
       "[array([[-1.34164079],\n",
       "        [-0.4472136 ],\n",
       "        [ 0.4472136 ],\n",
       "        [ 1.34164079]]),\n",
       " array([[-0.00268328, -0.00302491],\n",
       "        [-0.00089443, -0.00034164],\n",
       "        [ 0.00089443,  0.00234164],\n",
       "        [ 0.00268328,  0.00502488]]),\n",
       " array([[0.00395968, 0.00495395],\n",
       "        [0.00399188, 0.00499062],\n",
       "        [0.00402408, 0.00502729],\n",
       "        [0.00405628, 0.00506396]]),\n",
       " array([[0.010103  ],\n",
       "        [0.0101038 ],\n",
       "        [0.01010459],\n",
       "        [0.01010539]])]"
      ]
     },
     "execution_count": 4,
     "metadata": {},
     "output_type": "execute_result"
    }
   ],
   "source": [
    "nnet.Zs"
   ]
  },
  {
   "cell_type": "code",
   "execution_count": 5,
   "metadata": {
    "ExecuteTime": {
     "end_time": "2022-10-04T16:45:21.777963Z",
     "start_time": "2022-10-04T16:45:21.773479Z"
    }
   },
   "outputs": [
    {
     "data": {
      "text/plain": [
       "[array([[ 1.51603124e-06,  1.98217653e-06],\n",
       "        [-7.19909102e-05, -9.40663907e-05]]),\n",
       " array([[ 1.11145896e-04,  1.21249680e-04],\n",
       "        [-1.05587719e-05, -1.15185542e-05],\n",
       "        [-1.57268813e-05, -1.71564392e-05]]),\n",
       " array([[1.01041953e-02],\n",
       "        [2.32194989e-05],\n",
       "        [3.09340617e-05]])]"
      ]
     },
     "execution_count": 5,
     "metadata": {},
     "output_type": "execute_result"
    }
   ],
   "source": [
    "nnet.Grads"
   ]
  },
  {
   "cell_type": "code",
   "execution_count": 6,
   "metadata": {
    "ExecuteTime": {
     "end_time": "2022-10-04T16:45:22.129760Z",
     "start_time": "2022-10-04T16:45:22.125177Z"
    }
   },
   "outputs": [
    {
     "data": {
      "text/plain": [
       "array([[-0.06308723],\n",
       "       [-0.06308687],\n",
       "       [-0.06308651],\n",
       "       [-0.06308615]])"
      ]
     },
     "execution_count": 6,
     "metadata": {},
     "output_type": "execute_result"
    }
   ],
   "source": [
    "Y = nnet.use(X)\n",
    "Y"
   ]
  },
  {
   "cell_type": "code",
   "execution_count": 7,
   "metadata": {
    "ExecuteTime": {
     "end_time": "2022-10-04T16:45:30.324775Z",
     "start_time": "2022-10-04T16:45:22.541858Z"
    },
    "scrolled": true
   },
   "outputs": [
    {
     "name": "stdout",
     "output_type": "stream",
     "text": [
      "\n",
      "=========================================\n",
      "method is sgd and rho is 0.05\n",
      "=========================================\n",
      "\n",
      "sgd: Epoch 1000 RMSE=1.00000\n",
      "sgd: Epoch 2000 RMSE=1.00000\n",
      "sgd: Epoch 3000 RMSE=0.99539\n",
      "sgd: Epoch 4000 RMSE=0.97261\n",
      "sgd: Epoch 5000 RMSE=0.68183\n",
      "sgd: Epoch 6000 RMSE=0.55867\n",
      "sgd: Epoch 7000 RMSE=0.54350\n",
      "sgd: Epoch 8000 RMSE=0.43648\n",
      "sgd: Epoch 9000 RMSE=0.40725\n",
      "sgd: Epoch 10000 RMSE=0.39496\n",
      "\n",
      "=========================================\n",
      "method is adam and rho is 0.02\n",
      "=========================================\n",
      "\n",
      "Adam: Epoch 1000 RMSE=0.83076\n",
      "Adam: Epoch 2000 RMSE=0.64693\n",
      "Adam: Epoch 3000 RMSE=0.64615\n",
      "Adam: Epoch 4000 RMSE=0.64569\n",
      "Adam: Epoch 5000 RMSE=0.64550\n",
      "Adam: Epoch 6000 RMSE=0.64539\n",
      "Adam: Epoch 7000 RMSE=0.64538\n",
      "Adam: Epoch 8000 RMSE=0.64527\n",
      "Adam: Epoch 9000 RMSE=0.64523\n",
      "Adam: Epoch 10000 RMSE=0.64520\n",
      "\n",
      "=========================================\n",
      "method is scg and rho is None\n",
      "=========================================\n",
      "\n",
      "SCG: Iteration 1000 RMSE=0.64484\n",
      "SCG: Iteration 2000 RMSE=0.46839\n",
      "SCG: Iteration 3000 RMSE=0.45866\n",
      "SCG: Iteration 4000 RMSE=0.45423\n",
      "SCG: Iteration 5000 RMSE=0.30724\n",
      "SCG: Iteration 6000 RMSE=0.28793\n",
      "SCG: Iteration 7000 RMSE=0.28371\n",
      "SCG: Iteration 8000 RMSE=0.28102\n",
      "SCG: Iteration 9000 RMSE=0.27964\n",
      "SCG: Iteration 10000 RMSE=0.27793\n"
     ]
    },
    {
     "data": {
      "image/png": "[encoded data removed]",
      "text/plain": [
       "<Figure size 432x288 with 1 Axes>"
      ]
     },
     "metadata": {
      "needs_background": "light"
     },
     "output_type": "display_data"
    }
   ],
   "source": [
    "X = np.arange(0, 2, 0.05).reshape(-1, 1)\n",
    "T = np.sin(X) * np.sin(X * 10)\n",
    "\n",
    "n_epochs = 10000\n",
    "method_rhos = [('sgd', 0.05),\n",
    "               ('adam', 0.02),\n",
    "               ('scg', None)]\n",
    "errors = []\n",
    "for method, rho in method_rhos:\n",
    "    \n",
    "    print('\\n=========================================')\n",
    "    print(f'method is {method} and rho is {rho}')\n",
    "    print('=========================================\\n')\n",
    "\n",
    "    nnet = nn.NeuralNetwork(X.shape[1], [2, 2], 1)\n",
    "    \n",
    "    # Set all weights here to allow comparison of your calculations\n",
    "    # Must use [:] to overwrite values in all_weights.\n",
    "    # Without [:], new array is assigned to self.all_weights, so self.Ws no longer refer to same memory\n",
    "    nnet.all_weights[:] = np.arange(len(nnet.all_weights)) * 0.001\n",
    "    \n",
    "    nnet.train(X, T, n_epochs, method=method, learning_rate=rho)\n",
    "    Y = nnet.use(X)\n",
    "    errors.append(nnet.get_performance_trace())\n",
    "    plt.plot(X, Y, 'o-', label='Model ' + method)\n",
    "\n",
    "plt.plot(X, T, 'o', label='Train')\n",
    "plt.xlabel('X')\n",
    "plt.ylabel('T or Y')\n",
    "plt.legend();"
   ]
  },
  {
   "cell_type": "code",
   "execution_count": 8,
   "metadata": {
    "ExecuteTime": {
     "end_time": "2022-10-04T16:45:33.143863Z",
     "start_time": "2022-10-04T16:45:32.997248Z"
    },
    "scrolled": true
   },
   "outputs": [
    {
     "data": {
      "image/png": "[encoded data removed]",
      "text/plain": [
       "<Figure size 432x288 with 1 Axes>"
      ]
     },
     "metadata": {
      "needs_background": "light"
     },
     "output_type": "display_data"
    }
   ],
   "source": [
    "for error_trace in errors:\n",
    "    plt.plot(error_trace)\n",
    "plt.xlabel('Epoch')\n",
    "plt.ylabel('Standardized error')\n",
    "plt.legend([mr[0] for mr in method_rhos]);"
   ]
  },
  {
   "cell_type": "markdown",
   "metadata": {},
   "source": [
    "## Application to Seoul Bike Sharing Demand Data"
   ]
  },
  {
   "cell_type": "markdown",
   "metadata": {},
   "source": [
    "Download data from [bike-sharing.csv](https://www.cs.colostate.edu/~anderson/cs545/notebooks/bike-sharing.csv).  This is data modified very slightly from [UC Irvine ML Repo](https://archive-beta.ics.uci.edu/ml/datasets/seoul+bike+sharing+demand#Abstract). Read it into python using the `pandas.read_csv` function.  Assign `X` and `T` as shown."
   ]
  },
  {
   "cell_type": "code",
   "execution_count": 9,
   "metadata": {},
   "outputs": [],
   "source": [
    "import numpy as np\n",
    "import matplotlib.pyplot as plt\n",
    "%matplotlib inline\n",
    "import IPython.display as ipd  # for display and clear_output\n",
    "import time"
   ]
  },
  {
   "cell_type": "code",
   "execution_count": 10,
   "metadata": {
    "ExecuteTime": {
     "end_time": "2022-09-26T19:58:44.046733Z",
     "start_time": "2022-09-26T19:58:44.028808Z"
    }
   },
   "outputs": [
    {
     "data": {
      "text/plain": [
       "((8760, 9), (8760, 1))"
      ]
     },
     "execution_count": 10,
     "metadata": {},
     "output_type": "execute_result"
    }
   ],
   "source": [
    "import pandas\n",
    "\n",
    "data = pandas.read_csv('SeoulBikeData.csv')\n",
    "T = data['Rented Bike Count'].to_numpy().reshape(-1, 1)\n",
    "X = data[['Hour', 'Temperature(C)', 'Humidity(%)',\n",
    "          'Wind speed (m/s)', 'Visibility (10m)', 'Dew point temperature(C)',\n",
    "          'Solar Radiation (MJ/m2)', 'Rainfall(mm)', 'Snowfall (cm)']].to_numpy()\n",
    "X.shape, T.shape"
   ]
  },
  {
   "cell_type": "markdown",
   "metadata": {},
   "source": [
    "Before training your neural networks, partition the data into training and testing partitions, as shown here."
   ]
  },
  {
   "cell_type": "code",
   "execution_count": 11,
   "metadata": {
    "ExecuteTime": {
     "end_time": "2022-09-26T20:00:24.398042Z",
     "start_time": "2022-09-26T20:00:24.393672Z"
    }
   },
   "outputs": [],
   "source": [
    "def partition(X, T, train_fraction):\n",
    "    n_samples = X.shape[0]\n",
    "    rows = np.arange(n_samples)\n",
    "    np.random.shuffle(rows)\n",
    "\n",
    "    n_train = round(n_samples * train_fraction)\n",
    "\n",
    "    Xtrain = X[rows[:n_train], :]\n",
    "    Ttrain = T[rows[:n_train], :]\n",
    "    Xtest = X[rows[n_train:], :]\n",
    "    Ttest = T[rows[n_train:], :]\n",
    "\n",
    "    return Xtrain, Ttrain, Xtest, Ttest\n",
    "\n",
    "def rmse(T, Y):\n",
    "    return np.sqrt(np.mean((T - Y)**2))"
   ]
  },
  {
   "cell_type": "code",
   "execution_count": 12,
   "metadata": {
    "ExecuteTime": {
     "end_time": "2022-09-26T20:00:42.161943Z",
     "start_time": "2022-09-26T20:00:42.157094Z"
    }
   },
   "outputs": [
    {
     "data": {
      "text/plain": [
       "((7008, 9), (7008, 1), (1752, 9), (1752, 1))"
      ]
     },
     "execution_count": 12,
     "metadata": {},
     "output_type": "execute_result"
    }
   ],
   "source": [
    "# Assuming you have assigned `X` and `T` correctly.\n",
    "\n",
    "Xtrain, Ttrain, Xtest, Ttest = partition(X, T, 0.8)\n",
    "\n",
    "Xtrain.shape, Ttrain.shape, Xtest.shape, Ttest.shape"
   ]
  },
  {
   "cell_type": "code",
   "execution_count": 13,
   "metadata": {},
   "outputs": [
    {
     "name": "stdout",
     "output_type": "stream",
     "text": [
      "\n",
      "=========================================\n",
      "method is sgd and rho is 0.05\n",
      "=========================================\n",
      "\n",
      "sgd: Epoch 10 RMSE=0.99999\n",
      "sgd: Epoch 20 RMSE=0.99997\n",
      "sgd: Epoch 30 RMSE=0.99994\n",
      "sgd: Epoch 40 RMSE=0.99988\n",
      "sgd: Epoch 50 RMSE=0.99978\n",
      "sgd: Epoch 60 RMSE=0.99956\n",
      "sgd: Epoch 70 RMSE=0.99899\n",
      "sgd: Epoch 80 RMSE=0.99716\n",
      "sgd: Epoch 90 RMSE=0.98913\n",
      "sgd: Epoch 100 RMSE=0.93742\n",
      "\n",
      "=========================================\n",
      "method is adam and rho is 0.02\n",
      "=========================================\n",
      "\n",
      "Adam: Epoch 10 RMSE=0.96850\n",
      "Adam: Epoch 20 RMSE=0.81084\n",
      "Adam: Epoch 30 RMSE=0.72163\n",
      "Adam: Epoch 40 RMSE=0.70916\n",
      "Adam: Epoch 50 RMSE=0.70479\n",
      "Adam: Epoch 60 RMSE=0.69860\n",
      "Adam: Epoch 70 RMSE=0.69576\n",
      "Adam: Epoch 80 RMSE=0.69390\n",
      "Adam: Epoch 90 RMSE=0.68978\n",
      "Adam: Epoch 100 RMSE=0.67562\n",
      "\n",
      "=========================================\n",
      "method is scg and rho is None\n",
      "=========================================\n",
      "\n",
      "SCG: Iteration 10 RMSE=0.73312\n",
      "SCG: Iteration 20 RMSE=0.69564\n",
      "SCG: Iteration 30 RMSE=0.67172\n",
      "SCG: Iteration 40 RMSE=0.65201\n",
      "SCG: Iteration 50 RMSE=0.63367\n",
      "SCG: Iteration 60 RMSE=0.62424\n",
      "SCG: Iteration 70 RMSE=0.62017\n",
      "SCG: Iteration 80 RMSE=0.61344\n",
      "SCG: Iteration 90 RMSE=0.61123\n",
      "SCG: Iteration 100 RMSE=0.61080\n"
     ]
    }
   ],
   "source": [
    "n_epochs = 100\n",
    "method_rhos = [('sgd', 0.05),\n",
    "               ('adam', 0.02),\n",
    "               ('scg', None)]\n",
    "errors = []\n",
    "for method, rho in method_rhos:\n",
    "    \n",
    "    print('\\n=========================================')\n",
    "    print(f'method is {method} and rho is {rho}')\n",
    "    print('=========================================\\n')\n",
    "\n",
    "    nnet = nn.NeuralNetwork(X.shape[1], [2, 2], 1)\n",
    "    \n",
    "    # Set all weights here to allow comparison of your calculations\n",
    "    # Must use [:] to overwrite values in all_weights.\n",
    "    # Without [:], new array is assigned to self.all_weights, so self.Ws no longer refer to same memory\n",
    "    nnet.all_weights[:] = np.arange(len(nnet.all_weights)) * 0.001\n",
    "    \n",
    "    nnet.train(Xtrain, Ttrain, n_epochs, method=method, learning_rate=rho)\n",
    "    Y = nnet.use(Xtrain)\n",
    "    errors.append(nnet.get_performance_trace() * nnet.T_stds)"
   ]
  },
  {
   "cell_type": "code",
   "execution_count": 14,
   "metadata": {},
   "outputs": [
    {
     "data": {
      "image/png": "[encoded data removed]",
      "text/plain": [
       "<Figure size 432x288 with 1 Axes>"
      ]
     },
     "metadata": {
      "needs_background": "light"
     },
     "output_type": "display_data"
    }
   ],
   "source": [
    "for error_trace in errors:\n",
    "    plt.plot(error_trace)\n",
    "plt.xlabel('Epoch')\n",
    "plt.ylabel('Standardized error')\n",
    "plt.legend([mr[0] for mr in method_rhos]);"
   ]
  },
  {
   "cell_type": "markdown",
   "metadata": {},
   "source": [
    "Write and run code using your `NeuralNetwork` class to model the Seoul bike sharing data. Experiment with all three optimization methods and a variety of neural network structures (numbers of hidden layer and units), learning rates, and numbers of epochs. Show results for at least three different network structures, learning rates, and numbers of epochs for each method.  Show your results in a pandas DataFrame with columns `('Method', 'Structure', 'Epochs', 'Learning Rate', 'Train RMSE', 'Test RMSE')`, where `Train RMSE` and `Test RMSE` are unstandardized errors. \n",
    "\n",
    "Use the `pandas` functions `sort_values` and `head` to show the top 20 best results, with \"best\" being the lowest `Test RMSE`.\n",
    "\n",
    "Try to find good values for the RMSE on testing data.  Discuss your results, including how good you think the RMSE values are by considering the range of bike sharing counts given in the data. "
   ]
  },
  {
   "cell_type": "code",
   "execution_count": 15,
   "metadata": {
    "scrolled": false
   },
   "outputs": [
    {
     "name": "stdout",
     "output_type": "stream",
     "text": [
      "   Method        Structure  Epochs  Learning Rate  Train RMSE   Test RMSE\n",
      "71    scg       [10, 5, 3]    1000          0.001  315.035650  303.467357\n",
      "70    scg       [10, 5, 3]    1000          0.010  315.035650  303.467357\n",
      "69    scg       [10, 5, 3]    1000          0.100  315.035650  303.467357\n",
      "42   adam       [10, 5, 3]    1000          0.100  314.931806  312.747869\n",
      "43   adam       [10, 5, 3]    1000          0.010  330.765938  320.108901\n",
      "15    sgd       [10, 5, 3]    1000          0.100  347.428955  333.031385\n",
      "68    scg       [10, 5, 3]     100          0.001  380.661125  358.723754\n",
      "67    scg       [10, 5, 3]     100          0.010  380.661125  358.723754\n",
      "66    scg       [10, 5, 3]     100          0.100  380.661125  358.723754\n",
      "39   adam       [10, 5, 3]     100          0.100  368.281866  360.520657\n",
      "44   adam       [10, 5, 3]    1000          0.001  437.580813  409.724368\n",
      "16    sgd       [10, 5, 3]    1000          0.010  450.993305  422.625532\n",
      "63    scg       [10, 5, 3]      20          0.100  451.437385  423.621086\n",
      "64    scg       [10, 5, 3]      20          0.010  451.437385  423.621086\n",
      "65    scg       [10, 5, 3]      20          0.001  451.437385  423.621086\n",
      "33   adam  [50, 20, 10, 3]    1000          0.100  449.546387  423.686445\n",
      "40   adam       [10, 5, 3]     100          0.010  451.146615  423.979120\n",
      "12    sgd       [10, 5, 3]     100          0.100  452.077380  424.551911\n",
      "73    scg               []      20          0.010  474.322245  448.933695\n",
      "74    scg               []      20          0.001  474.322245  448.933695\n"
     ]
    }
   ],
   "source": [
    "def rmse(Y, T):\n",
    "    return np.sqrt(np.mean((T - Y)**2))\n",
    "\n",
    "n_inputs = Xtrain.shape[1]\n",
    "n_outputs = Ttrain.shape[1]\n",
    "\n",
    "df = pandas.DataFrame(columns=('Method','Structure', 'Epochs', 'Learning Rate', \n",
    "                                           'Train RMSE', 'Test RMSE'))\n",
    "methods = ['sgd','adam','scg']\n",
    "results = []\n",
    "for method in methods:\n",
    "    for hiddens in [[50,20,10,3], [10,5,3], []]:\n",
    "        for epochs in [20, 100, 1000]:\n",
    "            for lr in [0.1,0.01,0.001]:\n",
    "                nnet = nn.NeuralNetwork(n_inputs, hiddens, n_outputs)\n",
    "                nnet.all_weights[:] = np.arange(len(nnet.all_weights)) * 0.001\n",
    "                nnet.train(Xtrain, Ttrain, epochs, method=method, learning_rate=lr)\n",
    "                rmse_train = rmse(nnet.use(Xtrain), Ttrain)\n",
    "                rmse_test = rmse(nnet.use(Xtest), Ttest)\n",
    "                results.append([method, hiddens, epochs, lr, rmse_train, rmse_test])\n",
    "            \n",
    "                df = pandas.DataFrame(results, \n",
    "                                  columns=('Method','Structure', 'Epochs', 'Learning Rate', \n",
    "                                           'Train RMSE', 'Test RMSE'))\n",
    "                ipd.clear_output(wait=True)\n",
    "\n",
    "                print(df.sort_values(by='Test RMSE', ascending=True).head(20))"
   ]
  },
  {
   "cell_type": "code",
   "execution_count": 16,
   "metadata": {},
   "outputs": [],
   "source": [
    "rmse_col = df['Test RMSE'].to_numpy().reshape(-1, 1)"
   ]
  },
  {
   "cell_type": "code",
   "execution_count": 17,
   "metadata": {},
   "outputs": [
    {
     "data": {
      "text/plain": [
       "303.4673571271383"
      ]
     },
     "execution_count": 17,
     "metadata": {},
     "output_type": "execute_result"
    }
   ],
   "source": [
    "min_rmse = rmse_col.min()\n",
    "min_rmse"
   ]
  },
  {
   "cell_type": "code",
   "execution_count": 18,
   "metadata": {
    "scrolled": true
   },
   "outputs": [
    {
     "data": {
      "text/plain": [
       "0.08533952675116376"
      ]
     },
     "execution_count": 18,
     "metadata": {},
     "output_type": "execute_result"
    }
   ],
   "source": [
    "min_rmse/(Ttrain.max()-Ttrain.min())"
   ]
  },
  {
   "cell_type": "code",
   "execution_count": 19,
   "metadata": {},
   "outputs": [
    {
     "name": "stdout",
     "output_type": "stream",
     "text": [
      "   Method Structure  Epochs  Learning Rate  Train RMSE   Test RMSE\n",
      "27   adam        []     100          0.200  474.354645  448.932916\n",
      "59    scg        []    5000          0.200  474.322245  448.933695\n",
      "58    scg        []    5000          0.100  474.322245  448.933695\n",
      "44    scg        []     100          0.001  474.322245  448.933695\n",
      "45    scg        []     100          0.010  474.322245  448.933695\n",
      "46    scg        []     100          0.100  474.322245  448.933695\n",
      "47    scg        []     100          0.200  474.322245  448.933695\n",
      "48    scg        []     500          0.001  474.322245  448.933695\n",
      "50    scg        []     500          0.100  474.322245  448.933695\n",
      "51    scg        []     500          0.200  474.322245  448.933695\n",
      "49    scg        []     500          0.010  474.322245  448.933695\n",
      "55    scg        []    1000          0.200  474.322245  448.933695\n",
      "54    scg        []    1000          0.100  474.322245  448.933695\n",
      "53    scg        []    1000          0.010  474.322245  448.933695\n",
      "57    scg        []    5000          0.010  474.322245  448.933695\n",
      "52    scg        []    1000          0.001  474.322245  448.933695\n",
      "56    scg        []    5000          0.001  474.322245  448.933695\n",
      "35   adam        []    1000          0.200  474.322245  448.933695\n",
      "19    sgd        []    5000          0.200  474.322245  448.933695\n",
      "18    sgd        []    5000          0.100  474.322245  448.933695\n"
     ]
    }
   ],
   "source": [
    "def rmse(Y, T):\n",
    "    return np.sqrt(np.mean((T - Y)**2))\n",
    "\n",
    "n_inputs = Xtrain.shape[1]\n",
    "n_outputs = Ttrain.shape[1]\n",
    "\n",
    "df = pandas.DataFrame(columns=('Method','Structure', 'Epochs', 'Learning Rate', \n",
    "                                           'Train RMSE', 'Test RMSE'))\n",
    "methods = ['sgd','adam','scg']\n",
    "results = []\n",
    "for method in methods:\n",
    "    for hiddens in [ [] ]:\n",
    "        for epochs in [10, 100, 500, 1000, 5000]:\n",
    "            for lr in [0.001, 0.01, 0.1, 0.2]:\n",
    "                nnet = nn.NeuralNetwork(n_inputs, hiddens, n_outputs)\n",
    "                nnet.all_weights[:] = np.arange(len(nnet.all_weights)) * 0.001\n",
    "                nnet.train(Xtrain, Ttrain, epochs, method=method, learning_rate=lr)\n",
    "                rmse_train = rmse(nnet.use(Xtrain), Ttrain)\n",
    "                rmse_test = rmse(nnet.use(Xtest), Ttest)\n",
    "                results.append([method, hiddens, epochs, lr, rmse_train, rmse_test])\n",
    "            \n",
    "                df = pandas.DataFrame(results, \n",
    "                                  columns=('Method','Structure', 'Epochs', 'Learning Rate', \n",
    "                                           'Train RMSE', 'Test RMSE'))\n",
    "                ipd.clear_output(wait=True)\n",
    "\n",
    "                print(df.sort_values(by='Test RMSE', ascending=True).head(20))"
   ]
  },
  {
   "cell_type": "markdown",
   "metadata": {},
   "source": [
    "The best Test RMSE achieved is 303.4. his is only about 8% of the target range. This was for the largest network tried 'sgd', hidden layers ([10, 5, 3]), 1,000 epochs, and learning rate of 0.001."
   ]
  },
  {
   "cell_type": "markdown",
   "metadata": {},
   "source": [
    "We discovered that decreasing the learning rate while increasing the number of epochs and hidden layers led to a decrease in the RMSE when the neural network was optimized using SGD. Additionally, the RMSE for testing and training was similar."
   ]
  },
  {
   "cell_type": "markdown",
   "metadata": {},
   "source": [
    "The RMSE for the training dataset was found to be reduced by decreasing the learning rate while increasing the number of epochs and hidden layers; however, the RMSE for the testing dataset initially decreased and subsequently increased. Additionally, the RMSE for training and testing were initially comparable when the number of hidden layers was low, but as we increased the number of hidden layers and units in each layer, as well as decreased the learning rate and increased the number of epochs, the difference between the RMSE for training and testing grew."
   ]
  },
  {
   "cell_type": "markdown",
   "metadata": {},
   "source": [
    "The RMSE for the training dataset was found to be reduced by decreasing the learning rate while increasing the number of epochs, hidden layers, and units in each hidden layer; however, the RMSE for the testing dataset increased. As we increased the number of hidden layers and units in each layer, as well as decreased the learning rate and increased the number of epochs, the RMSE for training and testing became increasingly different from each other. This difference was first noticeable when the number of hidden layers was low."
   ]
  },
  {
   "cell_type": "markdown",
   "metadata": {},
   "source": [
    "Linear networks (with no hidden units) did not get lower than about 448.9 Test RMSE, for adam optimiser, the highest number of epochs tested (100) and highest learning rate tested (0.2)."
   ]
  },
  {
   "cell_type": "markdown",
   "metadata": {},
   "source": [
    "# Grading\n",
    "\n",
    "Your notebook will be run and graded automatically. Test this grading process by first downloading [A3grader.tar](http://www.cs.colostate.edu/~anderson/cs545/notebooks/A3grader.tar) and extract `A3grader.py` from it. Run the code in the following cell to demonstrate an example grading session. As always, a different, but similar, grading script will be used to grade your checked-in notebook. It will include additional tests. You should design and perform additional tests on all of your functions to be sure they run correctly before checking in your notebook.  \n",
    "\n",
    "For the grading script to run correctly, you must first name this notebook as 'Lastname-A3.ipynb' with 'Lastname' being your last name, and then save this notebook. Check in your notebook in Canvas."
   ]
  },
  {
   "cell_type": "code",
   "execution_count": 20,
   "metadata": {
    "ExecuteTime": {
     "end_time": "2022-10-04T16:48:25.413736Z",
     "start_time": "2022-10-04T16:47:53.770010Z"
    },
    "scrolled": false
   },
   "outputs": [
    {
     "name": "stdout",
     "output_type": "stream",
     "text": [
      "\n",
      "======================= Code Execution =======================\n",
      "\n",
      "Extracting python code from notebook named 'Podder-A3.ipynb' and storing in notebookcode.py\n"
     ]
    },
    {
     "name": "stderr",
     "output_type": "stream",
     "text": [
      "[NbConvertApp] Converting notebook Podder-A3.ipynb to script\n"
     ]
    },
    {
     "name": "stdout",
     "output_type": "stream",
     "text": [
      "Removing all statements that are not function or class defs or import statements.\n",
      "\n",
      "Testing\n",
      "\n",
      "    import neuralnetworkA3 as nn\n",
      "\n",
      "    n_inputs = 3\n",
      "    n_hiddens = [5, 10, 20]\n",
      "    n_outputs = 2\n",
      "    n_samples = 10\n",
      "\n",
      "    X = np.arange(n_samples * n_inputs).reshape(n_samples, n_inputs) * 0.1\n",
      "    \n",
      "    nnet = nn.NeuralNetwork(n_inputs, n_hiddens, n_outputs)\n",
      "    nnet.all_weights[:] = 0.1  # set all weights to 0.1\n",
      "    nnet.X_means = np.mean(X, axis=0)\n",
      "    nnet.X_stds = np.std(X, axis=0)\n",
      "    nnet.T_means = np.zeros((n_samples, n_outputs))\n",
      "    nnet.T_stds = np.ones((n_samples, n_outputs))\n",
      "    \n",
      "    Y = nnet.use(X)\n",
      "\n",
      "\n",
      "--- 40/40 points. Returned correct value.\n",
      "\n",
      "Testing\n",
      "    n_inputs = 3\n",
      "    n_hiddens = [6, 3]\n",
      "    n_samples = 5\n",
      "\n",
      "    X = np.arange(n_samples * n_inputs).reshape(n_samples, n_inputs) * 0.1\n",
      "    T = np.log(X + 0.1)\n",
      "    n_outputs = T.shape[1]\n",
      "    \n",
      "    def rmse(A, B):\n",
      "        return np.sqrt(np.mean((A - B)**2))\n",
      "\n",
      "    results = []\n",
      "    for rep in range(20):\n",
      "        nnet = nn.NeuralNetwork(n_inputs, n_hiddens, n_outputs)\n",
      "        nnet.train(X, T, 5000, 'adam', 0.001, verbose=False)\n",
      "        Y = nnet.use(X)\n",
      "        err = rmse(Y, T)\n",
      "        print(f'Net {rep+1} RMSE {err:.5f}')\n",
      "        results.append(err)\n",
      "\n",
      "    mean_rmse = np.mean(results)\n",
      "    print(mean_rmse)\n",
      "\n",
      "Net 1 RMSE 0.00254\n",
      "Net 2 RMSE 0.00122\n",
      "Net 3 RMSE 0.00326\n",
      "Net 4 RMSE 0.00239\n",
      "Net 5 RMSE 0.00262\n",
      "Net 6 RMSE 0.00143\n",
      "Net 7 RMSE 0.00287\n",
      "Net 8 RMSE 0.00101\n",
      "Net 9 RMSE 0.00222\n",
      "Net 10 RMSE 0.00184\n",
      "Net 11 RMSE 0.00142\n",
      "Net 12 RMSE 0.00362\n",
      "Net 13 RMSE 0.00241\n",
      "Net 14 RMSE 0.00199\n",
      "Net 15 RMSE 0.00284\n",
      "Net 16 RMSE 0.00265\n",
      "Net 17 RMSE 0.00220\n",
      "Net 18 RMSE 0.00182\n",
      "Net 19 RMSE 0.00296\n",
      "Net 20 RMSE 0.00220\n",
      "0.0022753169050549376\n",
      "\n",
      "--- 20/20 points. Returned correct value.\n",
      "\n",
      "Testing\n",
      "    n_inputs = 3\n",
      "    n_hiddens = []\n",
      "    n_samples = 5\n",
      "\n",
      "    X = np.arange(n_samples * n_inputs).reshape(n_samples, n_inputs) * 0.1\n",
      "    T = np.log(X + 0.1)\n",
      "    n_outputs = T.shape[1]\n",
      "    \n",
      "    def rmse(A, B):\n",
      "        return np.sqrt(np.mean((A - B)**2))\n",
      "\n",
      "    results = []\n",
      "    for rep in range(20):\n",
      "        nnet = nn.NeuralNetwork(n_inputs, n_hiddens, n_outputs)\n",
      "        nnet.train(X, T, 5000, 'adam', 0.001, verbose=False)\n",
      "        Y = nnet.use(X)\n",
      "        err = rmse(Y, T)\n",
      "        print(f'Net {rep+1} RMSE {err:.5f}')\n",
      "        results.append(err)\n",
      "\n",
      "    mean_rmse = np.mean(results)\n",
      "    print(mean_rmse)\n",
      "\n",
      "Net 1 RMSE 0.22315\n",
      "Net 2 RMSE 0.22315\n",
      "Net 3 RMSE 0.22315\n",
      "Net 4 RMSE 0.22315\n",
      "Net 5 RMSE 0.22315\n",
      "Net 6 RMSE 0.22315\n",
      "Net 7 RMSE 0.22315\n",
      "Net 8 RMSE 0.22315\n",
      "Net 9 RMSE 0.22315\n",
      "Net 10 RMSE 0.22315\n",
      "Net 11 RMSE 0.22315\n",
      "Net 12 RMSE 0.22315\n",
      "Net 13 RMSE 0.22315\n",
      "Net 14 RMSE 0.22315\n",
      "Net 15 RMSE 0.22315\n",
      "Net 16 RMSE 0.22315\n",
      "Net 17 RMSE 0.22315\n",
      "Net 18 RMSE 0.22315\n",
      "Net 19 RMSE 0.22315\n",
      "Net 20 RMSE 0.22315\n",
      "0.223154023450084\n",
      "\n",
      "--- 20/20 points. Returned correct value.\n",
      "\n",
      "======================================================================\n",
      "A3-Update Execution Grade is 80 / 80\n",
      "======================================================================\n",
      "\n",
      "___ / 5 Correctly read in bike sharing data using pandas.read_csv.\n",
      "___ / 5 Correctly ran the required experiments.\n",
      "___ / 10 Correctly show resulting pandas DataFrame and discuss results.\n",
      "\n",
      "======================================================================\n",
      "A3-Update Experiments and Discussion Grade is __ / 20\n",
      "======================================================================\n",
      "\n",
      "======================================================================\n",
      "A3-Update FINAL GRADE is  _  / 100\n",
      "======================================================================\n",
      "\n",
      "Extra Credit:  Code and discussion showing most significant input features.\n",
      "\n",
      "\n",
      "A3-Update EXTRA CREDIT is 0 / 1\n"
     ]
    },
    {
     "data": {
      "text/plain": [
       "<Figure size 432x288 with 0 Axes>"
      ]
     },
     "metadata": {},
     "output_type": "display_data"
    }
   ],
   "source": [
    "%run -i A3grader.py"
   ]
  },
  {
   "cell_type": "markdown",
   "metadata": {},
   "source": [
    "# Extra Credit\n",
    "\n",
    "Using a network that gives you pretty good test RMSE results, try to figure out which input features are most significant in predicting the bike-share count.  Remember, that our neural networks is trained with standardized inputs, so you can compare the magnitudes of weights in the first layer to help you determine which inputs are most significant. \n",
    "\n",
    "To visualize the weights, try displaying the weights in the first layer as an image, with `plt.imshow` with `plt.colorbar()`. Discuss which weights have the largest magnitudes and discuss any patterns in see in the weights in each hidden unit of the first layer."
   ]
  },
  {
   "cell_type": "code",
   "execution_count": 21,
   "metadata": {},
   "outputs": [],
   "source": [
    "import pandas as pd\n",
    "data = pd.read_csv('boston.csv',usecols=range(14), na_values=None)"
   ]
  },
  {
   "cell_type": "code",
   "execution_count": 22,
   "metadata": {},
   "outputs": [
    {
     "data": {
      "text/html": [
       "<div>\n",
       "<style scoped>\n",
       "    .dataframe tbody tr th:only-of-type {\n",
       "        vertical-align: middle;\n",
       "    }\n",
       "\n",
       "    .dataframe tbody tr th {\n",
       "        vertical-align: top;\n",
       "    }\n",
       "\n",
       "    .dataframe thead th {\n",
       "        text-align: right;\n",
       "    }\n",
       "</style>\n",
       "<table border=\"1\" class=\"dataframe\">\n",
       "  <thead>\n",
       "    <tr style=\"text-align: right;\">\n",
       "      <th></th>\n",
       "      <th>CRIM</th>\n",
       "      <th>ZN</th>\n",
       "      <th>INDUS</th>\n",
       "      <th>CHAS</th>\n",
       "      <th>NOX</th>\n",
       "      <th>RM</th>\n",
       "      <th>AGE</th>\n",
       "      <th>DIS</th>\n",
       "      <th>RAD</th>\n",
       "      <th>TAX</th>\n",
       "      <th>PTRATIO</th>\n",
       "      <th>B</th>\n",
       "      <th>LSTAT</th>\n",
       "      <th>MEDV</th>\n",
       "    </tr>\n",
       "  </thead>\n",
       "  <tbody>\n",
       "    <tr>\n",
       "      <th>0</th>\n",
       "      <td>0.00632</td>\n",
       "      <td>18.0</td>\n",
       "      <td>2.31</td>\n",
       "      <td>0</td>\n",
       "      <td>0.538</td>\n",
       "      <td>6.575</td>\n",
       "      <td>65.2</td>\n",
       "      <td>4.0900</td>\n",
       "      <td>1</td>\n",
       "      <td>296.0</td>\n",
       "      <td>15.3</td>\n",
       "      <td>396.90</td>\n",
       "      <td>4.98</td>\n",
       "      <td>24.0</td>\n",
       "    </tr>\n",
       "    <tr>\n",
       "      <th>1</th>\n",
       "      <td>0.02731</td>\n",
       "      <td>0.0</td>\n",
       "      <td>7.07</td>\n",
       "      <td>0</td>\n",
       "      <td>0.469</td>\n",
       "      <td>6.421</td>\n",
       "      <td>78.9</td>\n",
       "      <td>4.9671</td>\n",
       "      <td>2</td>\n",
       "      <td>242.0</td>\n",
       "      <td>17.8</td>\n",
       "      <td>396.90</td>\n",
       "      <td>9.14</td>\n",
       "      <td>21.6</td>\n",
       "    </tr>\n",
       "    <tr>\n",
       "      <th>2</th>\n",
       "      <td>0.02729</td>\n",
       "      <td>0.0</td>\n",
       "      <td>7.07</td>\n",
       "      <td>0</td>\n",
       "      <td>0.469</td>\n",
       "      <td>7.185</td>\n",
       "      <td>61.1</td>\n",
       "      <td>4.9671</td>\n",
       "      <td>2</td>\n",
       "      <td>242.0</td>\n",
       "      <td>17.8</td>\n",
       "      <td>392.83</td>\n",
       "      <td>4.03</td>\n",
       "      <td>34.7</td>\n",
       "    </tr>\n",
       "    <tr>\n",
       "      <th>3</th>\n",
       "      <td>0.03237</td>\n",
       "      <td>0.0</td>\n",
       "      <td>2.18</td>\n",
       "      <td>0</td>\n",
       "      <td>0.458</td>\n",
       "      <td>6.998</td>\n",
       "      <td>45.8</td>\n",
       "      <td>6.0622</td>\n",
       "      <td>3</td>\n",
       "      <td>222.0</td>\n",
       "      <td>18.7</td>\n",
       "      <td>394.63</td>\n",
       "      <td>2.94</td>\n",
       "      <td>33.4</td>\n",
       "    </tr>\n",
       "    <tr>\n",
       "      <th>4</th>\n",
       "      <td>0.06905</td>\n",
       "      <td>0.0</td>\n",
       "      <td>2.18</td>\n",
       "      <td>0</td>\n",
       "      <td>0.458</td>\n",
       "      <td>7.147</td>\n",
       "      <td>54.2</td>\n",
       "      <td>6.0622</td>\n",
       "      <td>3</td>\n",
       "      <td>222.0</td>\n",
       "      <td>18.7</td>\n",
       "      <td>396.90</td>\n",
       "      <td>5.33</td>\n",
       "      <td>36.2</td>\n",
       "    </tr>\n",
       "  </tbody>\n",
       "</table>\n",
       "</div>"
      ],
      "text/plain": [
       "      CRIM    ZN  INDUS  CHAS    NOX     RM   AGE     DIS  RAD    TAX  \\\n",
       "0  0.00632  18.0   2.31     0  0.538  6.575  65.2  4.0900    1  296.0   \n",
       "1  0.02731   0.0   7.07     0  0.469  6.421  78.9  4.9671    2  242.0   \n",
       "2  0.02729   0.0   7.07     0  0.469  7.185  61.1  4.9671    2  242.0   \n",
       "3  0.03237   0.0   2.18     0  0.458  6.998  45.8  6.0622    3  222.0   \n",
       "4  0.06905   0.0   2.18     0  0.458  7.147  54.2  6.0622    3  222.0   \n",
       "\n",
       "   PTRATIO       B  LSTAT  MEDV  \n",
       "0     15.3  396.90   4.98  24.0  \n",
       "1     17.8  396.90   9.14  21.6  \n",
       "2     17.8  392.83   4.03  34.7  \n",
       "3     18.7  394.63   2.94  33.4  \n",
       "4     18.7  396.90   5.33  36.2  "
      ]
     },
     "execution_count": 22,
     "metadata": {},
     "output_type": "execute_result"
    }
   ],
   "source": [
    "data.head()"
   ]
  },
  {
   "cell_type": "code",
   "execution_count": 23,
   "metadata": {},
   "outputs": [
    {
     "data": {
      "text/plain": [
       "((506, 13), (506, 1))"
      ]
     },
     "execution_count": 23,
     "metadata": {},
     "output_type": "execute_result"
    }
   ],
   "source": [
    "X_data = pd.read_csv('boston.csv', usecols=range(13))\n",
    "T_data = data['MEDV']\n",
    "X = np.asarray(X_data)\n",
    "T = np.asarray(T_data).reshape(-1,1)\n",
    "X.shape,T.shape"
   ]
  },
  {
   "cell_type": "code",
   "execution_count": 24,
   "metadata": {},
   "outputs": [
    {
     "data": {
      "text/plain": [
       "((405, 13), (405, 1), (101, 13), (101, 1))"
      ]
     },
     "execution_count": 24,
     "metadata": {},
     "output_type": "execute_result"
    }
   ],
   "source": [
    "\n",
    "Xtrain, Ttrain, Xtest, Ttest = partition(X, T, 0.8)\n",
    "\n",
    "Xtrain.shape, Ttrain.shape, Xtest.shape, Ttest.shape"
   ]
  },
  {
   "cell_type": "code",
   "execution_count": 25,
   "metadata": {},
   "outputs": [
    {
     "name": "stdout",
     "output_type": "stream",
     "text": [
      "   Method   Structure  Epochs  Learning Rate  Train RMSE  Test RMSE\n",
      "43   adam  [10, 5, 3]    1000          0.010    1.670977   2.442058\n",
      "15    sgd  [10, 5, 3]    1000          0.100    1.930164   3.318623\n",
      "66    scg  [10, 5, 3]     100          0.100    2.775609   3.781305\n",
      "67    scg  [10, 5, 3]     100          0.010    2.775609   3.781305\n",
      "68    scg  [10, 5, 3]     100          0.001    2.775609   3.781305\n",
      "42   adam  [10, 5, 3]    1000          0.100    1.823084   3.889458\n",
      "69    scg  [10, 5, 3]    1000          0.100    1.080791   4.205679\n",
      "71    scg  [10, 5, 3]    1000          0.001    1.080791   4.205679\n",
      "70    scg  [10, 5, 3]    1000          0.010    1.080791   4.205679\n",
      "12    sgd  [10, 5, 3]     100          0.100    4.039260   4.491534\n",
      "39   adam  [10, 5, 3]     100          0.100    3.056495   4.518911\n",
      "16    sgd  [10, 5, 3]    1000          0.010    3.868521   4.523794\n",
      "44   adam  [10, 5, 3]    1000          0.001    4.236856   4.683833\n",
      "65    scg  [10, 5, 3]      20          0.001    4.182010   4.774166\n",
      "64    scg  [10, 5, 3]      20          0.010    4.182010   4.774166\n",
      "63    scg  [10, 5, 3]      20          0.100    4.182010   4.774166\n",
      "21    sgd          []     100          0.100    4.582977   5.143888\n",
      "48   adam          []     100          0.100    4.583025   5.144002\n",
      "80    scg          []    1000          0.001    4.582909   5.144873\n",
      "78    scg          []    1000          0.100    4.582909   5.144873\n"
     ]
    }
   ],
   "source": [
    "def rmse(Y, T):\n",
    "    return np.sqrt(np.mean((T - Y)**2))\n",
    "\n",
    "n_inputs = Xtrain.shape[1]\n",
    "n_outputs = Ttrain.shape[1]\n",
    "\n",
    "df = pandas.DataFrame(columns=('Method','Structure', 'Epochs', 'Learning Rate', \n",
    "                                           'Train RMSE', 'Test RMSE'))\n",
    "methods = ['sgd','adam','scg']\n",
    "results = []\n",
    "for method in methods:\n",
    "    for hiddens in [[50,20,10,3], [10,5,3], []]:\n",
    "        for epochs in [20, 100, 1000]:\n",
    "            for lr in [0.1,0.01,0.001]:\n",
    "                nnet = nn.NeuralNetwork(n_inputs, hiddens, n_outputs)\n",
    "                nnet.all_weights[:] = np.arange(len(nnet.all_weights)) * 0.001\n",
    "                nnet.train(Xtrain, Ttrain, epochs, method=method, learning_rate=lr)\n",
    "                rmse_train = rmse(nnet.use(Xtrain), Ttrain)\n",
    "                rmse_test = rmse(nnet.use(Xtest), Ttest)\n",
    "                results.append([method, hiddens, epochs, lr, rmse_train, rmse_test])\n",
    "            \n",
    "                df = pandas.DataFrame(results, \n",
    "                                  columns=('Method','Structure', 'Epochs', 'Learning Rate', \n",
    "                                           'Train RMSE', 'Test RMSE'))\n",
    "                ipd.clear_output(wait=True)\n",
    "\n",
    "                print(df.sort_values(by='Test RMSE', ascending=True).head(20))"
   ]
  },
  {
   "cell_type": "code",
   "execution_count": 26,
   "metadata": {},
   "outputs": [],
   "source": [
    "rmse_col = df['Test RMSE'].to_numpy().reshape(-1, 1)"
   ]
  },
  {
   "cell_type": "code",
   "execution_count": 27,
   "metadata": {},
   "outputs": [
    {
     "data": {
      "text/plain": [
       "2.4420575626758536"
      ]
     },
     "execution_count": 27,
     "metadata": {},
     "output_type": "execute_result"
    }
   ],
   "source": [
    "min_rmse = rmse_col.min()\n",
    "min_rmse"
   ]
  },
  {
   "cell_type": "code",
   "execution_count": 28,
   "metadata": {},
   "outputs": [
    {
     "data": {
      "text/plain": [
       "0.05426794583724119"
      ]
     },
     "execution_count": 28,
     "metadata": {},
     "output_type": "execute_result"
    }
   ],
   "source": [
    "min_rmse/(Ttrain.max()-Ttrain.min())"
   ]
  },
  {
   "cell_type": "markdown",
   "metadata": {},
   "source": [
    "The best Test RMSE achieved is 2.44. his is only about 5% of the target range. This was for the largest network tried 'sgd', hidden layers ([10, 5, 3]), 1,000 epochs, and learning rate of 0.01.\n",
    "\n"
   ]
  },
  {
   "cell_type": "code",
   "execution_count": null,
   "metadata": {},
   "outputs": [],
   "source": []
  }
 ],
 "metadata": {
  "kernelspec": {
   "display_name": "Python 3 (ipykernel)",
   "language": "python",
   "name": "python3"
  },
  "language_info": {
   "codemirror_mode": {
    "name": "ipython",
    "version": 3
   },
   "file_extension": ".py",
   "mimetype": "text/x-python",
   "name": "python",
   "nbconvert_exporter": "python",
   "pygments_lexer": "ipython3",
   "version": "3.9.12"
  },
  "toc": {
   "base_numbering": 1,
   "nav_menu": {},
   "number_sections": false,
   "sideBar": true,
   "skip_h1_title": true,
   "title_cell": "Table of Contents",
   "title_sidebar": "Contents",
   "toc_cell": true,
   "toc_position": {
    "height": "calc(100% - 180px)",
    "left": "10px",
    "top": "150px",
    "width": "512px"
   },
   "toc_section_display": true,
   "toc_window_display": false
  }
 },
 "nbformat": 4,
 "nbformat_minor": 4
}
