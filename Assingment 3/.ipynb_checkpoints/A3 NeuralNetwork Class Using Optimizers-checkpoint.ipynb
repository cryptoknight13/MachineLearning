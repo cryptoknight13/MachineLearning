{
 "cells": [
  {
   "cell_type": "markdown",
   "metadata": {},
   "source": [
    "# A3: NeuralNetwork Class"
   ]
  },
  {
   "cell_type": "markdown",
   "metadata": {
    "toc": true
   },
   "source": [
    "<h1>Table of Contents<span class=\"tocSkip\"></span></h1>\n",
    "<div class=\"toc\"><ul class=\"toc-item\"><li><span><a href=\"#Requirements\" data-toc-modified-id=\"Requirements-1\">Requirements</a></span></li><li><span><a href=\"#Code-for-NeuralNetwork-Class-Saved-in-File-neuralnetworkA3.py\" data-toc-modified-id=\"Code-for-NeuralNetwork-Class-Saved-in-File-neuralnetworkA3.py-2\">Code for <code>NeuralNetwork</code> Class Saved in File <code>neuralnetworkA3.py</code></a></span></li><li><span><a href=\"#Example-Results\" data-toc-modified-id=\"Example-Results-3\">Example Results</a></span></li><li><span><a href=\"#Application-to-Seoul-Bike-Sharing-Demand-Data\" data-toc-modified-id=\"Application-to-Seoul-Bike-Sharing-Demand-Data-4\">Application to Seoul Bike Sharing Demand Data</a></span></li></ul></div>"
   ]
  },
  {
   "cell_type": "markdown",
   "metadata": {},
   "source": [
    "## Requirements"
   ]
  },
  {
   "cell_type": "markdown",
   "metadata": {},
   "source": [
    "In this assignment, you will complete the implementation of the `NeuralNetwork` class, starting with the code included in the next code cell.  Your implementation must meet the requirements described in the doc-strings.\n",
    "\n",
    "Run the code in [05 Optimizers](https://www.cs.colostate.edu/~anderson/cs545/notebooks/05%20Optimizers.ipynb) to create the file `optimizers.py` for use in this assignment.\n",
    "\n",
    "Then apply your `NeuralNetwork` class to the problem of predicting the value of houses in Boston as described below."
   ]
  },
  {
   "cell_type": "markdown",
   "metadata": {},
   "source": [
    "## Code for `NeuralNetwork` Class Saved in File `neuralnetworkA3.py`"
   ]
  },
  {
   "cell_type": "code",
   "execution_count": null,
   "metadata": {},
   "outputs": [],
   "source": [
    "%%writefile neuralnetworkA3.py\n",
    "\n",
    "import numpy as np\n",
    "import optimizers as opt\n",
    "\n",
    "\n",
    "class NeuralNetwork():\n",
    "    \"\"\"\n",
    "    A class that represents a neural network for nonlinear regression.\n",
    "\n",
    "    Attributes\n",
    "    ----------\n",
    "    n_inputs : int\n",
    "        The number of values in each sample\n",
    "    n_hidden_units_by_layers : list of ints, or empty\n",
    "        The number of units in each hidden layer.\n",
    "        Its length specifies the number of hidden layers.\n",
    "    n_outputs : int\n",
    "        The number of units in output layer\n",
    "    all_weights : one-dimensional numpy array\n",
    "        Contains all weights of the network as a vector\n",
    "    Ws : list of two-dimensional numpy arrays\n",
    "        Contains matrices of weights in each layer,\n",
    "        as views into all_weights\n",
    "    all_gradients : one-dimensional numpy array\n",
    "        Contains all gradients of mean square error with\n",
    "        respect to each weight in the network as a vector\n",
    "    Grads : list of two-dimensional numpy arrays\n",
    "        Contains matrices of gradients weights in each layer,\n",
    "        as views into all_gradients\n",
    "    total_epochs : int\n",
    "        Total number of epochs trained so far\n",
    "    performance_trace : list of floats\n",
    "        Mean square error (unstandardized) after each epoch\n",
    "    n_epochs : int\n",
    "        Number of epochs trained so far\n",
    "    X_means : one-dimensional numpy array\n",
    "        Means of the components, or features, across samples\n",
    "    X_stds : one-dimensional numpy array\n",
    "        Standard deviations of the components, or features, across samples\n",
    "    T_means : one-dimensional numpy array\n",
    "        Means of the components of the targets, across samples\n",
    "    T_stds : one-dimensional numpy array\n",
    "        Standard deviations of the components of the targets, across samples\n",
    "        \n",
    "        \n",
    "    Methods\n",
    "    -------\n",
    "    make_weights_and_views(shapes)\n",
    "        Creates all initial weights and views for each layer\n",
    "\n",
    "    train(X, T, n_epochs, method='sgd', learning_rate=None, verbose=True)\n",
    "        Trains the network using input and target samples by rows in X and T\n",
    "\n",
    "    use(X)\n",
    "        Applies network to inputs X and returns network's output\n",
    "    \"\"\"\n",
    "\n",
    "    def __init__(self, n_inputs, n_hidden_units_by_layers, n_outputs):\n",
    "        \"\"\"Creates a neural network with the given structure\n",
    "\n",
    "        Parameters\n",
    "        ----------\n",
    "        n_inputs : int\n",
    "            The number of values in each sample\n",
    "        n_hidden_units_by_layers : list of ints, or empty\n",
    "            The number of units in each hidden layer.\n",
    "            Its length specifies the number of hidden layers.\n",
    "        n_outputs : int\n",
    "            The number of units in output layer\n",
    "\n",
    "        Returns\n",
    "        -------\n",
    "        NeuralNetwork object\n",
    "        \"\"\"\n",
    "\n",
    "        # Assign attribute values. \n",
    "        # Set performance_trace to [].\n",
    "        # Set self.X_means to None to indicate\n",
    "        # that standardization parameters have not been calculated.\n",
    "        # ....\n",
    "  \n",
    "\n",
    "        # Build list of shapes for weight matrices in each layer\n",
    "        # ...\n",
    "        \n",
    "        # Call make_weights_and_views to create all_weights and Ws\n",
    "        # ...\n",
    "        \n",
    "        # Call make_weights_and_views to create all_gradients and Grads\n",
    "        # ...\n",
    "\n",
    "    def make_weights_and_views(self, shapes):\n",
    "        \"\"\"Creates vector of all weights and views for each layer\n",
    "\n",
    "        Parameters\n",
    "        ----------\n",
    "        shapes : list of pairs of ints\n",
    "            Each pair is number of rows and columns of weights in each layer.\n",
    "            Number of rows is number of inputs to layer (including constant 1).\n",
    "            Number of columns is number of units, or outputs, in layer.\n",
    "\n",
    "        Returns\n",
    "        -------\n",
    "        Vector of all weights, and list of views into this vector for each layer\n",
    "        \"\"\"\n",
    "\n",
    "        # Create one-dimensional numpy array of all weights with random initial values\n",
    "        #  ...\n",
    "\n",
    "        # Build list of views (pairs of number of rows and number of columns)\n",
    "        # by reshaping corresponding elements from vector of all weights \n",
    "        # into correct shape for each layer.        \n",
    "        # ...\n",
    "\n",
    "    def __repr__(self):\n",
    "        return 'NeuralNetwork({}, {}, {})'.format(self.n_inputs, self.n_hiddens_each_layer, self.n_outputs)\n",
    "\n",
    "    def __str__(self):\n",
    "        s = self.__repr__()\n",
    "        if self.total_epochs > 0:\n",
    "            s += '\\n Trained for {} epochs.'.format(self.n_epochs)\n",
    "            s += '\\n Final standardized training error {:.4g}.'.format(self.performance_trace[-1])\n",
    "        return s\n",
    " \n",
    "    def train(self, X, T, n_epochs, method='sgd', learning_rate=None, verbose=True):\n",
    "        \"\"\"Updates the weights.\n",
    "\n",
    "        Parameters\n",
    "        ----------\n",
    "        X : two-dimensional numpy array \n",
    "            number of samples  by  number of input components\n",
    "        T : two-dimensional numpy array\n",
    "            number of samples  by  number of output components\n",
    "        n_epochs : int\n",
    "            Number of passes to take through all samples\n",
    "        method : str\n",
    "            'sgd', 'adam', or 'scg'\n",
    "        learning_rate : float\n",
    "            Controls the step size of each update, only for sgd and adam\n",
    "        verbose: boolean\n",
    "            If True, progress is shown with print statements\n",
    "        \"\"\"\n",
    "\n",
    "        # Calculate and assign standardization parameters\n",
    "        # ...\n",
    "\n",
    "        # Standardize X and T.  Assign back to X and T.\n",
    "        # Add constant column of ones to X as left-most column.\n",
    "        # ...\n",
    "\n",
    "        # Instantiate Optimizers object by giving it vector of all weights\n",
    "        \n",
    "        optimizer = opt.Optimizers(self.all_weights)\n",
    "\n",
    "        # Define function to convert mean-square error to root-mean-square error,\n",
    "        # Here we use a lambda function just to illustrate its use.  \n",
    "        # We could have also defined this function with\n",
    "        # def error_convert_f(err):\n",
    "        #     return np.sqrt(err)\n",
    "\n",
    "        error_convert_f = lambda err: np.sqrt(err)\n",
    "        \n",
    "        # Call the requested optimizer method to train the weights.\n",
    "\n",
    "        if method == 'sgd':\n",
    "\n",
    "            performance_trace = optimizer.sgd(self.error_f, self.gradient_f,\n",
    "                                              fargs=[X, T], n_epochs=n_epochs,\n",
    "                                              learning_rate=learning_rate,\n",
    "                                              error_convert_f=error_convert_f, \n",
    "                                              error_convert_name='RMSE',\n",
    "                                              verbose=verbose)\n",
    "\n",
    "        elif method == 'adam':\n",
    "\n",
    "            performance_trace = optimizer.adam(self.error_f, self.gradient_f,\n",
    "                                               fargs=[X, T], n_epochs=n_epochs,\n",
    "                                               learning_rate=learning_rate,\n",
    "                                               error_convert_f=error_convert_f, \n",
    "                                               error_convert_name='RMSE',\n",
    "                                               verbose=verbose)\n",
    "\n",
    "        elif method == 'scg':\n",
    "\n",
    "            performance_trace = optimizer.scg(self.error_f, self.gradient_f,\n",
    "                                              fargs=[X, T], n_epochs=n_epochs,\n",
    "                                              error_convert_f=error_convert_f, \n",
    "                                              error_convert_name='RMSE',\n",
    "                                              verbose=verbose)\n",
    "\n",
    "        else:\n",
    "            raise Exception(\"method must be 'sgd', 'adam', or 'scg'\")\n",
    "\n",
    "        self.n_epochs += len(performance_trace)\n",
    "        self.performance_trace += performance_trace\n",
    "\n",
    "        # Return neural network object to allow applying other methods\n",
    "        # after training, such as:    Y = nnet.train(X, T, 100, 0.01).use(X)\n",
    "\n",
    "        return self\n",
    "\n",
    "    def _forward(self, X):\n",
    "        \"\"\"Calculate outputs of each layer given inputs in X.\n",
    "        \n",
    "        Parameters\n",
    "        ----------\n",
    "        X : input samples, standardized with first column of constant 1's.\n",
    "\n",
    "        Returns\n",
    "        -------\n",
    "        Standardized outputs of all layers as list, include X as first element.\n",
    "        \"\"\"\n",
    "        self.Ys = [X]\n",
    "        # Append output of each layer to list in self.Ys, then return it.\n",
    "        \n",
    "        # ...\n",
    "\n",
    "    # Function to be minimized by optimizer method, mean squared error\n",
    "    def error_f(self, X, T):\n",
    "        \"\"\"Calculate output of net given input X and its mean squared error.\n",
    "        Function to be minimized by optimizer.\n",
    "\n",
    "        Parameters\n",
    "        ----------\n",
    "        X : two-dimensional numpy array, standardized\n",
    "            number of samples  by  number of input components\n",
    "        T : two-dimensional numpy array, standardized\n",
    "            number of samples  by  number of output components\n",
    "\n",
    "        Returns\n",
    "        -------\n",
    "        Standardized mean square error as scalar float that is the mean\n",
    "        square error over all samples and all network outputs.\n",
    "        \"\"\"\n",
    "        # Call _forward, calculate mean square error and return it.\n",
    "        \n",
    "        # ...\n",
    "\n",
    "    # Gradient of function to be minimized for use by optimizer method\n",
    "    def gradient_f(self, X, T):\n",
    "        \"\"\"Returns gradient wrt all weights. Assumes _forward already called\n",
    "        so input and all layer outputs stored in self.Ys\n",
    "\n",
    "        Parameters\n",
    "        ----------\n",
    "        X : two-dimensional numpy array, standardized\n",
    "            number of samples  x  number of input components\n",
    "        T : two-dimensional numpy array, standardized\n",
    "            number of samples  x  number of output components\n",
    "\n",
    "        Returns\n",
    "        -------\n",
    "        Vector of gradients of mean square error wrt all weights\n",
    "        \"\"\"\n",
    "\n",
    "        # Assumes forward_pass just called with layer outputs saved in self.Ys.\n",
    "        \n",
    "        n_samples = X.shape[0]\n",
    "        n_outputs = T.shape[1]\n",
    "        n_layers = len(self.n_hidden_units_by_layers) + 1\n",
    "\n",
    "        # delta is delta matrix to be back propagated.\n",
    "        # Dividing by n_samples and n_outputs here replaces the scaling of\n",
    "        # the learning rate.\n",
    "        \n",
    "        delta = -(T - self.Ys[-1]) / (n_samples * n_outputs)\n",
    "\n",
    "        # Step backwards through the layers to back-propagate the error (delta)\n",
    "        \n",
    "        for layeri in range(n_layers - 1, -1, -1):\n",
    "            # gradient of all but bias weights\n",
    "            self.Grads[layeri][1:, :] = ...\n",
    "            # gradient of just the bias weights\n",
    "            self.Grads[layeri][0:1, :] = np.sum(delta, axis=0)\n",
    "            # Back-propagate this layer's delta to previous layer\n",
    "            if layeri > 0:\n",
    "                delta = delta @ ...\n",
    "\n",
    "        return self.all_gradients\n",
    "\n",
    "    def use(self, X):\n",
    "        \"\"\"Return the output of the network for input samples as rows in X.\n",
    "        X assumed to not be standardized.\n",
    "\n",
    "        Parameters\n",
    "        ----------\n",
    "        X : two-dimensional numpy array\n",
    "            number of samples  by  number of input components, unstandardized\n",
    "\n",
    "        Returns\n",
    "        -------\n",
    "        Output of neural network, unstandardized, as numpy array\n",
    "        of shape  number of samples  by  number of outputs\n",
    "        \"\"\"\n",
    "\n",
    "        # Standardize X\n",
    "        \n",
    "        # ...\n",
    "        \n",
    "        # Unstandardize output Y before returning it\n",
    "        \n",
    "        return ...\n",
    "\n",
    "    def get_performance_trace(self):\n",
    "        \"\"\"Returns list of unstandardized root-mean square error for each epoch\"\"\"\n",
    "        return self.performance_trace"
   ]
  },
  {
   "cell_type": "markdown",
   "metadata": {},
   "source": [
    "## Example Results"
   ]
  },
  {
   "cell_type": "markdown",
   "metadata": {},
   "source": [
    "Here we test the `NeuralNetwork` class with some simple data.  \n"
   ]
  },
  {
   "cell_type": "code",
   "execution_count": 20,
   "metadata": {
    "ExecuteTime": {
     "end_time": "2022-09-26T19:49:40.763374Z",
     "start_time": "2022-09-26T19:49:36.230854Z"
    },
    "scrolled": true
   },
   "outputs": [
    {
     "name": "stdout",
     "output_type": "stream",
     "text": [
      "\n",
      "=========================================\n",
      "method is sgd and rho is 0.05\n",
      "=========================================\n",
      "\n",
      "sgd: Epoch 1000 RMSE=1.00000\n",
      "sgd: Epoch 2000 RMSE=1.00000\n",
      "sgd: Epoch 3000 RMSE=0.99539\n",
      "sgd: Epoch 4000 RMSE=0.97261\n",
      "sgd: Epoch 5000 RMSE=0.68183\n",
      "sgd: Epoch 6000 RMSE=0.55867\n",
      "sgd: Epoch 7000 RMSE=0.54350\n",
      "sgd: Epoch 8000 RMSE=0.43648\n",
      "sgd: Epoch 9000 RMSE=0.40733\n",
      "sgd: Epoch 10000 RMSE=0.39561\n",
      "\n",
      "=========================================\n",
      "method is adam and rho is 0.02\n",
      "=========================================\n",
      "\n",
      "Adam: Epoch 1000 RMSE=0.83076\n",
      "Adam: Epoch 2000 RMSE=0.64692\n",
      "Adam: Epoch 3000 RMSE=0.64600\n",
      "Adam: Epoch 4000 RMSE=0.64567\n",
      "Adam: Epoch 5000 RMSE=0.64550\n",
      "Adam: Epoch 6000 RMSE=0.64540\n",
      "Adam: Epoch 7000 RMSE=0.64532\n",
      "Adam: Epoch 8000 RMSE=0.64527\n",
      "Adam: Epoch 9000 RMSE=0.64609\n",
      "Adam: Epoch 10000 RMSE=0.64520\n",
      "\n",
      "=========================================\n",
      "method is scg and rho is None\n",
      "=========================================\n",
      "\n",
      "SCG: Iteration 1000 RMSE=0.64488\n",
      "SCG: Iteration 2000 RMSE=0.46460\n",
      "SCG: Iteration 3000 RMSE=0.45482\n",
      "SCG: Iteration 4000 RMSE=0.31040\n",
      "SCG: Iteration 5000 RMSE=0.29249\n",
      "SCG: Iteration 6000 RMSE=0.28590\n",
      "SCG: Iteration 7000 RMSE=0.28312\n",
      "SCG: Iteration 8000 RMSE=0.27965\n",
      "SCG: Iteration 9000 RMSE=0.27841\n",
      "SCG: Iteration 10000 RMSE=0.27766\n"
     ]
    },
    {
     "data": {
      "image/png": "[encoded data removed]",
      "text/plain": [
       "<Figure size 432x288 with 1 Axes>"
      ]
     },
     "metadata": {
      "needs_background": "light"
     },
     "output_type": "display_data"
    }
   ],
   "source": [
    "import numpy as np\n",
    "import matplotlib.pyplot as plt\n",
    "%matplotlib inline\n",
    "\n",
    "import neuralnetworkA3 as nn  # Your file produced from the above code cell.\n",
    "\n",
    "X = np.arange(0, 2, 0.05).reshape(-1, 1)\n",
    "T = np.sin(X) * np.sin(X * 10)\n",
    "\n",
    "n_epochs = 10000\n",
    "method_rhos = [('sgd', 0.05),\n",
    "               ('adam', 0.02),\n",
    "               ('scg', None)]\n",
    "errors = []\n",
    "for method, rho in method_rhos:\n",
    "    \n",
    "    print('\\n=========================================')\n",
    "    print(f'method is {method} and rho is {rho}')\n",
    "    print('=========================================\\n')\n",
    "\n",
    "    nnet = nn.NeuralNetwork(X.shape[1], [2, 2], 1)\n",
    "    \n",
    "    # Set all weights here to allow comparison of your calculations\n",
    "    # Must use [:] to overwrite values in all_weights.\n",
    "    # Without [:], new array is assigned to self.all_weights, so self.Ws no longer refer to same memory\n",
    "    nnet.all_weights[:] = np.arange(len(nnet.all_weights)) * 0.001\n",
    "    \n",
    "    nnet.train(X, T, n_epochs, method=method, learning_rate=rho)\n",
    "    Y = nnet.use(X)\n",
    "    errors.append(nnet.get_performance_trace())\n",
    "    plt.plot(X, Y, 'o-', label='Model ' + method)\n",
    "\n",
    "plt.plot(X, T, 'o', label='Train')\n",
    "plt.xlabel('X')\n",
    "plt.ylabel('T or Y')\n",
    "plt.legend();"
   ]
  },
  {
   "cell_type": "code",
   "execution_count": 21,
   "metadata": {
    "ExecuteTime": {
     "end_time": "2022-09-26T19:49:40.900229Z",
     "start_time": "2022-09-26T19:49:40.765149Z"
    }
   },
   "outputs": [
    {
     "data": {
      "image/png": "[encoded data removed]",
      "text/plain": [
       "<Figure size 432x288 with 1 Axes>"
      ]
     },
     "metadata": {
      "needs_background": "light"
     },
     "output_type": "display_data"
    }
   ],
   "source": [
    "for error_trace in errors:\n",
    "    plt.plot(error_trace)\n",
    "plt.xlabel('Epoch')\n",
    "plt.ylabel('Standardized error')\n",
    "plt.legend([mr[0] for mr in method_rhos]);"
   ]
  },
  {
   "cell_type": "markdown",
   "metadata": {},
   "source": [
    "## Application to Seoul Bike Sharing Demand Data"
   ]
  },
  {
   "cell_type": "markdown",
   "metadata": {},
   "source": [
    "Download data from [bike-sharing.csv](https://www.cs.colostate.edu/~anderson/cs545/notebooks/bike-sharing.csv).  This is data modified very slightly from [UC Irvine ML Repo](https://archive-beta.ics.uci.edu/ml/datasets/seoul+bike+sharing+demand#Abstract). Read it into python using the `pandas.read_csv` function.  Assign `X` and `T` as shown."
   ]
  },
  {
   "cell_type": "code",
   "execution_count": 23,
   "metadata": {
    "ExecuteTime": {
     "end_time": "2022-09-26T19:58:44.046733Z",
     "start_time": "2022-09-26T19:58:44.028808Z"
    }
   },
   "outputs": [
    {
     "data": {
      "text/plain": [
       "((8760, 9), (8760, 1))"
      ]
     },
     "execution_count": 23,
     "metadata": {},
     "output_type": "execute_result"
    }
   ],
   "source": [
    "import pandas\n",
    "\n",
    "data = pandas.read_csv('SeoulBikeData.csv')\n",
    "T = data['Rented Bike Count'].to_numpy().reshape(-1, 1)\n",
    "X = data[['Hour', 'Temperature(C)', 'Humidity(%)',\n",
    "          'Wind speed (m/s)', 'Visibility (10m)', 'Dew point temperature(C)',\n",
    "          'Solar Radiation (MJ/m2)', 'Rainfall(mm)', 'Snowfall (cm)']].to_numpy()\n",
    "X.shape, T.shape"
   ]
  },
  {
   "cell_type": "markdown",
   "metadata": {},
   "source": [
    "Before training your neural networks, partition the data into training and testing partitions, as shown here."
   ]
  },
  {
   "cell_type": "code",
   "execution_count": 30,
   "metadata": {
    "ExecuteTime": {
     "end_time": "2022-09-26T20:00:24.398042Z",
     "start_time": "2022-09-26T20:00:24.393672Z"
    }
   },
   "outputs": [],
   "source": [
    "def partition(X, T, train_fraction):\n",
    "    n_samples = X.shape[0]\n",
    "    rows = np.arange(n_samples)\n",
    "    np.random.shuffle(rows)\n",
    "\n",
    "    n_train = round(n_samples * train_fraction)\n",
    "\n",
    "    Xtrain = X[rows[:n_train], :]\n",
    "    Ttrain = T[rows[:n_train], :]\n",
    "    Xtest = X[rows[n_train:], :]\n",
    "    Ttest = T[rows[n_train:], :]\n",
    "\n",
    "    return Xtrain, Ttrain, Xtest, Ttest\n",
    "\n",
    "def rmse(T, Y):\n",
    "    return np.sqrt(np.mean((T - Y)**2))"
   ]
  },
  {
   "cell_type": "code",
   "execution_count": 32,
   "metadata": {
    "ExecuteTime": {
     "end_time": "2022-09-26T20:00:42.161943Z",
     "start_time": "2022-09-26T20:00:42.157094Z"
    }
   },
   "outputs": [
    {
     "data": {
      "text/plain": [
       "((7008, 9), (7008, 1), (1752, 9), (1752, 1))"
      ]
     },
     "execution_count": 32,
     "metadata": {},
     "output_type": "execute_result"
    }
   ],
   "source": [
    "# Assuming you have assigned `X` and `T` correctly.\n",
    "\n",
    "Xtrain, Ttrain, Xtest, Ttest = partition(X, T, 0.8)\n",
    "\n",
    "Xtrain.shape, Ttrain.shape, Xtest.shape, Ttest.shape"
   ]
  },
  {
   "cell_type": "markdown",
   "metadata": {},
   "source": [
    "Write and run code using your `NeuralNetwork` class to model the Seoul bike sharing data. Experiment with all three optimization methods and a variety of neural network structures (numbers of hidden layer and units), learning rates, and numbers of epochs. Show results for at least three different network structures, learning rates, and numbers of epochs for each method.  Show your results in a pandas DataFrame with columns `('Method', 'Structure', 'Epochs', 'Learning Rate', 'Train RMSE', 'Test RMSE')`, where `Train RMSE` and `Test RMSE` are unstandardized errors. \n",
    "\n",
    "Use the `pandas` functions `sort_values` and `head` to show the top 20 best results, with \"best\" being the lowest `Test RMSE`.\n",
    "\n",
    "Try to find good values for the RMSE on testing data.  Discuss your results, including how good you think the RMSE values are by considering the range of bike sharing counts given in the data. "
   ]
  },
  {
   "cell_type": "markdown",
   "metadata": {},
   "source": [
    "# Grading\n",
    "\n",
    "Your notebook will be run and graded automatically. Test this grading process by first downloading [A3grader.tar](http://www.cs.colostate.edu/~anderson/cs545/notebooks/A3grader.tar) and extract `A3grader.py` from it. Run the code in the following cell to demonstrate an example grading session.  The remaining 20 points will be based on your discussion of this assignment.\n",
    "\n",
    "A different, but similar, grading script will be used to grade your checked-in notebook. It will include additional tests. You should design and perform additional tests on all of your functions to be sure they run correctly before checking in your notebook.  \n",
    "\n",
    "For the grading script to run correctly, you must first name this notebook as 'Lastname-A3.ipynb' with 'Lastname' being your last name, and then save this notebook. Check in your notebook in Canvas."
   ]
  },
  {
   "cell_type": "code",
   "execution_count": null,
   "metadata": {},
   "outputs": [],
   "source": [
    "%run -i A3grader.py"
   ]
  },
  {
   "cell_type": "markdown",
   "metadata": {},
   "source": [
    "# Extra Credit\n",
    "\n",
    "Using a network that gives you pretty good test RMSE results, try to figure out which input features are most significant in predicting the bike-share count.  Remember, that our neural networks is trained with standardized inputs, so you can compare the magnitudes of weights in the first layer to help you determine which inputs are most significant. \n",
    "\n",
    "To visualize the weights, try displaying the weights in the first layer as an image, with `plt.imshow` with `plt.colorbar()`. Discuss which weights have the largest magnitudes and discuss any patterns in see in the weights in each hidden unit of the first layer."
   ]
  }
 ],
 "metadata": {
  "kernelspec": {
   "display_name": "Python 3 (ipykernel)",
   "language": "python",
   "name": "python3"
  },
  "language_info": {
   "codemirror_mode": {
    "name": "ipython",
    "version": 3
   },
   "file_extension": ".py",
   "mimetype": "text/x-python",
   "name": "python",
   "nbconvert_exporter": "python",
   "pygments_lexer": "ipython3",
   "version": "3.9.12"
  },
  "toc": {
   "base_numbering": 1,
   "nav_menu": {},
   "number_sections": false,
   "sideBar": true,
   "skip_h1_title": true,
   "title_cell": "Table of Contents",
   "title_sidebar": "Contents",
   "toc_cell": true,
   "toc_position": {
    "height": "calc(100% - 180px)",
    "left": "10px",
    "top": "150px",
    "width": "512px"
   },
   "toc_section_display": true,
   "toc_window_display": false
  }
 },
 "nbformat": 4,
 "nbformat_minor": 4
}
