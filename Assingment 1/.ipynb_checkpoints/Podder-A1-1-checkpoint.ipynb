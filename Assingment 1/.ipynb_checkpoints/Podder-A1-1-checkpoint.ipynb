{
 "cells": [
  {
   "cell_type": "markdown",
   "metadata": {},
   "source": [
    "# A1: Three-Layer Neural Network"
   ]
  },
  {
   "cell_type": "markdown",
   "metadata": {
    "toc": true
   },
   "source": [
    "<h1>Table of Contents<span class=\"tocSkip\"></span></h1>\n",
    "<div class=\"toc\"><ul class=\"toc-item\"><li><span><a href=\"#Requirements\" data-toc-modified-id=\"Requirements-1\">Requirements</a></span></li><li><span><a href=\"#Example-Results\" data-toc-modified-id=\"Example-Results-2\">Example Results</a></span></li><li><span><a href=\"#Discussion\" data-toc-modified-id=\"Discussion-3\">Discussion</a></span></li></ul></div>"
   ]
  },
  {
   "cell_type": "markdown",
   "metadata": {},
   "source": [
    "## Requirements"
   ]
  },
  {
   "cell_type": "markdown",
   "metadata": {},
   "source": [
    "In this assignment, you will start with code from lecture notes 04 and add code to do the following. You will implement and apply a neural network as in lecture notes 04 but now with an additional hidden layer.  The resulting three-layer network will consist of three weight matrices, `U`, `V` and `W`.\n",
    "\n",
    "First, implement the forward pass to calculate outputs of each layer:\n",
    "\n",
    "* Define functions `add_ones` and `rmse` by copying it from the lecture notes.\n",
    "* Define function `forward_layer1` with two arguments, the input `X` and the first layer's weights `U`. It calculates and returns the output, `Zu`, of the first layer, using the `tanh` activation function.\n",
    "* Define function `forward_layer2` with two arguments, the input `Zu` and the second layer's weights `V`. It calculates and returns the output, `Zv`, of the second layer, using the `tanh` activation function.\n",
    "* Define function `forward_layer3` with two arguments, the input `Zv` and the third layer's weights `W`. It calculates and returns the output, `Y`, of the third layer as just the weighted sum of the inputs, without an activation function.\n",
    "* Define function `forward` with four arguments, the input `X` to the network and the weight matrices, `U`, `V` and `W` of the three layers. It calls the above three functions and returns the outputs of all layers, `Zu`, `Zv`, `Y`.\n",
    "\n",
    "Now implement the backward pass that calculates `delta` values for each layer:\n",
    "\n",
    "* Define function `backward_layer3` that accepts as arguments the target values `T` and the predicted values `Y` calculated by function `forward`. It calculates and returns `delta_layer3` for layer 3, which is just `T - Y`.\n",
    "* Define function `backward_layer2` that accepts as arguments `delta_layer3`, `W` and `Zv` and calculates and returns `delta` for layer 2 by back-propagating `delta_layer3` through `W`.\n",
    "* Define function `backward_layer1` that accepts as arguments `delta_layer2`, `V` and `ZU` and calculates and returns `delta` for layer 1 by back-propagating `delta_layer2` through `V`.\n",
    "* Define function `gradients` that accepts as arguments `X`, `T`, `Zu`, `Zv`, `Y`, `U`, `V`, and `W`, and calls the above three functions and uses the results to calculate the gradient of the mean squared error between `T` and `Y` with respect to `U`, `V` and `W` and returns those three gradients.\n",
    "\n",
    "Now you can use `forward` and `gradients` to define the function `train` to train a three-layer neural network.\n",
    "          \n",
    "* Define function `train` that returns the resulting values of `U`, `V`, and `W` and the `X` and `T` standardization parameters.  Arguments are unstandardized `X` and `T`, the number of units in each of the two hidden layers, the number of epochs and the learning rate. This function standardizes `X` and `T`, initializes `U`, `V` and `W` to uniformly distributed random values between -0.1 and 0.1, and updates `U`, `V` and `W` by the learning rate times their gradients for `n_epochs` times as shown in lecture notes 04.  This function must call `forward`, `gradients` and `add_ones`.  It must also collect in a list called `rmses` the root-mean-square errors for each epoch between `T` and `Y`.\n",
    "\n",
    "      def train(X, T, n_units_U, n_units_V, n_epochs, rho):\n",
    "          .\n",
    "          .\n",
    "          .\n",
    "          return rmses, U, V, W, X_means, X_stds, T_means, T_stds\n",
    "\n",
    "Then we need a function `use` that calculates an output `Y` for new samples.  \n",
    "\n",
    "* Define function `use` that accepts unstandardized `X`, standardization parameters, and weight matrices `U`, `V`, and `W` and returns the unstandardized output.\n",
    "\n",
    "      def use(X, X_means, X_stds, T_means, T_stds, U, V, W):\n",
    "          .\n",
    "          .\n",
    "          .\n",
    "          Y = ....\n",
    "          return Y"
   ]
  },
  {
   "cell_type": "markdown",
   "metadata": {},
   "source": [
    "## Example Results"
   ]
  },
  {
   "cell_type": "code",
   "execution_count": 48,
   "metadata": {
    "ExecuteTime": {
     "end_time": "2022-08-26T20:23:29.395578Z",
     "start_time": "2022-08-26T20:23:29.391965Z"
    }
   },
   "outputs": [],
   "source": [
    "import numpy as np\n",
    "import matplotlib.pyplot as plt\n",
    "%matplotlib inline"
   ]
  },
  {
   "cell_type": "markdown",
   "metadata": {},
   "source": [
    "* Define functions `add_ones` and `rmse` by copying it from the lecture notes."
   ]
  },
  {
   "cell_type": "code",
   "execution_count": 49,
   "metadata": {},
   "outputs": [],
   "source": [
    "def add_ones(A):\n",
    "    return np.insert(A, 0, 1, axis=1)"
   ]
  },
  {
   "cell_type": "code",
   "execution_count": 50,
   "metadata": {},
   "outputs": [],
   "source": [
    "def rmse(T, Y, Tstds):\n",
    "    error = (T - Y) * Tstds \n",
    "    return np.sqrt(np.mean(error ** 2))"
   ]
  },
  {
   "cell_type": "markdown",
   "metadata": {},
   "source": [
    "* Define function `forward_layer1` with two arguments, the input `X` and the first layer's weights `U`. It calculates and returns the output, `Zu`, of the first layer, using the `tanh` activation function."
   ]
  },
  {
   "cell_type": "code",
   "execution_count": 51,
   "metadata": {},
   "outputs": [],
   "source": [
    "def forward_layer1(Xtrain_st, U):\n",
    "    Xtrain_st1 = add_ones(Xtrain_st)\n",
    "    Zu = np.tanh(Xtrain_st1 @ U)\n",
    "    return Zu"
   ]
  },
  {
   "cell_type": "markdown",
   "metadata": {},
   "source": [
    "* Define function `forward_layer2` with two arguments, the input `Zu` and the second layer's weights `V`. It calculates and returns the output, `Zv`, of the second layer, using the `tanh` activation function."
   ]
  },
  {
   "cell_type": "code",
   "execution_count": 52,
   "metadata": {},
   "outputs": [],
   "source": [
    "def forward_layer2(Xtrain_st, V):\n",
    "    Xtrain_st1 = add_ones(Xtrain_st)\n",
    "    Zv = np.tanh(Xtrain_st1 @ V)\n",
    "    return Zv"
   ]
  },
  {
   "cell_type": "markdown",
   "metadata": {},
   "source": [
    "* Define function `forward_layer3` with two arguments, the input `Zv` and the third layer's weights `W`. It calculates and returns the output, `Y`, of the third layer as just the weighted sum of the inputs, without an activation function."
   ]
  },
  {
   "cell_type": "code",
   "execution_count": 53,
   "metadata": {},
   "outputs": [],
   "source": [
    "def forward_layer3(Xtrain_st, W):\n",
    "    Xtrain_st1 = add_ones(Xtrain_st)\n",
    "    Y = Xtrain_st1 @ W\n",
    "    return Y"
   ]
  },
  {
   "cell_type": "markdown",
   "metadata": {},
   "source": [
    "* Define function `forward` with four arguments, the input `X` to the network and the weight matrices, `U`, `V` and `W` of the three layers. It calls the above three functions and returns the outputs of all layers, `Zu`, `Zv`, `Y`."
   ]
  },
  {
   "cell_type": "code",
   "execution_count": 54,
   "metadata": {},
   "outputs": [],
   "source": [
    "def forward(Xtrain_st, U, V, W):\n",
    "    Zu = forward_layer1(Xtrain_st, U)\n",
    "    Zv = forward_layer2(Zu, V)\n",
    "    Y = forward_layer3(Zv, W)\n",
    "    return Zu, Zv, Y"
   ]
  },
  {
   "cell_type": "markdown",
   "metadata": {},
   "source": [
    "* Define function `backward_layer3` that accepts as arguments the target values `T` and the predicted values `Y` calculated by function `forward`. It calculates and returns `delta_layer3` for layer 3, which is just `T - Y`."
   ]
  },
  {
   "cell_type": "code",
   "execution_count": 55,
   "metadata": {},
   "outputs": [],
   "source": [
    "def backward_layer3(TtrainS, Y):\n",
    "    D = TtrainS - Y\n",
    "    return D"
   ]
  },
  {
   "cell_type": "markdown",
   "metadata": {},
   "source": [
    "* Define function `backward_layer2` that accepts as arguments `delta_layer3`, `W` and `Zv` and calculates and returns `delta` for layer 2 by back-propagating `delta_layer3` through `W`."
   ]
  },
  {
   "cell_type": "code",
   "execution_count": 56,
   "metadata": {},
   "outputs": [],
   "source": [
    "def backward_layer2(D, W, Zv):\n",
    "    Dw = D @ W[1:, :].T * (1 - Zv**2)\n",
    "    return Dw"
   ]
  },
  {
   "cell_type": "markdown",
   "metadata": {},
   "source": [
    "* Define function `backward_layer1` that accepts as arguments `delta_layer2`, `V` and `ZU` and calculates and returns `delta` for layer 1 by back-propagating `delta_layer2` through `V`."
   ]
  },
  {
   "cell_type": "code",
   "execution_count": 57,
   "metadata": {},
   "outputs": [],
   "source": [
    "def backward_layer1(Dw, V, Zu):\n",
    "    Dv = Dw @ V[1:, :].T * (1 - Zu**2)\n",
    "    return Dv"
   ]
  },
  {
   "cell_type": "markdown",
   "metadata": {},
   "source": [
    "* Define function `gradients` that accepts as arguments `X`, `T`, `Zu`, `Zv`, `Y`, `U`, `V`, and `W`, and calls the above three functions and uses the results to calculate the gradient of the mean squared error between `T` and `Y` with respect to `U`, `V` and `W` and returns those three gradients."
   ]
  },
  {
   "cell_type": "code",
   "execution_count": 58,
   "metadata": {},
   "outputs": [],
   "source": [
    "def gradients(Xtrain_st, Ttrain_st, Zu, Zv, Y, U, V, W):\n",
    "    D = backward_layer3(Ttrain_st, Y)\n",
    "    Dw = backward_layer2(D, W, Zv)\n",
    "    Dv = backward_layer1(Dw, V, Zu)\n",
    "    grad_U = - add_ones(Xtrain_st).T @ Dv\n",
    "    grad_V = - add_ones(Zu).T @ Dw\n",
    "    grad_W = - add_ones(Zv).T @ D\n",
    "    return grad_U, grad_V, grad_W"
   ]
  },
  {
   "cell_type": "markdown",
   "metadata": {},
   "source": [
    "* Define function `train` that returns the resulting values of `U`, `V`, and `W` and the `X` and `T` standardization parameters.  Arguments are unstandardized `X` and `T`, the number of units in each of the two hidden layers, the number of epochs and the learning rate. This function standardizes `X` and `T`, initializes `U`, `V` and `W` to uniformly distributed random values between -0.1 and 0.1, and updates `U`, `V` and `W` by the learning rate times their gradients for `n_epochs` times as shown in lecture notes 04.  This function must call `forward`, `gradients` and `add_ones`.  It must also collect in a list called `rmses` the root-mean-square errors for each epoch between `T` and `Y`.\n",
    "\n",
    "      def train(X, T, n_units_U, n_units_V, n_epochs, rho):\n",
    "          .\n",
    "          .\n",
    "          .\n",
    "          return rmses, U, V, W, X_means, X_stds, T_means, T_stds\n",
    "\n",
    "Then we need a function `use` that calculates an output `Y` for new samples. "
   ]
  },
  {
   "cell_type": "code",
   "execution_count": 59,
   "metadata": {},
   "outputs": [],
   "source": [
    "def train(X, T, n_units_U, n_units_V, n_epochs, rho):\n",
    "    \n",
    "    \n",
    "    Xmeans = X.mean(axis=0)\n",
    "    Xstds = X.std(axis=0)\n",
    "    Tmeans = T.mean(axis=0)\n",
    "    Tstds = T.std(axis=0)\n",
    "\n",
    "    XtrainS = (X - Xmeans) / Xstds\n",
    "    TtrainS = (T - Tmeans) / Tstds\n",
    "    \n",
    "    \n",
    "    n_samples, n_outputs = T.shape\n",
    "    rho= rho / (n_samples * n_outputs)\n",
    "\n",
    "    # Initialize weights to uniformly distributed values between small normally-distributed between -0.1 and 0.1\n",
    "    U = np.random.uniform(-1, 1, size=(1 + X.shape[1], n_units_U)) / np.sqrt(X.shape[1] + 1)\n",
    "    V = np.random.uniform(-1, 1, size=(1 + n_units_U, n_units_V)) / np.sqrt(n_units_U + 1)\n",
    "    W = np.random.uniform(-1, 1, size=(1 + n_units_V, n_outputs)) / np.sqrt(n_units_V + 1)\n",
    "    \n",
    "    # collect training and testing errors for plotting\n",
    "    rmses = []\n",
    "    \n",
    "    for epoch in range(n_epochs):\n",
    "        \n",
    "        Zu, Zv, Y = forward(XtrainS, U, V, W)\n",
    "        grad_U, grad_V, grad_W = gradients(XtrainS, TtrainS, Zu, Zv, Y, U, V, W)\n",
    "        \n",
    "        # Take step down the gradient\n",
    "        U = U - rho * grad_U\n",
    "        W = W - rho * grad_W\n",
    "        V = V - rho * grad_V\n",
    "        rmses.append([rmse(TtrainS, Y, Tstds)])\n",
    "      #  rmses.append([rmse(TtrainS, Y, Tstds)])\n",
    "        \n",
    "        \n",
    "    return rmses, U, V, W, Xmeans, Xstds, Tmeans, Tstds\n",
    "        \n"
   ]
  },
  {
   "cell_type": "markdown",
   "metadata": {},
   "source": [
    "* Define function `use` that accepts unstandardized `X`, standardization parameters, and weight matrices `U`, `V`, and `W` and returns the unstandardized output.\n",
    "\n",
    "      def use(X, X_means, X_stds, T_means, T_stds, U, V, W):\n",
    "          .\n",
    "          .\n",
    "          .\n",
    "          Y = ....\n",
    "          return Y"
   ]
  },
  {
   "cell_type": "code",
   "execution_count": 60,
   "metadata": {},
   "outputs": [],
   "source": [
    "def use(X, X_means, X_stds, T_means, T_stds, U, V, W):\n",
    "    Xst = (X - X_means)/X_stds\n",
    "    Zu, Zv, Yst = forward(Xst, U, V, W)\n",
    "    Y = Yst * T_stds + T_means\n",
    "    return Y"
   ]
  },
  {
   "cell_type": "markdown",
   "metadata": {},
   "source": [
    "Add code cells here to define the functions above.  Once these are correctly defined, the following cells should run and produce the same results as those here."
   ]
  },
  {
   "cell_type": "code",
   "execution_count": 61,
   "metadata": {
    "ExecuteTime": {
     "end_time": "2022-08-26T20:23:29.416386Z",
     "start_time": "2022-08-26T20:23:29.405702Z"
    }
   },
   "outputs": [
    {
     "data": {
      "text/plain": [
       "((4, 1), (4, 1), (4, 1), (4, 1))"
      ]
     },
     "execution_count": 61,
     "metadata": {},
     "output_type": "execute_result"
    }
   ],
   "source": [
    "Xtrain = np.arange(4).reshape(-1, 1)\n",
    "Ttrain = Xtrain ** 2\n",
    "\n",
    "Xtest = Xtrain + 0.5\n",
    "Ttest = Xtest ** 2\n",
    "\n",
    "Xtrain.shape, Ttrain.shape, Xtest.shape, Ttest.shape"
   ]
  },
  {
   "cell_type": "code",
   "execution_count": 62,
   "metadata": {
    "ExecuteTime": {
     "end_time": "2022-08-26T20:24:01.638648Z",
     "start_time": "2022-08-26T20:24:01.634523Z"
    }
   },
   "outputs": [
    {
     "data": {
      "text/plain": [
       "((2, 3), (4, 2), (3, 1))"
      ]
     },
     "execution_count": 62,
     "metadata": {},
     "output_type": "execute_result"
    }
   ],
   "source": [
    "U = np.array([[1, 2, 3], [4, 5, 6]])  # 2 x 3 matrix, for 2 inputs (include constant 1) and 3 units\n",
    "V = np.array([[-1, 3], [1, 3], [-2, 1], [2, -4]]) # 2 x 3 matrix, for 3 inputs (include constant 1) and 2 units\n",
    "W = np.array([[-1], [2], [3]])  # 3 x 1 matrix, for 3 inputs (include constant 1) and 1 output unit\n",
    "U.shape, V.shape, W.shape"
   ]
  },
  {
   "cell_type": "code",
   "execution_count": 63,
   "metadata": {
    "ExecuteTime": {
     "end_time": "2022-08-26T20:24:04.022088Z",
     "start_time": "2022-08-26T20:24:04.018425Z"
    }
   },
   "outputs": [
    {
     "data": {
      "text/plain": [
       "array([[-1.34164079],\n",
       "       [-0.4472136 ],\n",
       "       [ 0.4472136 ],\n",
       "       [ 1.34164079]])"
      ]
     },
     "execution_count": 63,
     "metadata": {},
     "output_type": "execute_result"
    }
   ],
   "source": [
    "X_means = np.mean(Xtrain, axis=0)\n",
    "X_stds = np.std(Xtrain, axis=0)\n",
    "Xtrain_st = (Xtrain - X_means) / X_stds\n",
    "Xtrain_st"
   ]
  },
  {
   "cell_type": "code",
   "execution_count": 64,
   "metadata": {
    "ExecuteTime": {
     "end_time": "2022-08-26T20:24:04.182546Z",
     "start_time": "2022-08-26T20:24:04.178639Z"
    }
   },
   "outputs": [
    {
     "data": {
      "text/plain": [
       "array([[-1.        ],\n",
       "       [-0.71428571],\n",
       "       [ 0.14285714],\n",
       "       [ 1.57142857]])"
      ]
     },
     "execution_count": 64,
     "metadata": {},
     "output_type": "execute_result"
    }
   ],
   "source": [
    "T_means = np.mean(Ttrain, axis=0)\n",
    "T_stds = np.std(Ttrain, axis=0)\n",
    "Ttrain_st = (Ttrain - T_means) / T_stds\n",
    "Ttrain_st"
   ]
  },
  {
   "cell_type": "code",
   "execution_count": 65,
   "metadata": {
    "ExecuteTime": {
     "end_time": "2022-08-26T20:24:04.342004Z",
     "start_time": "2022-08-26T20:24:04.338475Z"
    }
   },
   "outputs": [
    {
     "data": {
      "text/plain": [
       "array([[-0.99967774, -0.99983726, -0.99991782],\n",
       "       [-0.65775956, -0.23177837,  0.3065367 ],\n",
       "       [ 0.99246605,  0.99958165,  0.99997685],\n",
       "       [ 0.9999941 ,  0.99999995,  1.        ]])"
      ]
     },
     "execution_count": 65,
     "metadata": {},
     "output_type": "execute_result"
    }
   ],
   "source": [
    "Zu = forward_layer1(Xtrain_st, U)\n",
    "Zu"
   ]
  },
  {
   "cell_type": "code",
   "execution_count": 66,
   "metadata": {
    "ExecuteTime": {
     "end_time": "2022-08-26T20:24:04.517942Z",
     "start_time": "2022-08-26T20:24:04.514542Z"
    }
   },
   "outputs": [
    {
     "data": {
      "text/plain": [
       "array([[-9.64016194e-01,  9.95062648e-01],\n",
       "       [-5.23485834e-01, -4.06326878e-01],\n",
       "       [-6.74345774e-03,  9.94823310e-01],\n",
       "       [-5.79521329e-06,  9.95054578e-01]])"
      ]
     },
     "execution_count": 66,
     "metadata": {},
     "output_type": "execute_result"
    }
   ],
   "source": [
    "Zv = forward_layer2(Zu, V)\n",
    "Zv"
   ]
  },
  {
   "cell_type": "code",
   "execution_count": 67,
   "metadata": {
    "ExecuteTime": {
     "end_time": "2022-08-26T20:24:04.686141Z",
     "start_time": "2022-08-26T20:24:04.682810Z"
    }
   },
   "outputs": [
    {
     "data": {
      "text/plain": [
       "array([[ 0.05715556],\n",
       "       [-3.2659523 ],\n",
       "       [ 1.97098301],\n",
       "       [ 1.98515214]])"
      ]
     },
     "execution_count": 67,
     "metadata": {},
     "output_type": "execute_result"
    }
   ],
   "source": [
    "Y = forward_layer3(Zv, W)\n",
    "Y"
   ]
  },
  {
   "cell_type": "code",
   "execution_count": 68,
   "metadata": {
    "ExecuteTime": {
     "end_time": "2022-08-26T20:24:04.870350Z",
     "start_time": "2022-08-26T20:24:04.866443Z"
    }
   },
   "outputs": [
    {
     "name": "stdout",
     "output_type": "stream",
     "text": [
      "Zu=array([[-0.99967774, -0.99983726, -0.99991782],\n",
      "       [-0.65775956, -0.23177837,  0.3065367 ],\n",
      "       [ 0.99246605,  0.99958165,  0.99997685],\n",
      "       [ 0.9999941 ,  0.99999995,  1.        ]])\n",
      "Zv=array([[-9.64016194e-01,  9.95062648e-01],\n",
      "       [-5.23485834e-01, -4.06326878e-01],\n",
      "       [-6.74345774e-03,  9.94823310e-01],\n",
      "       [-5.79521329e-06,  9.95054578e-01]])\n",
      "Y=array([[ 0.05715556],\n",
      "       [-3.2659523 ],\n",
      "       [ 1.97098301],\n",
      "       [ 1.98515214]])\n"
     ]
    }
   ],
   "source": [
    "Zu, Zv, Y = forward(Xtrain_st, U, V, W)\n",
    "print(f'{Zu=}')\n",
    "print(f'{Zv=}')\n",
    "print(f'{Y=}')"
   ]
  },
  {
   "cell_type": "code",
   "execution_count": 69,
   "metadata": {
    "ExecuteTime": {
     "end_time": "2022-08-26T20:24:05.309777Z",
     "start_time": "2022-08-26T20:24:05.306336Z"
    }
   },
   "outputs": [
    {
     "data": {
      "text/plain": [
       "array([[-1.05715556],\n",
       "       [ 2.55166659],\n",
       "       [-1.82812587],\n",
       "       [-0.41372357]])"
      ]
     },
     "execution_count": 69,
     "metadata": {},
     "output_type": "execute_result"
    }
   ],
   "source": [
    "delta_layer3 = backward_layer3(Ttrain_st, Y)\n",
    "delta_layer3"
   ]
  },
  {
   "cell_type": "code",
   "execution_count": 70,
   "metadata": {
    "ExecuteTime": {
     "end_time": "2022-08-26T20:24:05.749661Z",
     "start_time": "2022-08-26T20:24:05.746277Z"
    }
   },
   "outputs": [
    {
     "data": {
      "text/plain": [
       "array([[-0.14942424, -0.03123998],\n",
       "       [ 3.70482892,  6.39114758],\n",
       "       [-3.65608548, -0.05663488],\n",
       "       [-0.82744715, -0.01224587]])"
      ]
     },
     "execution_count": 70,
     "metadata": {},
     "output_type": "execute_result"
    }
   ],
   "source": [
    "delta_layer2 = backward_layer2(delta_layer3, W, Zv)\n",
    "delta_layer2"
   ]
  },
  {
   "cell_type": "code",
   "execution_count": 71,
   "metadata": {
    "ExecuteTime": {
     "end_time": "2022-08-26T20:24:06.125622Z",
     "start_time": "2022-08-26T20:24:06.122304Z"
    }
   },
   "outputs": [
    {
     "data": {
      "text/plain": [
       "array([[-1.56687861e-04,  8.70954047e-05, -2.85795848e-05],\n",
       "       [ 1.29800416e+01, -9.63794665e-01, -1.64490088e+01],\n",
       "       [-5.74324794e-02,  6.06940191e-03, -3.28089886e-04],\n",
       "       [-1.02032268e-05,  1.79372045e-07, -1.62184098e-09]])"
      ]
     },
     "execution_count": 71,
     "metadata": {},
     "output_type": "execute_result"
    }
   ],
   "source": [
    "delta_layer1 = backward_layer1(delta_layer2, V, Zu)\n",
    "delta_layer1"
   ]
  },
  {
   "cell_type": "code",
   "execution_count": 72,
   "metadata": {
    "ExecuteTime": {
     "end_time": "2022-08-26T20:24:06.494337Z",
     "start_time": "2022-08-26T20:24:06.490364Z"
    }
   },
   "outputs": [
    {
     "name": "stdout",
     "output_type": "stream",
     "text": [
      "grad_U=array([[-12.92244218,   0.95763799,  16.44936549],\n",
      "       [  5.83033911,  -0.43361979,  -7.35611199]])\n",
      "grad_V=array([[ 0.92812794, -6.29102685],\n",
      "       [ 6.74349351,  4.24106248],\n",
      "       [ 5.19130234,  1.51895191],\n",
      "       [ 3.19836999, -1.92147926]])\n",
      "grad_W=array([[0.74733841],\n",
      "       [0.30431595],\n",
      "       [4.31908649]])\n"
     ]
    }
   ],
   "source": [
    "grad_U, grad_V, grad_W = gradients(Xtrain_st, Ttrain_st, Zu, Zv, Y, U, V, W)\n",
    "print(f'{grad_U=}')\n",
    "print(f'{grad_V=}')\n",
    "print(f'{grad_W=}')"
   ]
  },
  {
   "cell_type": "code",
   "execution_count": 73,
   "metadata": {
    "ExecuteTime": {
     "end_time": "2022-08-26T20:24:07.158392Z",
     "start_time": "2022-08-26T20:24:07.154785Z"
    }
   },
   "outputs": [
    {
     "data": {
      "text/plain": [
       "array([[ 3.70004445],\n",
       "       [-7.93083306],\n",
       "       [10.39844055],\n",
       "       [10.44803251]])"
      ]
     },
     "execution_count": 73,
     "metadata": {},
     "output_type": "execute_result"
    }
   ],
   "source": [
    "Y = use(Xtrain, X_means, X_stds, T_means, T_stds, U, V, W)\n",
    "Y"
   ]
  },
  {
   "cell_type": "code",
   "execution_count": 74,
   "metadata": {
    "ExecuteTime": {
     "end_time": "2022-08-26T20:24:08.007309Z",
     "start_time": "2022-08-26T20:24:07.830666Z"
    }
   },
   "outputs": [
    {
     "data": {
      "text/plain": [
       "(2, 10)"
      ]
     },
     "execution_count": 74,
     "metadata": {},
     "output_type": "execute_result"
    }
   ],
   "source": [
    "rmses, U, V, W, X_means, X_stds, T_means, T_stds = train(Xtrain, Ttrain, 10, 10, 1000, 0.05)\n",
    "U.shape "
   ]
  },
  {
   "cell_type": "code",
   "execution_count": 75,
   "metadata": {
    "ExecuteTime": {
     "end_time": "2022-08-26T20:24:08.226508Z",
     "start_time": "2022-08-26T20:24:08.222323Z"
    }
   },
   "outputs": [
    {
     "data": {
      "text/plain": [
       "array([[0.00000000e+00, 6.34754195e-03],\n",
       "       [1.00000000e+00, 9.86378725e-01],\n",
       "       [4.00000000e+00, 4.01013705e+00],\n",
       "       [9.00000000e+00, 8.99569467e+00]])"
      ]
     },
     "execution_count": 75,
     "metadata": {},
     "output_type": "execute_result"
    }
   ],
   "source": [
    "Y = use(Xtrain, X_means, X_stds, T_means, T_stds, U, V, W)\n",
    "np.hstack((Ttrain, Y))"
   ]
  },
  {
   "cell_type": "code",
   "execution_count": 76,
   "metadata": {
    "ExecuteTime": {
     "end_time": "2022-08-26T20:24:12.384716Z",
     "start_time": "2022-08-26T20:24:12.246380Z"
    }
   },
   "outputs": [
    {
     "data": {
      "text/plain": [
       "Text(0, 0.5, 'RMSE')"
      ]
     },
     "execution_count": 76,
     "metadata": {},
     "output_type": "execute_result"
    },
    {
     "data": {
      "image/png": "[encoded data removed]",
      "text/plain": [
       "<Figure size 432x288 with 1 Axes>"
      ]
     },
     "metadata": {
      "needs_background": "light"
     },
     "output_type": "display_data"
    }
   ],
   "source": [
    "plt.plot(rmses)\n",
    "plt.xlabel('Epoch')\n",
    "plt.ylabel('RMSE')"
   ]
  },
  {
   "cell_type": "markdown",
   "metadata": {},
   "source": [
    "Here is another example with a little more interesting data."
   ]
  },
  {
   "cell_type": "code",
   "execution_count": 77,
   "metadata": {
    "ExecuteTime": {
     "end_time": "2022-08-26T20:24:13.162104Z",
     "start_time": "2022-08-26T20:24:13.158357Z"
    }
   },
   "outputs": [
    {
     "data": {
      "text/plain": [
       "((30, 1), (30, 1))"
      ]
     },
     "execution_count": 77,
     "metadata": {},
     "output_type": "execute_result"
    }
   ],
   "source": [
    "n = 30\n",
    "Xtrain = np.linspace(0., 20.0, n).reshape((n, 1)) - 10\n",
    "Ttrain = 0.2 + 0.05 * (Xtrain + 10) + 0.4 * np.sin(Xtrain + 10) + 0.2 * np.random.normal(size=(n, 1))\n",
    "\n",
    "Xtest = Xtrain + 0.1 * np.random.normal(size=(n, 1))\n",
    "Ttest = 0.2 + 0.05 * (Xtest + 10) + 0.4 * np.sin(Xtest + 10) + 0.2 * np.random.normal(size=(n, 1))\n",
    "Xtrain.shape,Ttrain.shape"
   ]
  },
  {
   "cell_type": "code",
   "execution_count": 78,
   "metadata": {
    "ExecuteTime": {
     "end_time": "2022-08-26T20:24:13.765812Z",
     "start_time": "2022-08-26T20:24:13.742758Z"
    },
    "scrolled": true
   },
   "outputs": [],
   "source": [
    "rmses, U, V, W, X_means, X_stds, T_means, T_stds = train(Xtrain, Ttrain, 5, 5, 10000, 0.01)"
   ]
  },
  {
   "cell_type": "code",
   "execution_count": 79,
   "metadata": {
    "ExecuteTime": {
     "end_time": "2022-08-26T20:24:14.475063Z",
     "start_time": "2022-08-26T20:24:14.382816Z"
    }
   },
   "outputs": [
    {
     "data": {
      "text/plain": [
       "Text(0, 0.5, 'RMSE')"
      ]
     },
     "execution_count": 79,
     "metadata": {},
     "output_type": "execute_result"
    },
    {
     "data": {
      "image/png": "[encoded data removed]",
      "text/plain": [
       "<Figure size 432x288 with 1 Axes>"
      ]
     },
     "metadata": {
      "needs_background": "light"
     },
     "output_type": "display_data"
    }
   ],
   "source": [
    "plt.plot(rmses)\n",
    "plt.xlabel('Epoch')\n",
    "plt.ylabel('RMSE')"
   ]
  },
  {
   "cell_type": "code",
   "execution_count": 80,
   "metadata": {
    "ExecuteTime": {
     "end_time": "2022-08-26T20:24:15.233217Z",
     "start_time": "2022-08-26T20:24:15.230425Z"
    }
   },
   "outputs": [],
   "source": [
    "Y = use(Xtrain, X_means, X_stds, T_means, T_stds, U, V, W)"
   ]
  },
  {
   "cell_type": "code",
   "execution_count": 81,
   "metadata": {
    "ExecuteTime": {
     "end_time": "2022-08-26T20:24:16.068860Z",
     "start_time": "2022-08-26T20:24:15.982998Z"
    }
   },
   "outputs": [
    {
     "data": {
      "image/png": "[encoded data removed]",
      "text/plain": [
       "<Figure size 432x288 with 1 Axes>"
      ]
     },
     "metadata": {
      "needs_background": "light"
     },
     "output_type": "display_data"
    }
   ],
   "source": [
    "plt.plot(Xtrain, Ttrain)\n",
    "plt.plot(Xtrain, Y);"
   ]
  },
  {
   "cell_type": "code",
   "execution_count": 82,
   "metadata": {
    "ExecuteTime": {
     "end_time": "2022-08-26T20:25:54.298353Z",
     "start_time": "2022-08-26T20:25:52.294897Z"
    },
    "scrolled": false
   },
   "outputs": [
    {
     "data": {
      "image/png": "[encoded data removed]",
      "text/plain": [
       "<Figure size 720x288 with 2 Axes>"
      ]
     },
     "metadata": {
      "needs_background": "light"
     },
     "output_type": "display_data"
    }
   ],
   "source": [
    "rmses, U, V, W, X_means, X_stds, T_means, T_stds = train(Xtrain, Ttrain, 10, 5, 10000, 0.1)\n",
    "Y = use(Xtrain, X_means, X_stds, T_means, T_stds, U, V, W)\n",
    "\n",
    "plt.figure(figsize=(10, 4))\n",
    "plt.subplot(1, 2, 1)\n",
    "plt.plot(rmses)\n",
    "plt.xlabel('Epoch')\n",
    "plt.ylabel('RMSE')\n",
    "\n",
    "plt.subplot(1, 2, 2)\n",
    "plt.plot(Xtrain, Ttrain, label='Train')\n",
    "plt.plot(Xtrain, Y, label='Test')\n",
    "plt.xlabel('Input')\n",
    "plt.ylabel('Target and Output')\n",
    "plt.legend();"
   ]
  },
  {
   "cell_type": "markdown",
   "metadata": {},
   "source": [
    "Your plots will probably differ from these results, because you start with different random weight values."
   ]
  },
  {
   "cell_type": "markdown",
   "metadata": {},
   "source": [
    "## Discussion"
   ]
  },
  {
   "cell_type": "markdown",
   "metadata": {},
   "source": [
    "In this markdown cell, describe what difficulties you encountered in completing this assignment. What parts were easy for you and what parts were hard?\n",
    "\n",
    "Given that it was a continuation of Lecture Notes 04, the assignment was rather simple. While defining each of the four necessary functions, I had to be extremely careful to determine which function accepts standardized or non-standardized inputs and if the outputs it delivers are standardized or non-standardized. This was not a problem when adding a second hidden layer. Additionally, after defining my gradient function with the revised version, I had a problem and later realized that I had inadvertently reshaped my input matrix because the prior gradient function had not taken the input matrix with ones added into account. So defining the weights in the train function gives some errors because the matrix size is mismatched. And one more problem I faced during appending root mean square error in a list.\n",
    "For a new data set, initialy I missed the regression type in the question and predicted with my model. But now the problem is solved. I tried many other data sets but included only one as an example.  "
   ]
  },
  {
   "cell_type": "markdown",
   "metadata": {},
   "source": [
    "# Grading\n",
    "\n",
    "Your notebook will be run and graded automatically. Test this grading process by first downloading [A1grader.tar](http://www.cs.colostate.edu/~anderson/cs545/notebooks/A1grader.tar) <font color=\"red\">(updated August 28th)</font> and extract `A1grader.py` from it. Run the code in the following cell to demonstrate an example grading session.  The remaining 10 points will be based on your discussion of this assignment.\n",
    "\n",
    "A different, but similar, grading script will be used to grade your checked-in notebook. It will include additional tests. You should design and perform additional tests on all of your functions to be sure they run correctly before checking in your notebook.  A perfect execution score from this grading script does not guarantee that you will receive a perfect execution score from the final grading script.\n",
    "\n",
    "For the grading script to run correctly, you must first name this notebook as 'Lastname-A1.ipynb' with 'Lastname' being your last name, and then save this notebook."
   ]
  },
  {
   "cell_type": "code",
   "execution_count": 83,
   "metadata": {
    "ExecuteTime": {
     "end_time": "2022-08-28T22:33:08.565346Z",
     "start_time": "2022-08-28T22:33:05.128779Z"
    }
   },
   "outputs": [
    {
     "name": "stdout",
     "output_type": "stream",
     "text": [
      "\n",
      "======================= Code Execution =======================\n",
      "\n",
      "Extracting python code from notebook named 'Podder-A1.ipynb' and storing in notebookcode.py\n"
     ]
    },
    {
     "name": "stderr",
     "output_type": "stream",
     "text": [
      "[NbConvertApp] Converting notebook Podder-A1.ipynb to script\n"
     ]
    },
    {
     "name": "stdout",
     "output_type": "stream",
     "text": [
      "Removing all statements that are not function or class defs or import statements.\n",
      "\n",
      "Testing\n",
      "    X = np.arange(4).reshape(-1, 1)\n",
      "    T = np.log(X + 10)\n",
      "\n",
      "    ni = 1\n",
      "    nu = 2\n",
      "    nv = 3\n",
      "    U = np.arange((ni + 1) * nu).reshape(ni + 1, nu) * 0.1\n",
      "    V = (np.arange((nu + 1) * nv).reshape(nu + 1, nv) - 6) * 0.1\n",
      "    W = np.arange(nv + 1).reshape(nv + 1, 1) * -0.1\n",
      "\n",
      "    a = forward_layer1(X, U)\n",
      "    b = forward_layer2(a, V)\n",
      "    c = forward_layer3(b, W)\n",
      "\n",
      "    Zu, Zv, Y = forward(X, U, V, W)\n",
      "\n",
      "\n",
      "--- 20/20 points. a, b, c, Zu, Zv and Y are correct.\n",
      "\n",
      "Testing\n",
      "    X = np.arange(4).reshape(-1, 1)\n",
      "    T = np.log(X + 10)\n",
      "\n",
      "    ni = 1\n",
      "    nu = 2\n",
      "    nv = 3\n",
      "    U = np.arange((ni + 1) * nu).reshape(ni + 1, nu) * 0.1\n",
      "    V = (np.arange((nu + 1) * nv).reshape(nu + 1, nv) - 6) * 0.1\n",
      "    W = np.arange(nv + 1).reshape(nv + 1, 1) * -0.1\n",
      "\n",
      "    Zu = np.array([[0.        , 0.09966799],\n",
      "                   [0.19737532, 0.37994896],\n",
      "                   [0.37994896, 0.60436778],\n",
      "                   [0.53704957, 0.76159416]])\n",
      "    Zv = np.array([[-0.53704957, -0.45424278, -0.36276513],\n",
      "                   [-0.57783916, -0.46328044, -0.3308191 ],\n",
      "                   [-0.61316945, -0.47426053, -0.30690171],\n",
      "                   [-0.64173317, -0.4863364 , -0.29258059]])\n",
      "    Y = np.array([[0.25338305],\n",
      "                  [0.24968573],\n",
      "                  [0.24823956],\n",
      "                  [0.24921478]])\n",
      "\n",
      "    d3 = backward_layer3(T, Y)\n",
      "    d2 = backward_layer2(d3, W, Zv)\n",
      "    d1 = backward_layer1(d2, V, Zu)\n",
      "\n",
      "  \n",
      "    grad_wrt_U, grad_wrt_V, grad_wrt_W = gradients(X, T, Zu, Zv, Y, U, V, W)\n",
      "\n",
      "\n",
      "--- 20/20 points. d1, d2, d3, grad_wrt_U, grad_wrt_V, grad_wrt_W are correct.\n",
      "\n",
      "Testing\n",
      "    X = (np.arange(40).reshape(-1, 2) - 10) * 0.1\n",
      "    T = X ** 3\n",
      "\n",
      "    rmses, U, V, W, X_means, X_stds, T_means, T_stds = train(X, T, 100, 50, 10000, 0.005)\n",
      "\n",
      "U.shape is correct\n",
      "V.shape is correct\n",
      "W.shape is correct\n",
      "X_means is correct.\n",
      "X_stds is correct.\n",
      "T_means is correct.\n",
      "T_stds is correct.\n",
      "\n",
      "--- 20/20 points. Shapes of weight matrices and standardization parameters are correct\n",
      "\n",
      "Testing\n",
      "    X = (np.arange(40).reshape(-1, 2) - 10) * 0.1\n",
      "    T = X ** 3\n",
      "\n",
      "    vs = []\n",
      "    for i in range(20):\n",
      "        rmses, U, V, W, X_means, X_stds, T_means, T_stds = train(X, T, 100, 50, 100, 0.005)\n",
      "        Y = use(X, X_means, X_stds, T_means, T_stds, U, V, W)\n",
      "        vs.append(rmse(Y, T, T_stds))\n",
      "\n",
      "    rmse_min, rmse_max = min(vs), max(vs)\n",
      "\n",
      "\n",
      "--- 30/30 points. Range of RMSE results are what is expected: 20 < RMSE < 60\n",
      "\n",
      "======================================================================\n",
      "Assingment 1 Execution Grade is 90 / 90\n",
      "======================================================================\n",
      "\n",
      " __ / 10 points Based on your discussion.\n",
      "\n",
      "======================================================================\n",
      "Assingment 1 FINAL GRADE is  _  / 100\n",
      "======================================================================\n",
      "\n",
      "Extra Credit:\n",
      "\n",
      "Apply your functions to a data set from the UCI Machine Learning Repository.\n",
      "Explain your steps and results in markdown cells.\n",
      "\n",
      "\n",
      "Assingment 1 EXTRA CREDIT is 0 / 1\n"
     ]
    },
    {
     "data": {
      "text/plain": [
       "<Figure size 432x288 with 0 Axes>"
      ]
     },
     "metadata": {},
     "output_type": "display_data"
    }
   ],
   "source": [
    "%run -i A1grader.py"
   ]
  },
  {
   "cell_type": "markdown",
   "metadata": {},
   "source": [
    "# Check-In\n",
    "\n",
    "Do not include this section in your notebook.\n",
    "\n",
    "Name your notebook ```Lastname-A1.ipynb```.  So, for me it would be ```Anderson-A1.ipynb```.  Submit the file using the ```Assignment 1``` link on [Canvas](https://colostate.instructure.com/courses/151263)."
   ]
  },
  {
   "cell_type": "markdown",
   "metadata": {},
   "source": [
    "# Extra Credit\n",
    "\n",
    "Apply your multilayer neural network code to a regression problem using data that you choose \n",
    "from the [UCI Machine Learning Repository](http://archive.ics.uci.edu/ml/datasets.php). Pick a dataset that\n",
    "is listed as being appropriate for regression."
   ]
  },
  {
   "cell_type": "markdown",
   "metadata": {},
   "source": [
    "1. Database Description:\n",
    "    (a) Title\n",
    "        Bar Crawl: Detecting Heavy Drinking\n",
    "    (b) Abstract\n",
    "        Accelerometer and transdermal alcohol content data from a college bar crawl. Used to predict heavy drinking episodes. The datsset contains unix timestamp and TAC Reading of participants.\n",
    "\n",
    "Data that have been used here: clean_tac/DK3500_clean_TAC.csv \n",
    "\n",
    "        clean_tac/*.csv:\n",
    "        timestamp: integer, unix timestamp, seconds\n",
    "        TAC_Reading: continuous, time-series"
   ]
  },
  {
   "cell_type": "code",
   "execution_count": 84,
   "metadata": {},
   "outputs": [],
   "source": [
    "import pandas \n",
    "from IPython.display import display, clear_output"
   ]
  },
  {
   "cell_type": "code",
   "execution_count": null,
   "metadata": {},
   "outputs": [
    {
     "name": "stdout",
     "output_type": "stream",
     "text": [
      "  % Total    % Received % Xferd  Average Speed   Time    Time     Time  Current\n",
      "                                 Dload  Upload   Total   Spent    Left  Speed\n",
      " 78  152M   78  119M    0     0  1858k      0  0:01:24  0:01:06  0:00:18 1874k0     0  1768k      0  0:01:28  0:00:11  0:01:17 1808k  0  0:01:26  0:00:23  0:01:03 1877k:01:25  0:00:29  0:00:56 1882k  0:01:24  0:00:38  0:00:46 1878k"
     ]
    }
   ],
   "source": [
    "!curl -O https://archive.ics.uci.edu/ml/machine-learning-databases/00515/data.zip\n",
    "!unzip -o data.zip"
   ]
  },
  {
   "cell_type": "code",
   "execution_count": 1,
   "metadata": {},
   "outputs": [
    {
     "name": "stdout",
     "output_type": "stream",
     "text": [
      "timestamp,TAC_Reading\r",
      "\r\n",
      "1493727820,0.000215461318636504\r",
      "\r\n",
      "1493728019,0.00171609867547058\r",
      "\r\n",
      "1493729841,0.0019206433629713\r",
      "\r\n",
      "1493731667,0.000569328504946995\r",
      "\r\n",
      "1493731994,-0.00132149209962271\r",
      "\r\n",
      "1493732320,-0.00222159304264712\r",
      "\r\n",
      "1493732647,-0.00129891294373796\r",
      "\r\n",
      "1493732974,0.000842040954570864\r",
      "\r\n",
      "1493733301,0.00251227766392165\r",
      "\r\n"
     ]
    }
   ],
   "source": [
    "!head clean_tac/DK3500_clean_TAC.csv"
   ]
  },
  {
   "cell_type": "code",
   "execution_count": null,
   "metadata": {},
   "outputs": [],
   "source": [
    "data = pandas.read_csv('clean_tac/DK3500_clean_TAC.csv', delimiter=',', decimal='.', usecols=range(2), na_values=-200)\n",
    "data = data.dropna(axis=0)\n",
    "data"
   ]
  },
  {
   "cell_type": "code",
   "execution_count": null,
   "metadata": {},
   "outputs": [],
   "source": [
    "Time = data['timestamp']\n",
    "Tac = data['TAC_Reading']"
   ]
  },
  {
   "cell_type": "code",
   "execution_count": null,
   "metadata": {},
   "outputs": [],
   "source": [
    "T = Tac[:30]\n",
    "T = np.array(T).reshape((-1, 1))\n",
    "Tnames = ['Tac_Reading']\n",
    "X = np.array(Time[:30]).reshape((-1, 1))\n",
    "Xnames = ['Unix Timestamp']\n",
    "print('X.shape =', X.shape, 'Xnames =', Xnames, 'T.shape =', T.shape, 'Tnames =', Tnames)\n",
    "print(f'{X.shape=} {Xnames=} {T.shape=} {Tnames=}')\n",
    "\n",
    "Ttest = Tac\n",
    "Ttest = np.array(T).reshape((-1, 1))\n",
    "Xtest = np.array(Time).reshape((-1, 1))"
   ]
  },
  {
   "cell_type": "code",
   "execution_count": null,
   "metadata": {},
   "outputs": [],
   "source": [
    "rmses, U, V, W, X_means, X_stds, T_means, T_stds = train(X, T, 5, 5, 10000, 0.01)"
   ]
  },
  {
   "cell_type": "code",
   "execution_count": null,
   "metadata": {
    "scrolled": true
   },
   "outputs": [],
   "source": [
    "plt.plot(rmses)\n",
    "plt.xlabel('Epoch')\n",
    "plt.ylabel('RMSE')"
   ]
  },
  {
   "cell_type": "code",
   "execution_count": null,
   "metadata": {},
   "outputs": [],
   "source": [
    "Y = use(X, X_means, X_stds, T_means, T_stds, U, V, W)"
   ]
  },
  {
   "cell_type": "code",
   "execution_count": null,
   "metadata": {},
   "outputs": [],
   "source": [
    "plt.plot(X, T)\n",
    "plt.plot(X, Y);"
   ]
  },
  {
   "cell_type": "code",
   "execution_count": null,
   "metadata": {},
   "outputs": [],
   "source": [
    "rmses, U, V, W, X_means, X_stds, T_means, T_stds = train(X, T, 10, 5, 10000, 0.1)\n",
    "Y = use(X, X_means, X_stds, T_means, T_stds, U, V, W)\n",
    "\n",
    "plt.figure(figsize=(10, 4))\n",
    "plt.subplot(1, 2, 1)\n",
    "plt.plot(rmses)\n",
    "plt.xlabel('Epoch')\n",
    "plt.ylabel('RMSE')\n",
    "\n",
    "plt.subplot(1, 2, 2)\n",
    "plt.plot(X, T, label='Train')\n",
    "plt.plot(X, Y, label='Test')\n",
    "plt.xlabel('Input')\n",
    "plt.ylabel('Target and Output')\n",
    "plt.legend();"
   ]
  }
 ],
 "metadata": {
  "kernelspec": {
   "display_name": "Python 3 (ipykernel)",
   "language": "python",
   "name": "python3"
  },
  "language_info": {
   "codemirror_mode": {
    "name": "ipython",
    "version": 3
   },
   "file_extension": ".py",
   "mimetype": "text/x-python",
   "name": "python",
   "nbconvert_exporter": "python",
   "pygments_lexer": "ipython3",
   "version": "3.9.12"
  },
  "toc": {
   "base_numbering": 1,
   "nav_menu": {},
   "number_sections": false,
   "sideBar": true,
   "skip_h1_title": true,
   "title_cell": "Table of Contents",
   "title_sidebar": "Contents",
   "toc_cell": true,
   "toc_position": {
    "height": "calc(100% - 180px)",
    "left": "10px",
    "top": "150px",
    "width": "512px"
   },
   "toc_section_display": true,
   "toc_window_display": false
  }
 },
 "nbformat": 4,
 "nbformat_minor": 4
}
