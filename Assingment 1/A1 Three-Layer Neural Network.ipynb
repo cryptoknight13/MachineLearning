{
 "cells": [
  {
   "cell_type": "markdown",
   "metadata": {},
   "source": [
    "# A1: Three-Layer Neural Network"
   ]
  },
  {
   "cell_type": "markdown",
   "metadata": {
    "toc": true
   },
   "source": [
    "<h1>Table of Contents<span class=\"tocSkip\"></span></h1>\n",
    "<div class=\"toc\"><ul class=\"toc-item\"><li><span><a href=\"#Requirements\" data-toc-modified-id=\"Requirements-1\">Requirements</a></span></li><li><span><a href=\"#Example-Results\" data-toc-modified-id=\"Example-Results-2\">Example Results</a></span></li><li><span><a href=\"#Discussion\" data-toc-modified-id=\"Discussion-3\">Discussion</a></span></li></ul></div>"
   ]
  },
  {
   "cell_type": "markdown",
   "metadata": {},
   "source": [
    "## Requirements"
   ]
  },
  {
   "cell_type": "markdown",
   "metadata": {},
   "source": [
    "In this assignment, you will start with code from lecture notes 04 and add code to do the following. You will implement and apply a neural network as in lecture notes 04 but now with an additional hidden layer.  The resulting three-layer network will consist of three weight matrices, `U`, `V` and `W`.\n",
    "\n",
    "First, implement the forward pass to calculate outputs of each layer:\n",
    "\n",
    "* Define functions `add_ones` and `rmse` by copying it from the lecture notes.\n",
    "* Define function `forward_layer1` with two arguments, the input `X` and the first layer's weights `U`. It calculates and returns the output, `Zu`, of the first layer, using the `tanh` activation function.\n",
    "* Define function `forward_layer2` with two arguments, the input `Zu` and the second layer's weights `V`. It calculates and returns the output, `Zv`, of the second layer, using the `tanh` activation function.\n",
    "* Define function `forward_layer3` with two arguments, the input `Zv` and the third layer's weights `W`. It calculates and returns the output, `Y`, of the third layer as just the weighted sum of the inputs, without an activation function.\n",
    "* Define function `forward` with four arguments, the input `X` to the network and the weight matrices, `U`, `V` and `W` of the three layers. It calls the above three functions and returns the outputs of all layers, `Zu`, `Zv`, `Y`.\n",
    "\n",
    "Now implement the backward pass that calculates `delta` values for each layer:\n",
    "\n",
    "* Define function `backward_layer3` that accepts as arguments the target values `T` and the predicted values `Y` calculated by function `forward`. It calculates and returns `delta_layer3` for layer 3, which is just `T - Y`.\n",
    "* Define function `backward_layer2` that accepts as arguments `delta_layer3`, `W` and `Zv` and calculates and returns `delta` for layer 2 by back-propagating `delta_layer3` through `W`.\n",
    "* Define function `backward_layer1` that accepts as arguments `delta_layer2`, `V` and `ZU` and calculates and returns `delta` for layer 1 by back-propagating `delta_layer2` through `V`.\n",
    "* Define function `gradients` that accepts as arguments `X`, `T`, `Zu`, `Zv`, `Y`, `U`, `V`, and `W`, and calls the above three functions and uses the results to calculate the gradient of the mean squared error between `T` and `Y` with respect to `U`, `V` and `W` and returns those three gradients.\n",
    "\n",
    "Now you can use `forward` and `gradients` to define the function `train` to train a three-layer neural network.\n",
    "          \n",
    "* Define function `train` that returns the resulting values of `U`, `V`, and `W` and the `X` and `T` standardization parameters.  Arguments are unstandardized `X` and `T`, the number of units in each of the two hidden layers, the number of epochs and the learning rate. This function standardizes `X` and `T`, initializes `U`, `V` and `W` to uniformly distributed random values between -0.1 and 0.1, and updates `U`, `V` and `W` by the learning rate times their gradients for `n_epochs` times as shown in lecture notes 04.  This function must call `forward`, `gradients` and `add_ones`.  It must also collect in a list called `rmses` the root-mean-square errors for each epoch between `T` and `Y`.\n",
    "\n",
    "      def train(X, T, n_units_U, n_units_V, n_epochs, rho):\n",
    "          .\n",
    "          .\n",
    "          .\n",
    "          return rmses, U, V, W, X_means, X_stds, T_means, T_stds\n",
    "\n",
    "Then we need a function `use` that calculates an output `Y` for new samples.  \n",
    "\n",
    "* Define function `use` that accepts unstandardized `X`, standardization parameters, and weight matrices `U`, `V`, and `W` and returns the unstandardized output.\n",
    "\n",
    "      def use(X, X_means, X_stds, T_means, T_stds, U, V, W):\n",
    "          .\n",
    "          .\n",
    "          .\n",
    "          Y = ....\n",
    "          return Y"
   ]
  },
  {
   "cell_type": "markdown",
   "metadata": {},
   "source": [
    "## Example Results"
   ]
  },
  {
   "cell_type": "code",
   "execution_count": 1,
   "metadata": {
    "ExecuteTime": {
     "end_time": "2022-08-26T20:23:29.395578Z",
     "start_time": "2022-08-26T20:23:29.391965Z"
    }
   },
   "outputs": [],
   "source": [
    "import numpy as np\n",
    "import matplotlib.pyplot as plt\n",
    "%matplotlib inline"
   ]
  },
  {
   "cell_type": "markdown",
   "metadata": {},
   "source": [
    "Add code cells here to define the functions above.  Once these are correctly defined, the following cells should run and produce the same results as those here."
   ]
  },
  {
   "cell_type": "code",
   "execution_count": 2,
   "metadata": {
    "ExecuteTime": {
     "end_time": "2022-08-26T20:23:29.416386Z",
     "start_time": "2022-08-26T20:23:29.405702Z"
    }
   },
   "outputs": [
    {
     "data": {
      "text/plain": [
       "((4, 1), (4, 1), (4, 1), (4, 1))"
      ]
     },
     "execution_count": 2,
     "metadata": {},
     "output_type": "execute_result"
    }
   ],
   "source": [
    "Xtrain = np.arange(4).reshape(-1, 1)\n",
    "Ttrain = Xtrain ** 2\n",
    "\n",
    "Xtest = Xtrain + 0.5\n",
    "Ttest = Xtest ** 2\n",
    "\n",
    "Xtrain.shape, Ttrain.shape, Xtest.shape, Ttest.shape"
   ]
  },
  {
   "cell_type": "code",
   "execution_count": 3,
   "metadata": {
    "ExecuteTime": {
     "end_time": "2022-08-26T20:24:01.638648Z",
     "start_time": "2022-08-26T20:24:01.634523Z"
    }
   },
   "outputs": [
    {
     "data": {
      "text/plain": [
       "((2, 3), (4, 2), (3, 1))"
      ]
     },
     "execution_count": 3,
     "metadata": {},
     "output_type": "execute_result"
    }
   ],
   "source": [
    "U = np.array([[1, 2, 3], [4, 5, 6]])  # 2 x 3 matrix, for 2 inputs (include constant 1) and 3 units\n",
    "V = np.array([[-1, 3], [1, 3], [-2, 1], [2, -4]]) # 2 x 3 matrix, for 3 inputs (include constant 1) and 2 units\n",
    "W = np.array([[-1], [2], [3]])  # 3 x 1 matrix, for 3 inputs (include constant 1) and 1 output unit\n",
    "U.shape, V.shape, W.shape"
   ]
  },
  {
   "cell_type": "code",
   "execution_count": 4,
   "metadata": {
    "ExecuteTime": {
     "end_time": "2022-08-26T20:24:04.022088Z",
     "start_time": "2022-08-26T20:24:04.018425Z"
    }
   },
   "outputs": [
    {
     "data": {
      "text/plain": [
       "array([[-1.34164079],\n",
       "       [-0.4472136 ],\n",
       "       [ 0.4472136 ],\n",
       "       [ 1.34164079]])"
      ]
     },
     "execution_count": 4,
     "metadata": {},
     "output_type": "execute_result"
    }
   ],
   "source": [
    "X_means = np.mean(Xtrain, axis=0)\n",
    "X_stds = np.std(Xtrain, axis=0)\n",
    "Xtrain_st = (Xtrain - X_means) / X_stds\n",
    "Xtrain_st"
   ]
  },
  {
   "cell_type": "code",
   "execution_count": 5,
   "metadata": {
    "ExecuteTime": {
     "end_time": "2022-08-26T20:24:04.182546Z",
     "start_time": "2022-08-26T20:24:04.178639Z"
    }
   },
   "outputs": [
    {
     "data": {
      "text/plain": [
       "array([[-1.        ],\n",
       "       [-0.71428571],\n",
       "       [ 0.14285714],\n",
       "       [ 1.57142857]])"
      ]
     },
     "execution_count": 5,
     "metadata": {},
     "output_type": "execute_result"
    }
   ],
   "source": [
    "T_means = np.mean(Ttrain, axis=0)\n",
    "T_stds = np.std(Ttrain, axis=0)\n",
    "Ttrain_st = (Ttrain - T_means) / T_stds\n",
    "Ttrain_st"
   ]
  },
  {
   "cell_type": "code",
   "execution_count": 6,
   "metadata": {
    "ExecuteTime": {
     "end_time": "2022-08-26T20:24:04.342004Z",
     "start_time": "2022-08-26T20:24:04.338475Z"
    }
   },
   "outputs": [
    {
     "ename": "NameError",
     "evalue": "name 'forward_layer1' is not defined",
     "output_type": "error",
     "traceback": [
      "\u001b[0;31m---------------------------------------------------------------------------\u001b[0m",
      "\u001b[0;31mNameError\u001b[0m                                 Traceback (most recent call last)",
      "Input \u001b[0;32mIn [6]\u001b[0m, in \u001b[0;36m<cell line: 1>\u001b[0;34m()\u001b[0m\n\u001b[0;32m----> 1\u001b[0m Zu \u001b[38;5;241m=\u001b[39m \u001b[43mforward_layer1\u001b[49m(Xtrain_st, U)\n\u001b[1;32m      2\u001b[0m Zu\n",
      "\u001b[0;31mNameError\u001b[0m: name 'forward_layer1' is not defined"
     ]
    }
   ],
   "source": [
    "Zu = forward_layer1(Xtrain_st, U)\n",
    "Zu"
   ]
  },
  {
   "cell_type": "code",
   "execution_count": null,
   "metadata": {
    "ExecuteTime": {
     "end_time": "2022-08-26T20:24:04.517942Z",
     "start_time": "2022-08-26T20:24:04.514542Z"
    }
   },
   "outputs": [],
   "source": [
    "Zv = forward_layer2(Zu, V)\n",
    "Zv"
   ]
  },
  {
   "cell_type": "code",
   "execution_count": null,
   "metadata": {
    "ExecuteTime": {
     "end_time": "2022-08-26T20:24:04.686141Z",
     "start_time": "2022-08-26T20:24:04.682810Z"
    }
   },
   "outputs": [],
   "source": [
    "Y = forward_layer3(Zv, W)\n",
    "Y"
   ]
  },
  {
   "cell_type": "code",
   "execution_count": null,
   "metadata": {
    "ExecuteTime": {
     "end_time": "2022-08-26T20:24:04.870350Z",
     "start_time": "2022-08-26T20:24:04.866443Z"
    }
   },
   "outputs": [],
   "source": [
    "Zu, Zv, Y = forward(Xtrain_st, U, V, W)\n",
    "print(f'{Zu=}')\n",
    "print(f'{Zv=}')\n",
    "print(f'{Y=}')"
   ]
  },
  {
   "cell_type": "code",
   "execution_count": null,
   "metadata": {
    "ExecuteTime": {
     "end_time": "2022-08-26T20:24:05.309777Z",
     "start_time": "2022-08-26T20:24:05.306336Z"
    }
   },
   "outputs": [],
   "source": [
    "delta_layer3 = backward_layer3(Ttrain_st, Y)\n",
    "delta_layer3"
   ]
  },
  {
   "cell_type": "code",
   "execution_count": null,
   "metadata": {
    "ExecuteTime": {
     "end_time": "2022-08-26T20:24:05.749661Z",
     "start_time": "2022-08-26T20:24:05.746277Z"
    }
   },
   "outputs": [],
   "source": [
    "delta_layer2 = backward_layer2(delta_layer3, W, Zv)\n",
    "delta_layer2"
   ]
  },
  {
   "cell_type": "code",
   "execution_count": null,
   "metadata": {
    "ExecuteTime": {
     "end_time": "2022-08-26T20:24:06.125622Z",
     "start_time": "2022-08-26T20:24:06.122304Z"
    }
   },
   "outputs": [],
   "source": [
    "delta_layer1 = backward_layer1(delta_layer2, V, Zu)\n",
    "delta_layer1"
   ]
  },
  {
   "cell_type": "code",
   "execution_count": null,
   "metadata": {
    "ExecuteTime": {
     "end_time": "2022-08-26T20:24:06.494337Z",
     "start_time": "2022-08-26T20:24:06.490364Z"
    }
   },
   "outputs": [],
   "source": [
    "grad_U, grad_V, grad_W = gradients(Xtrain_st, Ttrain_st, Zu, Zv, Y, U, V, W)\n",
    "print(f'{grad_U=}')\n",
    "print(f'{grad_V=}')\n",
    "print(f'{grad_W=}')"
   ]
  },
  {
   "cell_type": "code",
   "execution_count": null,
   "metadata": {
    "ExecuteTime": {
     "end_time": "2022-08-26T20:24:07.158392Z",
     "start_time": "2022-08-26T20:24:07.154785Z"
    }
   },
   "outputs": [],
   "source": [
    "Y = use(Xtrain, X_means, X_stds, T_means, T_stds, U, V, W)\n",
    "Y"
   ]
  },
  {
   "cell_type": "code",
   "execution_count": null,
   "metadata": {
    "ExecuteTime": {
     "end_time": "2022-08-26T20:24:08.007309Z",
     "start_time": "2022-08-26T20:24:07.830666Z"
    }
   },
   "outputs": [],
   "source": [
    "rmses, U, V, W, X_means, X_stds, T_means, T_stds = train(Xtrain, Ttrain, 10, 10, 1000, 0.05)"
   ]
  },
  {
   "cell_type": "code",
   "execution_count": null,
   "metadata": {
    "ExecuteTime": {
     "end_time": "2022-08-26T20:24:08.226508Z",
     "start_time": "2022-08-26T20:24:08.222323Z"
    }
   },
   "outputs": [],
   "source": [
    "Y = use(Xtrain, X_means, X_stds, T_means, T_stds, U, V, W)\n",
    "np.hstack((Ttrain, Y))"
   ]
  },
  {
   "cell_type": "code",
   "execution_count": null,
   "metadata": {
    "ExecuteTime": {
     "end_time": "2022-08-26T20:24:12.384716Z",
     "start_time": "2022-08-26T20:24:12.246380Z"
    }
   },
   "outputs": [],
   "source": [
    "plt.plot(rmses)\n",
    "plt.xlabel('Epoch')\n",
    "plt.ylabel('RMSE')"
   ]
  },
  {
   "cell_type": "markdown",
   "metadata": {},
   "source": [
    "Here is another example with a little more interesting data."
   ]
  },
  {
   "cell_type": "code",
   "execution_count": null,
   "metadata": {
    "ExecuteTime": {
     "end_time": "2022-08-26T20:24:13.162104Z",
     "start_time": "2022-08-26T20:24:13.158357Z"
    }
   },
   "outputs": [],
   "source": [
    "n = 30\n",
    "Xtrain = np.linspace(0., 20.0, n).reshape((n, 1)) - 10\n",
    "Ttrain = 0.2 + 0.05 * (Xtrain + 10) + 0.4 * np.sin(Xtrain + 10) + 0.2 * np.random.normal(size=(n, 1))\n",
    "\n",
    "Xtest = Xtrain + 0.1 * np.random.normal(size=(n, 1))\n",
    "Ttest = 0.2 + 0.05 * (Xtest + 10) + 0.4 * np.sin(Xtest + 10) + 0.2 * np.random.normal(size=(n, 1))"
   ]
  },
  {
   "cell_type": "code",
   "execution_count": null,
   "metadata": {
    "ExecuteTime": {
     "end_time": "2022-08-26T20:24:13.765812Z",
     "start_time": "2022-08-26T20:24:13.742758Z"
    }
   },
   "outputs": [],
   "source": [
    "rmse, U, V, W, X_means, X_stds, T_means, T_stds = train(Xtrain, Ttrain, 5, 5, 100, 0.01)"
   ]
  },
  {
   "cell_type": "code",
   "execution_count": null,
   "metadata": {
    "ExecuteTime": {
     "end_time": "2022-08-26T20:24:14.475063Z",
     "start_time": "2022-08-26T20:24:14.382816Z"
    }
   },
   "outputs": [],
   "source": [
    "plt.plot(rmses)\n",
    "plt.xlabel('Epoch')\n",
    "plt.ylabel('RMSE')"
   ]
  },
  {
   "cell_type": "code",
   "execution_count": null,
   "metadata": {
    "ExecuteTime": {
     "end_time": "2022-08-26T20:24:15.233217Z",
     "start_time": "2022-08-26T20:24:15.230425Z"
    }
   },
   "outputs": [],
   "source": [
    "Y = use(Xtrain, X_means, X_stds, T_means, T_stds, U, V, W)"
   ]
  },
  {
   "cell_type": "code",
   "execution_count": null,
   "metadata": {
    "ExecuteTime": {
     "end_time": "2022-08-26T20:24:16.068860Z",
     "start_time": "2022-08-26T20:24:15.982998Z"
    }
   },
   "outputs": [],
   "source": [
    "plt.plot(Xtrain, Ttrain)\n",
    "plt.plot(Xtrain, Y);"
   ]
  },
  {
   "cell_type": "code",
   "execution_count": null,
   "metadata": {
    "ExecuteTime": {
     "end_time": "2022-08-26T20:25:54.298353Z",
     "start_time": "2022-08-26T20:25:52.294897Z"
    },
    "scrolled": false
   },
   "outputs": [],
   "source": [
    "rmses, U, V, W, X_means, X_stds, T_means, T_stds = train(Xtrain, Ttrain, 10, 5, 10000, 0.1)\n",
    "Y = use(Xtrain, X_means, X_stds, T_means, T_stds, U, V, W)\n",
    "\n",
    "plt.figure(figsize=(10, 4))\n",
    "plt.subplot(1, 2, 1)\n",
    "plt.plot(rmses)\n",
    "plt.xlabel('Epoch')\n",
    "plt.ylabel('RMSE')\n",
    "\n",
    "plt.subplot(1, 2, 2)\n",
    "plt.plot(Xtrain, Ttrain, label='Train')\n",
    "plt.plot(Xtrain, Y, label='Test')\n",
    "plt.xlabel('Input')\n",
    "plt.ylabel('Target and Output')\n",
    "plt.legend();"
   ]
  },
  {
   "cell_type": "markdown",
   "metadata": {},
   "source": [
    "Your plots will probably differ from these results, because you start with different random weight values."
   ]
  },
  {
   "cell_type": "markdown",
   "metadata": {},
   "source": [
    "## Discussion"
   ]
  },
  {
   "cell_type": "markdown",
   "metadata": {},
   "source": [
    "In this markdown cell, describe what difficulties you encountered in completing this assignment. What parts were easy for you and what parts were hard?"
   ]
  },
  {
   "cell_type": "markdown",
   "metadata": {},
   "source": [
    "# Grading\n",
    "\n",
    "Your notebook will be run and graded automatically. Test this grading process by first downloading [A1grader.tar](http://www.cs.colostate.edu/~anderson/cs545/notebooks/A1grader.tar) <font color=\"red\">(updated August 28th)</font> and extract `A1grader.py` from it. Run the code in the following cell to demonstrate an example grading session.  The remaining 10 points will be based on your discussion of this assignment.\n",
    "\n",
    "A different, but similar, grading script will be used to grade your checked-in notebook. It will include additional tests. You should design and perform additional tests on all of your functions to be sure they run correctly before checking in your notebook.  A perfect execution score from this grading script does not guarantee that you will receive a perfect execution score from the final grading script.\n",
    "\n",
    "For the grading script to run correctly, you must first name this notebook as 'Lastname-A1.ipynb' with 'Lastname' being your last name, and then save this notebook."
   ]
  },
  {
   "cell_type": "code",
   "execution_count": null,
   "metadata": {
    "ExecuteTime": {
     "end_time": "2022-08-28T22:33:08.565346Z",
     "start_time": "2022-08-28T22:33:05.128779Z"
    }
   },
   "outputs": [],
   "source": [
    "%run -i A1grader.py"
   ]
  },
  {
   "cell_type": "markdown",
   "metadata": {},
   "source": [
    "# Check-In\n",
    "\n",
    "Do not include this section in your notebook.\n",
    "\n",
    "Name your notebook ```Lastname-A1.ipynb```.  So, for me it would be ```Anderson-A1.ipynb```.  Submit the file using the ```Assignment 1``` link on [Canvas](https://colostate.instructure.com/courses/151263)."
   ]
  },
  {
   "cell_type": "markdown",
   "metadata": {},
   "source": [
    "# Extra Credit\n",
    "\n",
    "Apply your multilayer neural network code to a regression problem using data that you choose \n",
    "from the [UCI Machine Learning Repository](http://archive.ics.uci.edu/ml/datasets.php). Pick a dataset that\n",
    "is listed as being appropriate for regression."
   ]
  }
 ],
 "metadata": {
  "kernelspec": {
   "display_name": "Python 3 (ipykernel)",
   "language": "python",
   "name": "python3"
  },
  "language_info": {
   "codemirror_mode": {
    "name": "ipython",
    "version": 3
   },
   "file_extension": ".py",
   "mimetype": "text/x-python",
   "name": "python",
   "nbconvert_exporter": "python",
   "pygments_lexer": "ipython3",
   "version": "3.9.12"
  },
  "toc": {
   "base_numbering": 1,
   "nav_menu": {},
   "number_sections": false,
   "sideBar": true,
   "skip_h1_title": true,
   "title_cell": "Table of Contents",
   "title_sidebar": "Contents",
   "toc_cell": true,
   "toc_position": {
    "height": "calc(100% - 180px)",
    "left": "10px",
    "top": "150px",
    "width": "512px"
   },
   "toc_section_display": true,
   "toc_window_display": false
  }
 },
 "nbformat": 4,
 "nbformat_minor": 4
}
