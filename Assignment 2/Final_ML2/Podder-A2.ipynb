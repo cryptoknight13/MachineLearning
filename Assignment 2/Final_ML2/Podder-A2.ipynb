{
 "cells": [
  {
   "cell_type": "markdown",
   "metadata": {},
   "source": [
    "# A2: NeuralNetwork Class"
   ]
  },
  {
   "cell_type": "markdown",
   "metadata": {
    "toc": true
   },
   "source": [
    "<h1>Table of Contents<span class=\"tocSkip\"></span></h1>\n",
    "<div class=\"toc\"><ul class=\"toc-item\"><li><span><a href=\"#Requirements\" data-toc-modified-id=\"Requirements-1\">Requirements</a></span></li><li><span><a href=\"#Code-for-NeuralNetwork-Class\" data-toc-modified-id=\"Code-for-NeuralNetwork-Class-2\">Code for <code>NeuralNetwork</code> Class</a></span></li><li><span><a href=\"#Example-Results\" data-toc-modified-id=\"Example-Results-3\">Example Results</a></span></li><li><span><a href=\"#Application-to-Boston-Housing-Data\" data-toc-modified-id=\"Application-to-Boston-Housing-Data-4\">Application to Boston Housing Data</a></span></li></ul></div>"
   ]
  },
  {
   "cell_type": "markdown",
   "metadata": {},
   "source": [
    "## Requirements"
   ]
  },
  {
   "cell_type": "markdown",
   "metadata": {},
   "source": [
    "In this assignment, you will complete the implementation of the `NeuralNetwork` class, starting with the code included in the `04b` lecture notes.  Your implementation must \n",
    "\n",
    "1. Allow any number of hidden layers, including no hidden layers specified by an empty list as `[]`. <font color='red'>Don't forget this case.</font>\n",
    "2. Define `_forward(self, X)` and `_gradients(self, X, T` functions. `_forward` must return the output of the network, `Y`, in standardized form and create `self.Zs` as a list consisting of the input `X` and the outputs of all hidden layers. `_gradients` must return the gradients of the mean square error with respect to the weights in each layer. \n",
    "2. Your `train` function must standardize `X` and `T` and save the standardization parameters (means and stds) in member variables. It must append to `self.rmse_trace` the RMSE value for each epoch.  Initialize this list to be `[]` in the constructor to allow multiple calls to `train` to continue to append to the same `rmse_trace` list.\n",
    "2. Your `use` function must standardize `X` and unstandardize the output.\n",
    "\n",
    "See the following examples for more details.\n",
    "\n",
    "Then apply your `NeuralNetwork` class to the problem of predicting the value of houses in Boston as described below."
   ]
  },
  {
   "cell_type": "markdown",
   "metadata": {},
   "source": [
    "## Code for `NeuralNetwork` Class"
   ]
  },
  {
   "cell_type": "code",
   "execution_count": 1,
   "metadata": {
    "ExecuteTime": {
     "end_time": "2022-09-16T20:44:32.564986Z",
     "start_time": "2022-09-16T20:44:32.561771Z"
    }
   },
   "outputs": [],
   "source": [
    "import numpy as np\n",
    "import matplotlib.pyplot as plt\n",
    "%matplotlib inline\n",
    "import IPython.display as ipd  # for display and clear_output\n",
    "import time"
   ]
  },
  {
   "cell_type": "code",
   "execution_count": 2,
   "metadata": {
    "ExecuteTime": {
     "end_time": "2022-09-16T20:44:32.574691Z",
     "start_time": "2022-09-16T20:44:32.566777Z"
    }
   },
   "outputs": [],
   "source": [
    "# insert your NeuralNetwork class definition here.\n",
    "class NeuralNetwork:\n",
    "    \n",
    "    def __init__(self, n_inputs, n_hiddens_each_layer, n_outputs):\n",
    "        #Initializing all the Variables\n",
    "        self.n_inputs = n_inputs\n",
    "        self.n_hiddens_each_layer = n_hiddens_each_layer\n",
    "        self.n_outputs = n_outputs\n",
    "        \n",
    "        self.X_means = None\n",
    "        self.X_stds = None\n",
    "        self.T_means = None\n",
    "        self.T_stds = None\n",
    "        \n",
    "        self.n_epochs = None\n",
    "        self.rmse = None\n",
    "        #Initializing the Error Trace\n",
    "        self.rmse_trace = []\n",
    "        #Initializing the Wieght matrixes\n",
    "        self.Ws = []\n",
    "        #Forward Layer\n",
    "        self.Zs = []    \n",
    "\n",
    "        #Calcuting Shape of Ws on the basis of number of Hidden Layer\n",
    "        shapes=[[0] * 2 for i in range(len(n_hiddens_each_layer) + 1)]\n",
    "        shapes[0][0] = n_inputs + 1\n",
    "        i = n_inputs\n",
    "        \n",
    "        for j, i in enumerate(n_hiddens_each_layer):\n",
    "            shapes[j][1] = i\n",
    "            if j + 1 < len(n_hiddens_each_layer):\n",
    "                shapes[j + 1][0] = i + 1\n",
    "        if len(n_hiddens_each_layer) > 0:\n",
    "            shapes[j + 1][0] = i + 1\n",
    "            shapes[j + 1][1] = n_outputs\n",
    "        else:\n",
    "            shapes[0][1] = n_outputs\n",
    "        \n",
    "        shape = np.array(shapes)\n",
    "        shape_sum = np.sum(shape[:, 0] * shape[:, 1])\n",
    "        weights = np.random.uniform(-0.1, 0.1, shape_sum) \n",
    "        temp = 0\n",
    "        for i in shape:\n",
    "            init = temp + i[0] * i[1]\n",
    "            self.Ws.append(weights[temp:init].reshape(i[0], i[1]))\n",
    "            temp = init\n",
    "        self.Ws[-1][:,:]=0\n",
    "        \n",
    "    def __repr__(self):\n",
    "        return 'NeuralNetwork({}, {}, {})'.format(self.n_inputs, self.n_hiddens_each_layer, self.n_outputs)\n",
    "    \n",
    "    def __str__(self):\n",
    "        return self.__repr__() + ', trained for {} epochs with a final RMSE of {}'.format(self.n_epochs, self.rmse)\n",
    "    \n",
    "    def _add_ones(self, A):\n",
    "        return np.insert(A, 0, 1, axis=1)\n",
    "    \n",
    "    def _forward(self,X):\n",
    "        Z = [X]\n",
    "        for i in range(len(self.n_hiddens_each_layer)):\n",
    "            W = self._add_ones(Z[-1])\n",
    "            Z.append(np.tanh(W @ self.Ws[i]))\n",
    "            \n",
    "        Y = self._add_ones(Z[-1])\n",
    "        Z.append(Y @ self.Ws[-1])\n",
    "        \n",
    "        return Z\n",
    "    \n",
    "    def _gradients(self, X, T):\n",
    "        grad = []\n",
    "\n",
    "        D = T - self.Zs[-1]\n",
    "        grad.append(- self._add_ones(self.Zs[-2]).T @ D)\n",
    "        \n",
    "        n_layers = len(self.n_hiddens_each_layer)\n",
    "\n",
    "        for i in reversed(range(n_layers)):\n",
    "            D = D @ (self.Ws[i+1][1:, :]).T * (1 - self.Zs[i+1]**2)\n",
    "            grad.append(- self._add_ones(self.Zs[i]).T @ D)\n",
    "            \n",
    "        grad.reverse()\n",
    "        return grad\n",
    "    \n",
    "    def calc_rmse(self, T, Y):\n",
    "        error = (T - Y) * self.T_stds \n",
    "        return np.sqrt(np.mean(error ** 2))\n",
    "    \n",
    "    def train(self, X, T, n_epochs,learning_rate):\n",
    "        self.n_epochs = n_epochs\n",
    "        self.learning_rate = learning_rate\n",
    "        \n",
    "        self.X_means = X.mean(axis=0)\n",
    "        self.X_stds = X.std(axis=0)\n",
    "        self.T_means = T.mean(axis=0)\n",
    "        self.T_stds = T.std(axis=0)\n",
    "        \n",
    "        Xtrain = (X - self.X_means) / self.X_stds\n",
    "        Ttrain = (T - self.T_means) / self.T_stds\n",
    "\n",
    "        n_samples, n_outputs = T.shape\n",
    "        rho = self.learning_rate / (n_samples * n_outputs)\n",
    "        \n",
    "        for epoch in range(self.n_epochs):\n",
    "        \n",
    "            self.Zs = self._forward(Xtrain)\n",
    "            self.Grads = self._gradients(Xtrain,Ttrain)\n",
    "            \n",
    "            \n",
    "           # for i in range(len(self.n_hiddens_each_layer) + 1):\n",
    "             #   self.Ws[i] = self.Ws[i] - rho * self.gradients[i]\n",
    "            for index in range(len(self.n_hiddens_each_layer)+1):\n",
    "                self.Ws[index] = self.Ws[index] - rho * self.Grads[index]\n",
    "            \n",
    "            Y = self._forward(Xtrain)[-1]\n",
    "            self.rmse = self.calc_rmse(Ttrain, Y)\n",
    "            self.rmse_trace.append(self.rmse)\n",
    "\n",
    "        return self\n",
    "    \n",
    "    def use(self, X):\n",
    "        # standardise X\n",
    "        Xtest_st = (X - self.X_means) / self.X_stds\n",
    "        # predict using model and weights provided\n",
    "        Y = self._forward(Xtest_st)[-1]        \n",
    "        # unstandardise output\n",
    "        Y = Y * self.T_stds + self.T_means\n",
    "\n",
    "        return Y"
   ]
  },
  {
   "cell_type": "markdown",
   "metadata": {},
   "source": [
    "In this next code cell, I add a new method to your class that replaces the weights created in your constructor with non-random values to allow you to compare your results with mine, and to allow our grading scripts to work well."
   ]
  },
  {
   "cell_type": "code",
   "execution_count": 3,
   "metadata": {
    "ExecuteTime": {
     "end_time": "2022-09-16T20:44:32.594067Z",
     "start_time": "2022-09-16T20:44:32.590678Z"
    }
   },
   "outputs": [],
   "source": [
    "def set_weights_for_testing(self):\n",
    "    for W in self.Ws[:-1]:   # leave output layer weights at zero\n",
    "        n_weights = W.shape[0] * W.shape[1]\n",
    "        W[:] = np.linspace(-0.01, 0.01, n_weights).reshape(W.shape)\n",
    "        for u in range(W.shape[1]):\n",
    "            W[:, u] += (u - W.shape[1]/2) * 0.2\n",
    "    # Set output layer weights to zero\n",
    "    self.Ws[-1][:] = 0\n",
    "    print('Weights set for testing by calling set_weights_for_testing()')\n",
    "\n",
    "setattr(NeuralNetwork, 'set_weights_for_testing', set_weights_for_testing)"
   ]
  },
  {
   "cell_type": "markdown",
   "metadata": {},
   "source": [
    "## Example Results"
   ]
  },
  {
   "cell_type": "markdown",
   "metadata": {},
   "source": [
    "Here we test the `NeuralNetwork` class with some simple data.  \n"
   ]
  },
  {
   "cell_type": "code",
   "execution_count": 4,
   "metadata": {
    "ExecuteTime": {
     "end_time": "2022-09-16T20:44:32.604006Z",
     "start_time": "2022-09-16T20:44:32.595320Z"
    }
   },
   "outputs": [
    {
     "data": {
      "text/plain": [
       "(array([[0],\n",
       "        [1],\n",
       "        [2],\n",
       "        [3],\n",
       "        [4],\n",
       "        [5],\n",
       "        [6],\n",
       "        [7],\n",
       "        [8],\n",
       "        [9]]),\n",
       " array([[ 0.        ],\n",
       "        [ 0.85147098],\n",
       "        [ 0.94929743],\n",
       "        [ 0.23112001],\n",
       "        [-0.5968025 ],\n",
       "        [-0.70892427],\n",
       "        [ 0.0805845 ],\n",
       "        [ 1.1469866 ],\n",
       "        [ 1.62935825],\n",
       "        [ 1.22211849]]))"
      ]
     },
     "execution_count": 4,
     "metadata": {},
     "output_type": "execute_result"
    }
   ],
   "source": [
    "X = np.arange(0, 10).reshape(-1, 1)\n",
    "T = np.sin(X) + 0.01 * (X ** 2)\n",
    "X, T"
   ]
  },
  {
   "cell_type": "code",
   "execution_count": 5,
   "metadata": {
    "ExecuteTime": {
     "end_time": "2022-09-16T20:44:32.692241Z",
     "start_time": "2022-09-16T20:44:32.605307Z"
    }
   },
   "outputs": [
    {
     "data": {
      "text/plain": [
       "[<matplotlib.lines.Line2D at 0x7ff08ae03220>]"
      ]
     },
     "execution_count": 5,
     "metadata": {},
     "output_type": "execute_result"
    },
    {
     "data": {
      "image/png": "[encoded data removed]",
      "text/plain": [
       "<Figure size 432x288 with 1 Axes>"
      ]
     },
     "metadata": {
      "needs_background": "light"
     },
     "output_type": "display_data"
    }
   ],
   "source": [
    "plt.plot(X, T, '.-')"
   ]
  },
  {
   "cell_type": "code",
   "execution_count": 6,
   "metadata": {
    "ExecuteTime": {
     "end_time": "2022-09-16T20:44:32.697052Z",
     "start_time": "2022-09-16T20:44:32.693526Z"
    }
   },
   "outputs": [
    {
     "data": {
      "text/plain": [
       "NeuralNetwork(1, [3, 2], 1)"
      ]
     },
     "execution_count": 6,
     "metadata": {},
     "output_type": "execute_result"
    }
   ],
   "source": [
    "n_inputs = X.shape[1]\n",
    "n_outputs = T.shape[1]\n",
    "\n",
    "nnet = NeuralNetwork(n_inputs, [3, 2], n_outputs)\n",
    "nnet"
   ]
  },
  {
   "cell_type": "code",
   "execution_count": 7,
   "metadata": {
    "ExecuteTime": {
     "end_time": "2022-09-16T20:44:32.705672Z",
     "start_time": "2022-09-16T20:44:32.698197Z"
    }
   },
   "outputs": [
    {
     "data": {
      "text/plain": [
       "(1, [3, 2], 1)"
      ]
     },
     "execution_count": 7,
     "metadata": {},
     "output_type": "execute_result"
    }
   ],
   "source": [
    "nnet.n_inputs, nnet.n_hiddens_each_layer, nnet.n_outputs"
   ]
  },
  {
   "cell_type": "code",
   "execution_count": 8,
   "metadata": {
    "ExecuteTime": {
     "end_time": "2022-09-16T20:44:32.714071Z",
     "start_time": "2022-09-16T20:44:32.708215Z"
    }
   },
   "outputs": [
    {
     "data": {
      "text/plain": [
       "[]"
      ]
     },
     "execution_count": 8,
     "metadata": {},
     "output_type": "execute_result"
    }
   ],
   "source": [
    "nnet.rmse_trace"
   ]
  },
  {
   "cell_type": "code",
   "execution_count": 9,
   "metadata": {
    "ExecuteTime": {
     "end_time": "2022-09-16T20:44:32.723578Z",
     "start_time": "2022-09-16T20:44:32.715275Z"
    }
   },
   "outputs": [
    {
     "data": {
      "text/plain": [
       "[array([[-0.00700437,  0.00543244, -0.07069129],\n",
       "        [-0.00661361, -0.08119691,  0.09036211]]),\n",
       " array([[ 0.01457106, -0.0935513 ],\n",
       "        [-0.09569723,  0.06794497],\n",
       "        [ 0.06963851,  0.04823841],\n",
       "        [-0.02950205, -0.08198951]]),\n",
       " array([[0.],\n",
       "        [0.],\n",
       "        [0.]])]"
      ]
     },
     "execution_count": 9,
     "metadata": {},
     "output_type": "execute_result"
    }
   ],
   "source": [
    "nnet.Ws"
   ]
  },
  {
   "cell_type": "code",
   "execution_count": 10,
   "metadata": {
    "ExecuteTime": {
     "end_time": "2022-09-16T20:44:32.732243Z",
     "start_time": "2022-09-16T20:44:32.724790Z"
    }
   },
   "outputs": [
    {
     "name": "stdout",
     "output_type": "stream",
     "text": [
      "Weights set for testing by calling set_weights_for_testing()\n"
     ]
    }
   ],
   "source": [
    "nnet.set_weights_for_testing()"
   ]
  },
  {
   "cell_type": "code",
   "execution_count": 11,
   "metadata": {
    "ExecuteTime": {
     "end_time": "2022-09-16T20:44:32.741699Z",
     "start_time": "2022-09-16T20:44:32.733644Z"
    }
   },
   "outputs": [
    {
     "data": {
      "text/plain": [
       "[array([[-0.31 , -0.106,  0.098],\n",
       "        [-0.298, -0.094,  0.11 ]]),\n",
       " array([[-0.21      , -0.00714286],\n",
       "        [-0.20428571, -0.00142857],\n",
       "        [-0.19857143,  0.00428571],\n",
       "        [-0.19285714,  0.01      ]]),\n",
       " array([[0.],\n",
       "        [0.],\n",
       "        [0.]])]"
      ]
     },
     "execution_count": 11,
     "metadata": {},
     "output_type": "execute_result"
    }
   ],
   "source": [
    "nnet.Ws"
   ]
  },
  {
   "cell_type": "code",
   "execution_count": 12,
   "metadata": {
    "ExecuteTime": {
     "end_time": "2022-09-16T20:44:32.750374Z",
     "start_time": "2022-09-16T20:44:32.742984Z"
    }
   },
   "outputs": [
    {
     "data": {
      "text/plain": [
       "NeuralNetwork(1, [3, 2], 1)"
      ]
     },
     "execution_count": 12,
     "metadata": {},
     "output_type": "execute_result"
    }
   ],
   "source": [
    "nnet.train(X, T, n_epochs=1, learning_rate=0.1)"
   ]
  },
  {
   "cell_type": "code",
   "execution_count": 13,
   "metadata": {
    "ExecuteTime": {
     "end_time": "2022-09-16T20:44:32.760663Z",
     "start_time": "2022-09-16T20:44:32.751976Z"
    }
   },
   "outputs": [
    {
     "data": {
      "text/plain": [
       "[array([[-1.5666989 ],\n",
       "        [-1.21854359],\n",
       "        [-0.87038828],\n",
       "        [-0.52223297],\n",
       "        [-0.17407766],\n",
       "        [ 0.17407766],\n",
       "        [ 0.52223297],\n",
       "        [ 0.87038828],\n",
       "        [ 1.21854359],\n",
       "        [ 1.5666989 ]]),\n",
       " array([[ 0.1556019 ,  0.04124628, -0.07420025],\n",
       "        [ 0.05307607,  0.00854289, -0.0360242 ],\n",
       "        [-0.05058109, -0.02417879,  0.00225729],\n",
       "        [-0.15315983, -0.05684874,  0.04053216],\n",
       "        [-0.25254081, -0.0893974 ,  0.07868844],\n",
       "        [-0.34686464, -0.12175623,  0.11661556],\n",
       "        [-0.43465797, -0.15385829,  0.15420558],\n",
       "        [-0.51490065, -0.18563881,  0.19135444],\n",
       "        [-0.58703239, -0.21703564,  0.22796304],\n",
       "        [-0.65091011, -0.24798976,  0.26393827]]),\n",
       " array([[-0.2313994 , -0.00793021],\n",
       "        [-0.21231228, -0.00754217],\n",
       "        [-0.19285534, -0.00715153],\n",
       "        [-0.17346796, -0.00676227],\n",
       "        [-0.15458409, -0.00637825],\n",
       "        [-0.13659418, -0.00600292],\n",
       "        [-0.11981504, -0.00563919],\n",
       "        [-0.10447207, -0.00528929],\n",
       "        [-0.09069498, -0.00495472],\n",
       "        [-0.07852506, -0.00463638]]),\n",
       " array([[0.],\n",
       "        [0.],\n",
       "        [0.],\n",
       "        [0.],\n",
       "        [0.],\n",
       "        [0.],\n",
       "        [0.],\n",
       "        [0.],\n",
       "        [0.],\n",
       "        [0.]])]"
      ]
     },
     "execution_count": 13,
     "metadata": {},
     "output_type": "execute_result"
    }
   ],
   "source": [
    "nnet.Zs"
   ]
  },
  {
   "cell_type": "code",
   "execution_count": 14,
   "metadata": {
    "ExecuteTime": {
     "end_time": "2022-09-16T20:44:32.770833Z",
     "start_time": "2022-09-16T20:44:32.761926Z"
    }
   },
   "outputs": [
    {
     "name": "stdout",
     "output_type": "stream",
     "text": [
      "NeuralNetwork(1, [3, 2], 1), trained for 1 epochs with a final RMSE of 0.7549465762463012\n"
     ]
    }
   ],
   "source": [
    "print(nnet)"
   ]
  },
  {
   "cell_type": "code",
   "execution_count": 15,
   "metadata": {
    "ExecuteTime": {
     "end_time": "2022-09-16T20:44:32.780487Z",
     "start_time": "2022-09-16T20:44:32.772376Z"
    }
   },
   "outputs": [
    {
     "data": {
      "text/plain": [
       "(array([4.5]), array([2.87228132]))"
      ]
     },
     "execution_count": 15,
     "metadata": {},
     "output_type": "execute_result"
    }
   ],
   "source": [
    "nnet.X_means, nnet.X_stds"
   ]
  },
  {
   "cell_type": "code",
   "execution_count": 16,
   "metadata": {
    "ExecuteTime": {
     "end_time": "2022-09-16T20:44:32.791055Z",
     "start_time": "2022-09-16T20:44:32.781837Z"
    }
   },
   "outputs": [
    {
     "data": {
      "text/plain": [
       "(array([0.48052095]), array([0.754969]))"
      ]
     },
     "execution_count": 16,
     "metadata": {},
     "output_type": "execute_result"
    }
   ],
   "source": [
    "nnet.T_means, nnet.T_stds"
   ]
  },
  {
   "cell_type": "code",
   "execution_count": 17,
   "metadata": {
    "ExecuteTime": {
     "end_time": "2022-09-16T20:44:32.801409Z",
     "start_time": "2022-09-16T20:44:32.792391Z"
    }
   },
   "outputs": [
    {
     "data": {
      "text/plain": [
       "[(10, 1), (10, 3), (10, 2), (10, 1)]"
      ]
     },
     "execution_count": 17,
     "metadata": {},
     "output_type": "execute_result"
    }
   ],
   "source": [
    "[Z.shape for Z in nnet.Zs]"
   ]
  },
  {
   "cell_type": "code",
   "execution_count": 18,
   "metadata": {
    "ExecuteTime": {
     "end_time": "2022-09-16T20:44:32.811612Z",
     "start_time": "2022-09-16T20:44:32.802921Z"
    }
   },
   "outputs": [
    {
     "data": {
      "text/plain": [
       "[array([[-0.31 , -0.106,  0.098],\n",
       "        [-0.298, -0.094,  0.11 ]]),\n",
       " array([[-0.21      , -0.00714286],\n",
       "        [-0.20428571, -0.00142857],\n",
       "        [-0.19857143,  0.00428571],\n",
       "        [-0.19285714,  0.01      ]]),\n",
       " array([[-6.66133815e-18],\n",
       "        [ 1.72409702e-03],\n",
       "        [ 3.91828943e-05]])]"
      ]
     },
     "execution_count": 18,
     "metadata": {},
     "output_type": "execute_result"
    }
   ],
   "source": [
    "nnet.Ws"
   ]
  },
  {
   "cell_type": "code",
   "execution_count": 19,
   "metadata": {
    "ExecuteTime": {
     "end_time": "2022-09-16T20:44:32.822303Z",
     "start_time": "2022-09-16T20:44:32.813047Z"
    }
   },
   "outputs": [
    {
     "data": {
      "text/plain": [
       "['Grads',\n",
       " 'T_means',\n",
       " 'T_stds',\n",
       " 'Ws',\n",
       " 'X_means',\n",
       " 'X_stds',\n",
       " 'Zs',\n",
       " '__class__',\n",
       " '__delattr__',\n",
       " '__dict__',\n",
       " '__dir__',\n",
       " '__doc__',\n",
       " '__eq__',\n",
       " '__format__',\n",
       " '__ge__',\n",
       " '__getattribute__',\n",
       " '__gt__',\n",
       " '__hash__',\n",
       " '__init__',\n",
       " '__init_subclass__',\n",
       " '__le__',\n",
       " '__lt__',\n",
       " '__module__',\n",
       " '__ne__',\n",
       " '__new__',\n",
       " '__reduce__',\n",
       " '__reduce_ex__',\n",
       " '__repr__',\n",
       " '__setattr__',\n",
       " '__sizeof__',\n",
       " '__str__',\n",
       " '__subclasshook__',\n",
       " '__weakref__',\n",
       " '_add_ones',\n",
       " '_forward',\n",
       " '_gradients',\n",
       " 'calc_rmse',\n",
       " 'learning_rate',\n",
       " 'n_epochs',\n",
       " 'n_hiddens_each_layer',\n",
       " 'n_inputs',\n",
       " 'n_outputs',\n",
       " 'rmse',\n",
       " 'rmse_trace',\n",
       " 'set_weights_for_testing',\n",
       " 'train',\n",
       " 'use']"
      ]
     },
     "execution_count": 19,
     "metadata": {},
     "output_type": "execute_result"
    }
   ],
   "source": [
    "dir(nnet)"
   ]
  },
  {
   "cell_type": "code",
   "execution_count": 20,
   "metadata": {
    "ExecuteTime": {
     "end_time": "2022-09-16T20:44:32.830904Z",
     "start_time": "2022-09-16T20:44:32.824324Z"
    }
   },
   "outputs": [],
   "source": [
    "def plot_data_and_model(nnet, X, T):\n",
    "    plt.clf()        \n",
    "    plt.subplot(2, 1, 1)\n",
    "    plt.plot(nnet.rmse_trace)\n",
    "    plt.xlabel('Epoch')\n",
    "    plt.ylabel('RMSE')\n",
    "\n",
    "    plt.subplot(2, 1, 2)\n",
    "    Y = nnet.use(X)\n",
    "\n",
    "    plt.plot(X, Y, 'o-', label='Y')\n",
    "    plt.plot(X, T, 'o', label='T', alpha=0.5)\n",
    "    plt.xlabel('X')\n",
    "    plt.ylabel('T or Y')\n",
    "    plt.legend();"
   ]
  },
  {
   "cell_type": "code",
   "execution_count": 21,
   "metadata": {
    "ExecuteTime": {
     "end_time": "2022-09-16T20:44:37.845831Z",
     "start_time": "2022-09-16T20:44:32.832764Z"
    },
    "scrolled": false
   },
   "outputs": [
    {
     "data": {
      "image/png": "[encoded data removed]",
      "text/plain": [
       "<Figure size 432x288 with 2 Axes>"
      ]
     },
     "metadata": {
      "needs_background": "light"
     },
     "output_type": "display_data"
    }
   ],
   "source": [
    "X = np.arange(0, 10).reshape(-1, 1)\n",
    "# X = np.arange(0, 0.5, 0.05).reshape(-1, 1)\n",
    "T = np.sin(X) + 0.01 * (X ** 2)\n",
    "\n",
    "n_inputs = X.shape[1]\n",
    "n_outputs = T.shape[1]\n",
    "\n",
    "nnet = NeuralNetwork(n_inputs, [10, 5], n_outputs)\n",
    "nnet.set_weights_for_testing()\n",
    "\n",
    "n_epochs = 5000\n",
    "n_epochs_per_plot = 500\n",
    "\n",
    "fig = plt.figure()\n",
    "for reps in range(n_epochs // n_epochs_per_plot):\n",
    "    plt.clf()\n",
    "    nnet.train(X, T, n_epochs=n_epochs_per_plot, learning_rate=0.1)\n",
    "    plot_data_and_model(nnet, X, T)\n",
    "    ipd.clear_output(wait=True)\n",
    "    ipd.display(fig)\n",
    "    time.sleep(0.2)  # 0.2 seconds\n",
    "ipd.clear_output(wait=True)"
   ]
  },
  {
   "cell_type": "code",
   "execution_count": 22,
   "metadata": {
    "ExecuteTime": {
     "end_time": "2022-09-16T20:45:20.067700Z",
     "start_time": "2022-09-16T20:44:37.847154Z"
    }
   },
   "outputs": [
    {
     "data": {
      "image/png": "[encoded data removed]",
      "text/plain": [
       "<Figure size 432x288 with 2 Axes>"
      ]
     },
     "metadata": {
      "needs_background": "light"
     },
     "output_type": "display_data"
    }
   ],
   "source": [
    "X = np.arange(-2, 2, 0.05).reshape(-1, 1)\n",
    "T = np.sin(X) * np.sin(X * 10)\n",
    "\n",
    "n_inputs = X.shape[1]\n",
    "n_outputs = T.shape[1]\n",
    "\n",
    "nnet = NeuralNetwork(n_inputs, [50, 10, 5], n_outputs)\n",
    "nnet.set_weights_for_testing()\n",
    "\n",
    "n_epochs = 50000\n",
    "n_epochs_per_plot = 500\n",
    "\n",
    "fig = plt.figure()\n",
    "for reps in range(n_epochs // n_epochs_per_plot):\n",
    "    plt.clf()\n",
    "    nnet.train(X, T, n_epochs=n_epochs_per_plot, learning_rate=0.1)\n",
    "    plot_data_and_model(nnet, X, T)\n",
    "    ipd.clear_output(wait=True)\n",
    "    ipd.display(fig)\n",
    "    # time.sleep(0.01)  # 0.01 seconds\n",
    "ipd.clear_output(wait=True)"
   ]
  },
  {
   "cell_type": "markdown",
   "metadata": {},
   "source": [
    "Your results will not be the same, but your code should complete and make plots somewhat similar to these."
   ]
  },
  {
   "cell_type": "markdown",
   "metadata": {},
   "source": [
    "## Application to Boston Housing Data"
   ]
  },
  {
   "cell_type": "markdown",
   "metadata": {},
   "source": [
    "Download data from [Boston House Data at Kaggle](https://www.kaggle.com/fedesoriano/the-boston-houseprice-data). Read it into python using the `pandas.read_csv` function.  Assign the first 13 columns as inputs to `X` and the final column as target values to `T`.  Make sure `T` is two-dimensional."
   ]
  },
  {
   "cell_type": "markdown",
   "metadata": {},
   "source": [
    "Before training your neural networks, partition the data into training and testing partitions, as shown here."
   ]
  },
  {
   "cell_type": "code",
   "execution_count": 23,
   "metadata": {},
   "outputs": [],
   "source": [
    "import numpy as np\n",
    "import matplotlib.pyplot as plt\n",
    "%matplotlib inline"
   ]
  },
  {
   "cell_type": "code",
   "execution_count": 24,
   "metadata": {},
   "outputs": [],
   "source": [
    "import pandas as pd\n",
    "data = pd.read_csv('boston.csv',usecols=range(14), na_values=None)"
   ]
  },
  {
   "cell_type": "code",
   "execution_count": 25,
   "metadata": {},
   "outputs": [
    {
     "data": {
      "text/html": [
       "<div>\n",
       "<style scoped>\n",
       "    .dataframe tbody tr th:only-of-type {\n",
       "        vertical-align: middle;\n",
       "    }\n",
       "\n",
       "    .dataframe tbody tr th {\n",
       "        vertical-align: top;\n",
       "    }\n",
       "\n",
       "    .dataframe thead th {\n",
       "        text-align: right;\n",
       "    }\n",
       "</style>\n",
       "<table border=\"1\" class=\"dataframe\">\n",
       "  <thead>\n",
       "    <tr style=\"text-align: right;\">\n",
       "      <th></th>\n",
       "      <th>CRIM</th>\n",
       "      <th>ZN</th>\n",
       "      <th>INDUS</th>\n",
       "      <th>CHAS</th>\n",
       "      <th>NOX</th>\n",
       "      <th>RM</th>\n",
       "      <th>AGE</th>\n",
       "      <th>DIS</th>\n",
       "      <th>RAD</th>\n",
       "      <th>TAX</th>\n",
       "      <th>PTRATIO</th>\n",
       "      <th>B</th>\n",
       "      <th>LSTAT</th>\n",
       "      <th>MEDV</th>\n",
       "    </tr>\n",
       "  </thead>\n",
       "  <tbody>\n",
       "    <tr>\n",
       "      <th>0</th>\n",
       "      <td>0.00632</td>\n",
       "      <td>18.0</td>\n",
       "      <td>2.31</td>\n",
       "      <td>0</td>\n",
       "      <td>0.538</td>\n",
       "      <td>6.575</td>\n",
       "      <td>65.2</td>\n",
       "      <td>4.0900</td>\n",
       "      <td>1</td>\n",
       "      <td>296.0</td>\n",
       "      <td>15.3</td>\n",
       "      <td>396.90</td>\n",
       "      <td>4.98</td>\n",
       "      <td>24.0</td>\n",
       "    </tr>\n",
       "    <tr>\n",
       "      <th>1</th>\n",
       "      <td>0.02731</td>\n",
       "      <td>0.0</td>\n",
       "      <td>7.07</td>\n",
       "      <td>0</td>\n",
       "      <td>0.469</td>\n",
       "      <td>6.421</td>\n",
       "      <td>78.9</td>\n",
       "      <td>4.9671</td>\n",
       "      <td>2</td>\n",
       "      <td>242.0</td>\n",
       "      <td>17.8</td>\n",
       "      <td>396.90</td>\n",
       "      <td>9.14</td>\n",
       "      <td>21.6</td>\n",
       "    </tr>\n",
       "    <tr>\n",
       "      <th>2</th>\n",
       "      <td>0.02729</td>\n",
       "      <td>0.0</td>\n",
       "      <td>7.07</td>\n",
       "      <td>0</td>\n",
       "      <td>0.469</td>\n",
       "      <td>7.185</td>\n",
       "      <td>61.1</td>\n",
       "      <td>4.9671</td>\n",
       "      <td>2</td>\n",
       "      <td>242.0</td>\n",
       "      <td>17.8</td>\n",
       "      <td>392.83</td>\n",
       "      <td>4.03</td>\n",
       "      <td>34.7</td>\n",
       "    </tr>\n",
       "    <tr>\n",
       "      <th>3</th>\n",
       "      <td>0.03237</td>\n",
       "      <td>0.0</td>\n",
       "      <td>2.18</td>\n",
       "      <td>0</td>\n",
       "      <td>0.458</td>\n",
       "      <td>6.998</td>\n",
       "      <td>45.8</td>\n",
       "      <td>6.0622</td>\n",
       "      <td>3</td>\n",
       "      <td>222.0</td>\n",
       "      <td>18.7</td>\n",
       "      <td>394.63</td>\n",
       "      <td>2.94</td>\n",
       "      <td>33.4</td>\n",
       "    </tr>\n",
       "    <tr>\n",
       "      <th>4</th>\n",
       "      <td>0.06905</td>\n",
       "      <td>0.0</td>\n",
       "      <td>2.18</td>\n",
       "      <td>0</td>\n",
       "      <td>0.458</td>\n",
       "      <td>7.147</td>\n",
       "      <td>54.2</td>\n",
       "      <td>6.0622</td>\n",
       "      <td>3</td>\n",
       "      <td>222.0</td>\n",
       "      <td>18.7</td>\n",
       "      <td>396.90</td>\n",
       "      <td>5.33</td>\n",
       "      <td>36.2</td>\n",
       "    </tr>\n",
       "  </tbody>\n",
       "</table>\n",
       "</div>"
      ],
      "text/plain": [
       "      CRIM    ZN  INDUS  CHAS    NOX     RM   AGE     DIS  RAD    TAX  \\\n",
       "0  0.00632  18.0   2.31     0  0.538  6.575  65.2  4.0900    1  296.0   \n",
       "1  0.02731   0.0   7.07     0  0.469  6.421  78.9  4.9671    2  242.0   \n",
       "2  0.02729   0.0   7.07     0  0.469  7.185  61.1  4.9671    2  242.0   \n",
       "3  0.03237   0.0   2.18     0  0.458  6.998  45.8  6.0622    3  222.0   \n",
       "4  0.06905   0.0   2.18     0  0.458  7.147  54.2  6.0622    3  222.0   \n",
       "\n",
       "   PTRATIO       B  LSTAT  MEDV  \n",
       "0     15.3  396.90   4.98  24.0  \n",
       "1     17.8  396.90   9.14  21.6  \n",
       "2     17.8  392.83   4.03  34.7  \n",
       "3     18.7  394.63   2.94  33.4  \n",
       "4     18.7  396.90   5.33  36.2  "
      ]
     },
     "execution_count": 25,
     "metadata": {},
     "output_type": "execute_result"
    }
   ],
   "source": [
    "data.head()"
   ]
  },
  {
   "cell_type": "code",
   "execution_count": 26,
   "metadata": {},
   "outputs": [
    {
     "data": {
      "text/plain": [
       "((506, 13), (506, 1))"
      ]
     },
     "execution_count": 26,
     "metadata": {},
     "output_type": "execute_result"
    }
   ],
   "source": [
    "X_data = pd.read_csv('boston.csv', usecols=range(13))\n",
    "T_data = data['MEDV']\n",
    "X = np.asarray(X_data)\n",
    "T = np.asarray(T_data).reshape(-1,1)\n",
    "X.shape,T.shape"
   ]
  },
  {
   "cell_type": "code",
   "execution_count": 27,
   "metadata": {
    "ExecuteTime": {
     "end_time": "2022-09-16T20:45:20.073781Z",
     "start_time": "2022-09-16T20:45:20.070445Z"
    }
   },
   "outputs": [],
   "source": [
    "def partition(X, T, train_fraction):\n",
    "    n_samples = X.shape[0]\n",
    "    rows = np.arange(n_samples)\n",
    "    np.random.shuffle(rows)\n",
    "\n",
    "    n_train = round(n_samples * train_fraction)\n",
    "\n",
    "    Xtrain = X[rows[:n_train], :]\n",
    "    Ttrain = T[rows[:n_train], :]\n",
    "    Xtest = X[rows[n_train:], :]\n",
    "    Ttest = T[rows[n_train:], :]\n",
    "\n",
    "    return Xtrain, Ttrain, Xtest, Ttest"
   ]
  },
  {
   "cell_type": "code",
   "execution_count": 28,
   "metadata": {
    "ExecuteTime": {
     "end_time": "2022-09-16T20:45:20.085103Z",
     "start_time": "2022-09-16T20:45:20.075401Z"
    }
   },
   "outputs": [
    {
     "data": {
      "text/plain": [
       "array([[6.3200e-03, 1.8000e+01, 2.3100e+00, ..., 3.9690e+02, 4.9800e+00,\n",
       "        2.4000e+01],\n",
       "       [2.7310e-02, 0.0000e+00, 7.0700e+00, ..., 3.9690e+02, 9.1400e+00,\n",
       "        2.1600e+01],\n",
       "       [2.7290e-02, 0.0000e+00, 7.0700e+00, ..., 3.9283e+02, 4.0300e+00,\n",
       "        3.4700e+01],\n",
       "       ...,\n",
       "       [6.0760e-02, 0.0000e+00, 1.1930e+01, ..., 3.9690e+02, 5.6400e+00,\n",
       "        2.3900e+01],\n",
       "       [1.0959e-01, 0.0000e+00, 1.1930e+01, ..., 3.9345e+02, 6.4800e+00,\n",
       "        2.2000e+01],\n",
       "       [4.7410e-02, 0.0000e+00, 1.1930e+01, ..., 3.9690e+02, 7.8800e+00,\n",
       "        1.1900e+01]])"
      ]
     },
     "execution_count": 28,
     "metadata": {},
     "output_type": "execute_result"
    }
   ],
   "source": [
    "np.hstack((X, T))  # np.hstack just to print X and T together in one array"
   ]
  },
  {
   "cell_type": "code",
   "execution_count": 29,
   "metadata": {
    "ExecuteTime": {
     "end_time": "2022-09-16T20:45:20.093265Z",
     "start_time": "2022-09-16T20:45:20.086429Z"
    }
   },
   "outputs": [],
   "source": [
    "Xtrain, Ttrain, Xtest, Ttest = partition(X, T, 0.8)  "
   ]
  },
  {
   "cell_type": "code",
   "execution_count": 30,
   "metadata": {
    "ExecuteTime": {
     "end_time": "2022-09-16T20:45:20.103523Z",
     "start_time": "2022-09-16T20:45:20.094528Z"
    }
   },
   "outputs": [
    {
     "data": {
      "text/plain": [
       "array([[5.4050e-01, 2.0000e+01, 3.9700e+00, ..., 3.9030e+02, 3.1600e+00,\n",
       "        4.3500e+01],\n",
       "       [1.3117e-01, 0.0000e+00, 8.5600e+00, ..., 3.8769e+02, 1.4090e+01,\n",
       "        2.0400e+01],\n",
       "       [3.7380e-02, 0.0000e+00, 5.1900e+00, ..., 3.8940e+02, 6.7500e+00,\n",
       "        2.0700e+01],\n",
       "       ...,\n",
       "       [3.1533e-01, 0.0000e+00, 6.2000e+00, ..., 3.8505e+02, 4.1400e+00,\n",
       "        4.4800e+01],\n",
       "       [4.8190e-02, 8.0000e+01, 3.6400e+00, ..., 3.9289e+02, 6.5700e+00,\n",
       "        2.1900e+01],\n",
       "       [9.7440e-02, 0.0000e+00, 5.9600e+00, ..., 3.7756e+02, 1.1410e+01,\n",
       "        2.0000e+01]])"
      ]
     },
     "execution_count": 30,
     "metadata": {},
     "output_type": "execute_result"
    }
   ],
   "source": [
    "np.hstack((Xtrain, Ttrain))"
   ]
  },
  {
   "cell_type": "code",
   "execution_count": 31,
   "metadata": {
    "ExecuteTime": {
     "end_time": "2022-09-16T20:45:20.113395Z",
     "start_time": "2022-09-16T20:45:20.104729Z"
    }
   },
   "outputs": [
    {
     "data": {
      "text/plain": [
       "array([[1.33598e+01, 0.00000e+00, 1.81000e+01, ..., 3.96900e+02,\n",
       "        1.63500e+01, 1.27000e+01],\n",
       "       [2.53560e-01, 0.00000e+00, 9.90000e+00, ..., 3.96420e+02,\n",
       "        1.15000e+01, 1.62000e+01],\n",
       "       [3.53501e+00, 0.00000e+00, 1.95800e+01, ..., 8.80100e+01,\n",
       "        1.50200e+01, 1.56000e+01],\n",
       "       ...,\n",
       "       [5.30200e-02, 0.00000e+00, 3.41000e+00, ..., 3.96060e+02,\n",
       "        5.70000e+00, 2.87000e+01],\n",
       "       [3.87350e-01, 0.00000e+00, 2.56500e+01, ..., 3.59290e+02,\n",
       "        2.72600e+01, 1.57000e+01],\n",
       "       [2.11610e-01, 0.00000e+00, 8.56000e+00, ..., 3.94470e+02,\n",
       "        1.34400e+01, 1.93000e+01]])"
      ]
     },
     "execution_count": 31,
     "metadata": {},
     "output_type": "execute_result"
    }
   ],
   "source": [
    "np.hstack((Xtest, Ttest))"
   ]
  },
  {
   "cell_type": "markdown",
   "metadata": {},
   "source": [
    "Write and run code using your `NeuralNetwork` class to model the Boston housing data. Experiment with a variety of neural network structures (numbers of hidden layer and units) including no hidden layers, learning rates, and numbers of epochs. Show results for at least three different network structures, learning rates, and numbers of epochs for a total of at least 27 results.  Show your results in a `pandas` DataFrame with columns `('Structure', 'Epochs', 'Learning Rate', 'Train RMSE', 'Test RMSE')`.\n",
    "\n",
    "Try to find good values for the RMSE on testing data.  Discuss your results, including how good you think the RMSE values are by considering the range of house values given in the data. "
   ]
  },
  {
   "cell_type": "code",
   "execution_count": 32,
   "metadata": {},
   "outputs": [
    {
     "data": {
      "text/html": [
       "<div>\n",
       "<style scoped>\n",
       "    .dataframe tbody tr th:only-of-type {\n",
       "        vertical-align: middle;\n",
       "    }\n",
       "\n",
       "    .dataframe tbody tr th {\n",
       "        vertical-align: top;\n",
       "    }\n",
       "\n",
       "    .dataframe thead th {\n",
       "        text-align: right;\n",
       "    }\n",
       "</style>\n",
       "<table border=\"1\" class=\"dataframe\">\n",
       "  <thead>\n",
       "    <tr style=\"text-align: right;\">\n",
       "      <th></th>\n",
       "      <th>Structure</th>\n",
       "      <th>Epochs</th>\n",
       "      <th>Learning Rate</th>\n",
       "      <th>Train RMSE</th>\n",
       "      <th>Test RMSE</th>\n",
       "    </tr>\n",
       "  </thead>\n",
       "  <tbody>\n",
       "    <tr>\n",
       "      <th>0</th>\n",
       "      <td>[50, 20, 10, 3]</td>\n",
       "      <td>20</td>\n",
       "      <td>0.1</td>\n",
       "      <td>8.993684</td>\n",
       "      <td>9.939343</td>\n",
       "    </tr>\n",
       "    <tr>\n",
       "      <th>1</th>\n",
       "      <td>[50, 20, 10, 3]</td>\n",
       "      <td>20</td>\n",
       "      <td>0.01</td>\n",
       "      <td>8.993762</td>\n",
       "      <td>9.93957</td>\n",
       "    </tr>\n",
       "    <tr>\n",
       "      <th>2</th>\n",
       "      <td>[50, 20, 10, 3]</td>\n",
       "      <td>20</td>\n",
       "      <td>0.001</td>\n",
       "      <td>8.993765</td>\n",
       "      <td>9.939602</td>\n",
       "    </tr>\n",
       "    <tr>\n",
       "      <th>3</th>\n",
       "      <td>[50, 20, 10, 3]</td>\n",
       "      <td>100</td>\n",
       "      <td>0.1</td>\n",
       "      <td>8.993739</td>\n",
       "      <td>9.939545</td>\n",
       "    </tr>\n",
       "    <tr>\n",
       "      <th>4</th>\n",
       "      <td>[50, 20, 10, 3]</td>\n",
       "      <td>100</td>\n",
       "      <td>0.01</td>\n",
       "      <td>8.993709</td>\n",
       "      <td>9.939463</td>\n",
       "    </tr>\n",
       "    <tr>\n",
       "      <th>5</th>\n",
       "      <td>[50, 20, 10, 3]</td>\n",
       "      <td>100</td>\n",
       "      <td>0.001</td>\n",
       "      <td>8.993752</td>\n",
       "      <td>9.939567</td>\n",
       "    </tr>\n",
       "    <tr>\n",
       "      <th>6</th>\n",
       "      <td>[50, 20, 10, 3]</td>\n",
       "      <td>1000</td>\n",
       "      <td>0.1</td>\n",
       "      <td>8.182279</td>\n",
       "      <td>10.315987</td>\n",
       "    </tr>\n",
       "    <tr>\n",
       "      <th>7</th>\n",
       "      <td>[50, 20, 10, 3]</td>\n",
       "      <td>1000</td>\n",
       "      <td>0.01</td>\n",
       "      <td>8.992722</td>\n",
       "      <td>9.938453</td>\n",
       "    </tr>\n",
       "    <tr>\n",
       "      <th>8</th>\n",
       "      <td>[50, 20, 10, 3]</td>\n",
       "      <td>1000</td>\n",
       "      <td>0.001</td>\n",
       "      <td>8.993685</td>\n",
       "      <td>9.939425</td>\n",
       "    </tr>\n",
       "    <tr>\n",
       "      <th>9</th>\n",
       "      <td>[10, 5, 3]</td>\n",
       "      <td>20</td>\n",
       "      <td>0.1</td>\n",
       "      <td>8.993624</td>\n",
       "      <td>9.939613</td>\n",
       "    </tr>\n",
       "    <tr>\n",
       "      <th>10</th>\n",
       "      <td>[10, 5, 3]</td>\n",
       "      <td>20</td>\n",
       "      <td>0.01</td>\n",
       "      <td>8.993756</td>\n",
       "      <td>9.939614</td>\n",
       "    </tr>\n",
       "    <tr>\n",
       "      <th>11</th>\n",
       "      <td>[10, 5, 3]</td>\n",
       "      <td>20</td>\n",
       "      <td>0.001</td>\n",
       "      <td>8.993761</td>\n",
       "      <td>9.939614</td>\n",
       "    </tr>\n",
       "    <tr>\n",
       "      <th>12</th>\n",
       "      <td>[10, 5, 3]</td>\n",
       "      <td>100</td>\n",
       "      <td>0.1</td>\n",
       "      <td>8.99361</td>\n",
       "      <td>9.939338</td>\n",
       "    </tr>\n",
       "    <tr>\n",
       "      <th>13</th>\n",
       "      <td>[10, 5, 3]</td>\n",
       "      <td>100</td>\n",
       "      <td>0.01</td>\n",
       "      <td>8.993718</td>\n",
       "      <td>9.939672</td>\n",
       "    </tr>\n",
       "    <tr>\n",
       "      <th>14</th>\n",
       "      <td>[10, 5, 3]</td>\n",
       "      <td>100</td>\n",
       "      <td>0.001</td>\n",
       "      <td>8.993751</td>\n",
       "      <td>9.939594</td>\n",
       "    </tr>\n",
       "    <tr>\n",
       "      <th>15</th>\n",
       "      <td>[10, 5, 3]</td>\n",
       "      <td>1000</td>\n",
       "      <td>0.1</td>\n",
       "      <td>3.866312</td>\n",
       "      <td>4.331829</td>\n",
       "    </tr>\n",
       "    <tr>\n",
       "      <th>16</th>\n",
       "      <td>[10, 5, 3]</td>\n",
       "      <td>1000</td>\n",
       "      <td>0.01</td>\n",
       "      <td>8.990681</td>\n",
       "      <td>9.935947</td>\n",
       "    </tr>\n",
       "    <tr>\n",
       "      <th>17</th>\n",
       "      <td>[10, 5, 3]</td>\n",
       "      <td>1000</td>\n",
       "      <td>0.001</td>\n",
       "      <td>8.99375</td>\n",
       "      <td>9.939602</td>\n",
       "    </tr>\n",
       "    <tr>\n",
       "      <th>18</th>\n",
       "      <td>[]</td>\n",
       "      <td>20</td>\n",
       "      <td>0.1</td>\n",
       "      <td>4.821315</td>\n",
       "      <td>5.237967</td>\n",
       "    </tr>\n",
       "    <tr>\n",
       "      <th>19</th>\n",
       "      <td>[]</td>\n",
       "      <td>20</td>\n",
       "      <td>0.01</td>\n",
       "      <td>6.583454</td>\n",
       "      <td>7.268271</td>\n",
       "    </tr>\n",
       "    <tr>\n",
       "      <th>20</th>\n",
       "      <td>[]</td>\n",
       "      <td>20</td>\n",
       "      <td>0.001</td>\n",
       "      <td>8.555562</td>\n",
       "      <td>9.472702</td>\n",
       "    </tr>\n",
       "    <tr>\n",
       "      <th>21</th>\n",
       "      <td>[]</td>\n",
       "      <td>100</td>\n",
       "      <td>0.1</td>\n",
       "      <td>4.620723</td>\n",
       "      <td>5.174719</td>\n",
       "    </tr>\n",
       "    <tr>\n",
       "      <th>22</th>\n",
       "      <td>[]</td>\n",
       "      <td>100</td>\n",
       "      <td>0.01</td>\n",
       "      <td>5.132581</td>\n",
       "      <td>5.564745</td>\n",
       "    </tr>\n",
       "    <tr>\n",
       "      <th>23</th>\n",
       "      <td>[]</td>\n",
       "      <td>100</td>\n",
       "      <td>0.001</td>\n",
       "      <td>7.364541</td>\n",
       "      <td>8.172326</td>\n",
       "    </tr>\n",
       "    <tr>\n",
       "      <th>24</th>\n",
       "      <td>[]</td>\n",
       "      <td>1000</td>\n",
       "      <td>0.1</td>\n",
       "      <td>4.588829</td>\n",
       "      <td>5.201082</td>\n",
       "    </tr>\n",
       "    <tr>\n",
       "      <th>25</th>\n",
       "      <td>[]</td>\n",
       "      <td>1000</td>\n",
       "      <td>0.01</td>\n",
       "      <td>4.621022</td>\n",
       "      <td>5.174471</td>\n",
       "    </tr>\n",
       "    <tr>\n",
       "      <th>26</th>\n",
       "      <td>[]</td>\n",
       "      <td>1000</td>\n",
       "      <td>0.001</td>\n",
       "      <td>5.135585</td>\n",
       "      <td>5.568773</td>\n",
       "    </tr>\n",
       "  </tbody>\n",
       "</table>\n",
       "</div>"
      ],
      "text/plain": [
       "          Structure Epochs Learning Rate Train RMSE  Test RMSE\n",
       "0   [50, 20, 10, 3]     20           0.1   8.993684   9.939343\n",
       "1   [50, 20, 10, 3]     20          0.01   8.993762    9.93957\n",
       "2   [50, 20, 10, 3]     20         0.001   8.993765   9.939602\n",
       "3   [50, 20, 10, 3]    100           0.1   8.993739   9.939545\n",
       "4   [50, 20, 10, 3]    100          0.01   8.993709   9.939463\n",
       "5   [50, 20, 10, 3]    100         0.001   8.993752   9.939567\n",
       "6   [50, 20, 10, 3]   1000           0.1   8.182279  10.315987\n",
       "7   [50, 20, 10, 3]   1000          0.01   8.992722   9.938453\n",
       "8   [50, 20, 10, 3]   1000         0.001   8.993685   9.939425\n",
       "9        [10, 5, 3]     20           0.1   8.993624   9.939613\n",
       "10       [10, 5, 3]     20          0.01   8.993756   9.939614\n",
       "11       [10, 5, 3]     20         0.001   8.993761   9.939614\n",
       "12       [10, 5, 3]    100           0.1    8.99361   9.939338\n",
       "13       [10, 5, 3]    100          0.01   8.993718   9.939672\n",
       "14       [10, 5, 3]    100         0.001   8.993751   9.939594\n",
       "15       [10, 5, 3]   1000           0.1   3.866312   4.331829\n",
       "16       [10, 5, 3]   1000          0.01   8.990681   9.935947\n",
       "17       [10, 5, 3]   1000         0.001    8.99375   9.939602\n",
       "18               []     20           0.1   4.821315   5.237967\n",
       "19               []     20          0.01   6.583454   7.268271\n",
       "20               []     20         0.001   8.555562   9.472702\n",
       "21               []    100           0.1   4.620723   5.174719\n",
       "22               []    100          0.01   5.132581   5.564745\n",
       "23               []    100         0.001   7.364541   8.172326\n",
       "24               []   1000           0.1   4.588829   5.201082\n",
       "25               []   1000          0.01   4.621022   5.174471\n",
       "26               []   1000         0.001   5.135585   5.568773"
      ]
     },
     "execution_count": 32,
     "metadata": {},
     "output_type": "execute_result"
    }
   ],
   "source": [
    "import warnings\n",
    "warnings.filterwarnings('ignore')\n",
    "n_inputs = Xtrain.shape[1]\n",
    "n_outputs = Ttrain.shape[1]\n",
    "rmses= []\n",
    "df = pd.DataFrame(columns = ['Structure','Epochs', 'Learning Rate', 'Train RMSE', 'Test RMSE'])\n",
    "learning_rate = [0.1,0.01,0.001]\n",
    "n_epochs= [20, 100, 1000]\n",
    "n_nnet = [[50,20,10,3], [10,5,3], []]\n",
    "\n",
    "nnets = []\n",
    "Ys = []\n",
    "\n",
    "for hidden_layers in n_nnet:\n",
    "        for epochs in n_epochs:\n",
    "            for rho in learning_rate:\n",
    "                nnet = NeuralNetwork(n_inputs, hidden_layers, n_outputs)\n",
    "                nnet.train(Xtrain, Ttrain, n_epochs=epochs, learning_rate=rho)\n",
    "                \n",
    "                Ytrain = nnet.use(Xtrain)\n",
    "                Train_RMSE = np.sqrt(np.mean((Ttrain - Ytrain)**2))\n",
    "                \n",
    "                Ytest = nnet.use(Xtest)\n",
    "                Ttest_RMSE = np.sqrt(np.mean((Ttest - Ytest)**2))\n",
    "                \n",
    "                rmses.append([Ttest_RMSE])\n",
    "                nnets.append(nnet)\n",
    "                Ys.append(Ytest)\n",
    "                \n",
    "                df = df.append({'Structure' : hidden_layers, 'Epochs' : int(epochs), 'Learning Rate' : rho, 'Train RMSE' : Train_RMSE, 'Test RMSE' : Ttest_RMSE},ignore_index = True)\n",
    "                \n",
    "df"
   ]
  },
  {
   "cell_type": "code",
   "execution_count": 33,
   "metadata": {},
   "outputs": [],
   "source": [
    "def plot_model(rmses, Ttest, Y):\n",
    "    fig = plt.figure(figsize=(10, 3))\n",
    "    plt.subplot(1, 2, 1)\n",
    "    plt.plot(rmses)\n",
    "    plt.xlabel('Epoch')\n",
    "    plt.ylabel('RMSE')\n",
    "\n",
    "    plt.subplot(1, 2, 2)\n",
    "    plt.plot(Ttest, Y, '.')\n",
    "    plt.ylabel('Predicted')\n",
    "    plt.xlabel('Actual')\n",
    "    plt.plot(np.arange(0, 50), np.arange(0, 50), color='g')"
   ]
  },
  {
   "cell_type": "code",
   "execution_count": 34,
   "metadata": {
    "scrolled": true
   },
   "outputs": [
    {
     "name": "stdout",
     "output_type": "stream",
     "text": [
      "Best Model: NeuralNetwork(13, [10, 5, 3], 1), trained for 1000 epochs with a final RMSE of 3.8663117777865277\n",
      "Least RMSE on test data: 4.3318\n"
     ]
    },
    {
     "data": {
      "image/png": "[encoded data removed]",
      "text/plain": [
       "<Figure size 720x216 with 2 Axes>"
      ]
     },
     "metadata": {
      "needs_background": "light"
     },
     "output_type": "display_data"
    }
   ],
   "source": [
    "rmses = np.array(rmses)\n",
    "min_val = rmses.min() \n",
    "min_idxs = np.where(rmses == np.min(rmses))\n",
    "index = int(min_idxs[0])\n",
    "\n",
    "model = nnets[index]\n",
    "output = Ys[index]\n",
    "plot_model(model.rmse_trace, Ttest, output)\n",
    "print(\"Best Model: {}\".format(model))\n",
    "print(\"Least RMSE on test data: {}\".format(np.round(np.min(rmses), 4)))"
   ]
  },
  {
   "cell_type": "markdown",
   "metadata": {},
   "source": [
    "* Observation:\n",
    "- The least value of Rmse ~ 3.0637, the model sepcification are \"NeuralNetwork(13, [10, 5, 3], 1), trained for 1000 epochs with a final RMSE of 3.8135172803007964 Least RMSE on test data: 3.0637\". This makes me think that we should probably attempt training the same model for further epochs or expand the network's layers or nodes."
   ]
  },
  {
   "cell_type": "code",
   "execution_count": 35,
   "metadata": {},
   "outputs": [
    {
     "name": "stdout",
     "output_type": "stream",
     "text": [
      "Worst Model: NeuralNetwork(13, [50, 20, 10, 3], 1), trained for 1000 epochs with a final RMSE of 8.182279491759557\n",
      "Highest RMSE on test data: 10.316\n"
     ]
    },
    {
     "data": {
      "image/png": "[encoded data removed]",
      "text/plain": [
       "<Figure size 720x216 with 2 Axes>"
      ]
     },
     "metadata": {
      "needs_background": "light"
     },
     "output_type": "display_data"
    }
   ],
   "source": [
    "rmses = np.array(rmses)\n",
    "max_idxs = np.where(rmses == np.max(rmses))\n",
    "index = int(max_idxs[0])\n",
    "\n",
    "model = nnets[index]\n",
    "output = Ys[index]\n",
    "plot_model(model.rmse_trace, Ttest, output)\n",
    "print(\"Worst Model: {}\".format(model))\n",
    "print(\"Highest RMSE on test data: {}\".format(np.round(np.max(rmses), 4)))"
   ]
  },
  {
   "cell_type": "markdown",
   "metadata": {},
   "source": [
    "* Observation:\n",
    "- The Highest value of Rmse ~  8.8262, the model sepcification are, \"NeuralNetwork(13, [10, 5, 3], 1), trained for 1000 epochs with a final RMSE of 9.276211321323853 Highest RMSE on test data:  8.8262\". As that model has many hidden layers, but too low a learning rate and epochs to actually fit the pattern quickly. So the rmses of this model is highest."
   ]
  },
  {
   "cell_type": "code",
   "execution_count": 36,
   "metadata": {},
   "outputs": [
    {
     "data": {
      "text/plain": [
       "0.9624109101148413"
      ]
     },
     "execution_count": 36,
     "metadata": {},
     "output_type": "execute_result"
    }
   ],
   "source": [
    "n_inputs = Xtrain.shape[1]\n",
    "n_outputs = Ttrain.shape[1]\n",
    "hidden_layers = [10, 5, 3]\n",
    "epochs = 100000\n",
    "rho = 0.1\n",
    "nnet = NeuralNetwork(n_inputs, hidden_layers, n_outputs)\n",
    "nnet.train(Xtrain, Ttrain, n_epochs=epochs, learning_rate=rho)\n",
    "rmses = np.array(nnet.rmse_trace)\n",
    "np.min(rmses)"
   ]
  },
  {
   "cell_type": "markdown",
   "metadata": {},
   "source": [
    "As Observed, if we increases the epochs from 1000 to 100000, the the rmses is reducing to ~1.14 for the hidden layers= [10, 5, 3] and learning rate = 0.1."
   ]
  },
  {
   "cell_type": "markdown",
   "metadata": {},
   "source": [
    "--------------------"
   ]
  },
  {
   "cell_type": "markdown",
   "metadata": {},
   "source": [
    "# Grading\n",
    "\n",
    "Your notebook will be run and graded automatically. Test this grading process by first downloading [A2grader.tar](http://www.cs.colostate.edu/~anderson/cs545/notebooks/A2grader.tar) and extract `A2grader.py` from it. Run the code in the following cell to demonstrate an example grading session.  The remaining 20 points will be based on your discussion of this assignment.\n",
    "\n",
    "A different, but similar, grading script will be used to grade your checked-in notebook. It will include additional tests. You should design and perform additional tests on all of your functions to be sure they run correctly before checking in your notebook.  \n",
    "\n",
    "For the grading script to run correctly, you must first name this notebook as `Lastname-A2.ipynb` with `Lastname` being your last name, and then save this notebook."
   ]
  },
  {
   "cell_type": "code",
   "execution_count": 37,
   "metadata": {
    "ExecuteTime": {
     "end_time": "2022-09-16T21:17:11.112089Z",
     "start_time": "2022-09-16T21:17:08.965640Z"
    }
   },
   "outputs": [
    {
     "name": "stdout",
     "output_type": "stream",
     "text": [
      "\n",
      "======================= Code Execution =======================\n",
      "\n",
      "Extracting python code from notebook named 'Podder-A2.ipynb' and storing in notebookcode.py\n"
     ]
    },
    {
     "name": "stderr",
     "output_type": "stream",
     "text": [
      "[NbConvertApp] Converting notebook Podder-A2.ipynb to script\n"
     ]
    },
    {
     "name": "stdout",
     "output_type": "stream",
     "text": [
      "Removing all statements that are not function or class defs or import statements.\n",
      "\n",
      "Testing\n",
      "\n",
      "    n_inputs = 3\n",
      "    n_hiddens = [2, 1]\n",
      "    n_outputs = 2\n",
      "    n_samples = 5\n",
      "\n",
      "    X = np.arange(n_samples * n_inputs).reshape(n_samples, n_inputs) * 0.1\n",
      "    T = np.hstack((X, X*2))\n",
      "\n",
      "    nnet = NeuralNetwork(n_inputs, n_hiddens, n_outputs)\n",
      "    nnet.set_weights_for_testing()\n",
      "\n",
      "    # Set standardization variables so use() will run\n",
      "    nnet.X_means = 0\n",
      "    nnet.X_stds = 1\n",
      "    nnet.T_means = 0\n",
      "    nnet.T_stds = 1\n",
      "    \n",
      "    Y = nnet.use(X)\n",
      "\n",
      "Weights set for testing by calling set_weights_for_testing()\n",
      "\n",
      "--- 20/20 points. Returned correct value.\n",
      "\n",
      "Testing\n",
      "\n",
      "    n_inputs = 3\n",
      "    n_hiddens = []   # NO HIDDEN LAYERS.  SO THE NEURAL NET IS JUST A LINEAR MODEL.\n",
      "    n_samples = 5\n",
      "\n",
      "    X = np.arange(n_samples * n_inputs).reshape(n_samples, n_inputs) * 0.1\n",
      "    T = np.hstack((X, X*2))\n",
      "    n_outputs = T.shape[1]\n",
      "\n",
      "    nnet = NeuralNetwork(n_inputs, n_hiddens, n_outputs)\n",
      "    nnet.set_weights_for_testing()\n",
      "\n",
      "    nnet.train(X, T, 1000, 0.01)\n",
      "    Y = nnet.use(X)\n",
      "\n",
      "Weights set for testing by calling set_weights_for_testing()\n",
      "\n",
      "--- 20/20 points. Returned correct value.\n",
      "\n",
      "Testing\n",
      "    n_inputs = 3\n",
      "    n_hiddens = [20, 20, 10, 10, 5]\n",
      "    n_samples = 5\n",
      "\n",
      "    X = np.arange(n_samples * n_inputs).reshape(n_samples, n_inputs) * 0.1\n",
      "    T = np.log(X + 0.1)\n",
      "    n_outputs = T.shape[1]\n",
      "    \n",
      "    def rmse(A, B):\n",
      "        return np.sqrt(np.mean((A - B)**2))\n",
      "\n",
      "    nnet = NeuralNetwork(n_inputs, n_hiddens, n_outputs)\n",
      "    nnet.set_weights_for_testing()\n",
      "\n",
      "    nnet.train(X, T, 6000, 0.01)\n",
      "    Y = nnet.use(X)\n",
      "    err = rmse(Y, T)\n",
      "    print('RMSE', rmse(Y, T))\n",
      "\n",
      "Weights set for testing by calling set_weights_for_testing()\n",
      "RMSE 0.038919781322996665\n",
      "\n",
      "--- 40/40 points. Returned correct value.\n",
      "\n",
      "======================================================================\n",
      "Final_ML2 Execution Grade is 80 / 80\n",
      "======================================================================\n",
      "\n",
      "___ / 5 Correctly read in Boston housing data using pandas.read_csv.\n",
      "___ / 5 Correctly created X and T and training and testing partitions.\n",
      "___ / 5 Correctly ran the required experiments.\n",
      "___ / 5 Provided a sufficient description of your experiments and results.\n",
      "\n",
      "======================================================================\n",
      "Final_ML2 Experiments and Discussion Grade is __ / 20\n",
      "======================================================================\n",
      "\n",
      "======================================================================\n",
      "Final_ML2 FINAL GRADE is  ___ / 100\n",
      "======================================================================\n",
      "\n",
      "Extra Credit:\n",
      "\n",
      "Apply your functions to a data set from the UCI Machine Learning Repository.\n",
      "Explain your steps and results in markdown cells.\n",
      "\n",
      "\n",
      "Final_ML2 EXTRA CREDIT is 0 / 1\n"
     ]
    },
    {
     "data": {
      "text/plain": [
       "<Figure size 432x288 with 0 Axes>"
      ]
     },
     "metadata": {},
     "output_type": "display_data"
    }
   ],
   "source": [
    "%run -i A2grader.py"
   ]
  },
  {
   "cell_type": "markdown",
   "metadata": {},
   "source": [
    "# Extra Credit\n",
    "\n",
    "Apply your multilayer neural network code to a regression problem using data that you choose \n",
    "from the [UCI Machine Learning Repository](http://archive.ics.uci.edu/ml/datasets.php). Pick a dataset that\n",
    "is listed as being appropriate for regression."
   ]
  },
  {
   "cell_type": "code",
   "execution_count": 38,
   "metadata": {},
   "outputs": [],
   "source": [
    "import pandas as pd\n",
    "from IPython.display import display, clear_output"
   ]
  },
  {
   "cell_type": "code",
   "execution_count": 39,
   "metadata": {},
   "outputs": [
    {
     "name": "stdout",
     "output_type": "stream",
     "text": [
      "  % Total    % Received % Xferd  Average Speed   Time    Time     Time  Current\n",
      "                                 Dload  Upload   Total   Spent    Left  Speed\n",
      "100  152M  100  152M    0     0  1850k      0  0:01:24  0:01:24 --:--:-- 1859k 0:01:25  0:00:25  0:01:00 1859k9k      0  0:01:24  0:01:17  0:00:07 1856k\n",
      "Archive:  data.zip\n",
      "  inflating: all_accelerometer_data_pids_13.csv  \n",
      "  inflating: clean_tac/DK3500_clean_TAC.csv  \n",
      "  inflating: clean_tac/JR8022_clean_TAC.csv  \n",
      "  inflating: clean_tac/SA0297_clean_TAC.csv  \n",
      "  inflating: clean_tac/BU4707_clean_TAC.csv  \n",
      "  inflating: clean_tac/HV0618_clean_TAC.csv  \n",
      "  inflating: clean_tac/SF3079_clean_TAC.csv  \n",
      "  inflating: clean_tac/MJ8002_clean_TAC.csv  \n",
      "  inflating: clean_tac/CC6740_clean_TAC.csv  \n",
      "  inflating: clean_tac/PC6771_clean_TAC.csv  \n",
      "  inflating: clean_tac/MC7070_clean_TAC.csv  \n",
      "  inflating: clean_tac/DC6359_clean_TAC.csv  \n",
      "  inflating: clean_tac/BK7610_clean_TAC.csv  \n",
      "  inflating: clean_tac/JB3156_clean_TAC.csv  \n",
      "  inflating: phone_types.csv         \n",
      "  inflating: pids.txt                \n",
      "  inflating: raw_tac/JR8022 CAM results.xlsx  \n",
      "  inflating: raw_tac/DK3500 CAM Results.xlsx  \n",
      "  inflating: raw_tac/MC7070 CAM Results.xlsx  \n",
      "  inflating: raw_tac/DC6359 CAM Results.xlsx  \n",
      "  inflating: raw_tac/HV0618 CAM Results.xlsx  \n",
      "  inflating: raw_tac/MJ8002 CAM Results.xlsx  \n",
      "  inflating: raw_tac/BK7610 CAM Results.xlsx  \n",
      "  inflating: raw_tac/BU4707 CAM results.xlsx  \n",
      "  inflating: raw_tac/SF3079 CAM Results.xlsx  \n",
      "  inflating: raw_tac/CC6740 CAM Results.xlsx  \n",
      "  inflating: raw_tac/JB3156 CAM Results.xlsx  \n",
      "  inflating: raw_tac/PC6771 CAM Results.xlsx  \n",
      "  inflating: raw_tac/SA0297 CAM Results.xlsx  \n",
      "  inflating: README.txt              \n"
     ]
    }
   ],
   "source": [
    "!curl -O https://archive.ics.uci.edu/ml/machine-learning-databases/00515/data.zip\n",
    "!unzip -o data.zip"
   ]
  },
  {
   "cell_type": "code",
   "execution_count": 40,
   "metadata": {},
   "outputs": [
    {
     "name": "stdout",
     "output_type": "stream",
     "text": [
      "timestamp,TAC_Reading\r",
      "\r\n",
      "1493727820,0.000215461318636504\r",
      "\r\n",
      "1493728019,0.00171609867547058\r",
      "\r\n",
      "1493729841,0.0019206433629713\r",
      "\r\n",
      "1493731667,0.000569328504946995\r",
      "\r\n",
      "1493731994,-0.00132149209962271\r",
      "\r\n",
      "1493732320,-0.00222159304264712\r",
      "\r\n",
      "1493732647,-0.00129891294373796\r",
      "\r\n",
      "1493732974,0.000842040954570864\r",
      "\r\n",
      "1493733301,0.00251227766392165\r",
      "\r\n"
     ]
    }
   ],
   "source": [
    "!head clean_tac/DK3500_clean_TAC.csv"
   ]
  },
  {
   "cell_type": "code",
   "execution_count": 41,
   "metadata": {},
   "outputs": [
    {
     "data": {
      "text/html": [
       "<div>\n",
       "<style scoped>\n",
       "    .dataframe tbody tr th:only-of-type {\n",
       "        vertical-align: middle;\n",
       "    }\n",
       "\n",
       "    .dataframe tbody tr th {\n",
       "        vertical-align: top;\n",
       "    }\n",
       "\n",
       "    .dataframe thead th {\n",
       "        text-align: right;\n",
       "    }\n",
       "</style>\n",
       "<table border=\"1\" class=\"dataframe\">\n",
       "  <thead>\n",
       "    <tr style=\"text-align: right;\">\n",
       "      <th></th>\n",
       "      <th>timestamp</th>\n",
       "      <th>TAC_Reading</th>\n",
       "    </tr>\n",
       "  </thead>\n",
       "  <tbody>\n",
       "    <tr>\n",
       "      <th>0</th>\n",
       "      <td>1493727820</td>\n",
       "      <td>0.000215</td>\n",
       "    </tr>\n",
       "    <tr>\n",
       "      <th>1</th>\n",
       "      <td>1493728019</td>\n",
       "      <td>0.001716</td>\n",
       "    </tr>\n",
       "    <tr>\n",
       "      <th>2</th>\n",
       "      <td>1493729841</td>\n",
       "      <td>0.001921</td>\n",
       "    </tr>\n",
       "    <tr>\n",
       "      <th>3</th>\n",
       "      <td>1493731667</td>\n",
       "      <td>0.000569</td>\n",
       "    </tr>\n",
       "    <tr>\n",
       "      <th>4</th>\n",
       "      <td>1493731994</td>\n",
       "      <td>-0.001321</td>\n",
       "    </tr>\n",
       "    <tr>\n",
       "      <th>5</th>\n",
       "      <td>1493732320</td>\n",
       "      <td>-0.002222</td>\n",
       "    </tr>\n",
       "    <tr>\n",
       "      <th>6</th>\n",
       "      <td>1493732647</td>\n",
       "      <td>-0.001299</td>\n",
       "    </tr>\n",
       "    <tr>\n",
       "      <th>7</th>\n",
       "      <td>1493732974</td>\n",
       "      <td>0.000842</td>\n",
       "    </tr>\n",
       "    <tr>\n",
       "      <th>8</th>\n",
       "      <td>1493733301</td>\n",
       "      <td>0.002512</td>\n",
       "    </tr>\n",
       "    <tr>\n",
       "      <th>9</th>\n",
       "      <td>1493733627</td>\n",
       "      <td>0.002204</td>\n",
       "    </tr>\n",
       "    <tr>\n",
       "      <th>10</th>\n",
       "      <td>1493733952</td>\n",
       "      <td>-0.000132</td>\n",
       "    </tr>\n",
       "    <tr>\n",
       "      <th>11</th>\n",
       "      <td>1493734278</td>\n",
       "      <td>-0.002794</td>\n",
       "    </tr>\n",
       "    <tr>\n",
       "      <th>12</th>\n",
       "      <td>1493734604</td>\n",
       "      <td>-0.003397</td>\n",
       "    </tr>\n",
       "    <tr>\n",
       "      <th>13</th>\n",
       "      <td>1493736427</td>\n",
       "      <td>-0.000643</td>\n",
       "    </tr>\n",
       "    <tr>\n",
       "      <th>14</th>\n",
       "      <td>1493738250</td>\n",
       "      <td>0.004453</td>\n",
       "    </tr>\n",
       "    <tr>\n",
       "      <th>15</th>\n",
       "      <td>1493740074</td>\n",
       "      <td>0.008935</td>\n",
       "    </tr>\n",
       "    <tr>\n",
       "      <th>16</th>\n",
       "      <td>1493741897</td>\n",
       "      <td>0.009885</td>\n",
       "    </tr>\n",
       "    <tr>\n",
       "      <th>17</th>\n",
       "      <td>1493743721</td>\n",
       "      <td>0.006846</td>\n",
       "    </tr>\n",
       "    <tr>\n",
       "      <th>18</th>\n",
       "      <td>1493745545</td>\n",
       "      <td>0.003018</td>\n",
       "    </tr>\n",
       "    <tr>\n",
       "      <th>19</th>\n",
       "      <td>1493747369</td>\n",
       "      <td>0.004181</td>\n",
       "    </tr>\n",
       "    <tr>\n",
       "      <th>20</th>\n",
       "      <td>1493749193</td>\n",
       "      <td>0.015652</td>\n",
       "    </tr>\n",
       "    <tr>\n",
       "      <th>21</th>\n",
       "      <td>1493751017</td>\n",
       "      <td>0.038931</td>\n",
       "    </tr>\n",
       "    <tr>\n",
       "      <th>22</th>\n",
       "      <td>1493752857</td>\n",
       "      <td>0.070049</td>\n",
       "    </tr>\n",
       "    <tr>\n",
       "      <th>23</th>\n",
       "      <td>1493754697</td>\n",
       "      <td>0.100725</td>\n",
       "    </tr>\n",
       "    <tr>\n",
       "      <th>24</th>\n",
       "      <td>1493756537</td>\n",
       "      <td>0.121860</td>\n",
       "    </tr>\n",
       "    <tr>\n",
       "      <th>25</th>\n",
       "      <td>1493758377</td>\n",
       "      <td>0.127514</td>\n",
       "    </tr>\n",
       "    <tr>\n",
       "      <th>26</th>\n",
       "      <td>1493760216</td>\n",
       "      <td>0.117294</td>\n",
       "    </tr>\n",
       "    <tr>\n",
       "      <th>27</th>\n",
       "      <td>1493762057</td>\n",
       "      <td>0.096029</td>\n",
       "    </tr>\n",
       "    <tr>\n",
       "      <th>28</th>\n",
       "      <td>1493763898</td>\n",
       "      <td>0.071151</td>\n",
       "    </tr>\n",
       "    <tr>\n",
       "      <th>29</th>\n",
       "      <td>1493765738</td>\n",
       "      <td>0.049382</td>\n",
       "    </tr>\n",
       "    <tr>\n",
       "      <th>30</th>\n",
       "      <td>1493767576</td>\n",
       "      <td>0.034431</td>\n",
       "    </tr>\n",
       "    <tr>\n",
       "      <th>31</th>\n",
       "      <td>1493769399</td>\n",
       "      <td>0.026588</td>\n",
       "    </tr>\n",
       "    <tr>\n",
       "      <th>32</th>\n",
       "      <td>1493771222</td>\n",
       "      <td>0.023904</td>\n",
       "    </tr>\n",
       "    <tr>\n",
       "      <th>33</th>\n",
       "      <td>1493773060</td>\n",
       "      <td>0.023889</td>\n",
       "    </tr>\n",
       "    <tr>\n",
       "      <th>34</th>\n",
       "      <td>1493774897</td>\n",
       "      <td>0.024700</td>\n",
       "    </tr>\n",
       "    <tr>\n",
       "      <th>35</th>\n",
       "      <td>1493776735</td>\n",
       "      <td>0.025407</td>\n",
       "    </tr>\n",
       "    <tr>\n",
       "      <th>36</th>\n",
       "      <td>1493778573</td>\n",
       "      <td>0.025636</td>\n",
       "    </tr>\n",
       "    <tr>\n",
       "      <th>37</th>\n",
       "      <td>1493780412</td>\n",
       "      <td>0.025152</td>\n",
       "    </tr>\n",
       "    <tr>\n",
       "      <th>38</th>\n",
       "      <td>1493782250</td>\n",
       "      <td>0.023774</td>\n",
       "    </tr>\n",
       "    <tr>\n",
       "      <th>39</th>\n",
       "      <td>1493784088</td>\n",
       "      <td>0.021548</td>\n",
       "    </tr>\n",
       "    <tr>\n",
       "      <th>40</th>\n",
       "      <td>1493785927</td>\n",
       "      <td>0.018886</td>\n",
       "    </tr>\n",
       "    <tr>\n",
       "      <th>41</th>\n",
       "      <td>1493787750</td>\n",
       "      <td>0.016433</td>\n",
       "    </tr>\n",
       "    <tr>\n",
       "      <th>42</th>\n",
       "      <td>1493789574</td>\n",
       "      <td>0.014697</td>\n",
       "    </tr>\n",
       "    <tr>\n",
       "      <th>43</th>\n",
       "      <td>1493791397</td>\n",
       "      <td>0.013744</td>\n",
       "    </tr>\n",
       "    <tr>\n",
       "      <th>44</th>\n",
       "      <td>1493793221</td>\n",
       "      <td>0.013212</td>\n",
       "    </tr>\n",
       "    <tr>\n",
       "      <th>45</th>\n",
       "      <td>1493795045</td>\n",
       "      <td>0.012633</td>\n",
       "    </tr>\n",
       "    <tr>\n",
       "      <th>46</th>\n",
       "      <td>1493796868</td>\n",
       "      <td>0.011820</td>\n",
       "    </tr>\n",
       "    <tr>\n",
       "      <th>47</th>\n",
       "      <td>1493798692</td>\n",
       "      <td>0.011012</td>\n",
       "    </tr>\n",
       "    <tr>\n",
       "      <th>48</th>\n",
       "      <td>1493800516</td>\n",
       "      <td>0.010660</td>\n",
       "    </tr>\n",
       "    <tr>\n",
       "      <th>49</th>\n",
       "      <td>1493802338</td>\n",
       "      <td>0.011030</td>\n",
       "    </tr>\n",
       "    <tr>\n",
       "      <th>50</th>\n",
       "      <td>1493804161</td>\n",
       "      <td>0.011943</td>\n",
       "    </tr>\n",
       "  </tbody>\n",
       "</table>\n",
       "</div>"
      ],
      "text/plain": [
       "     timestamp  TAC_Reading\n",
       "0   1493727820     0.000215\n",
       "1   1493728019     0.001716\n",
       "2   1493729841     0.001921\n",
       "3   1493731667     0.000569\n",
       "4   1493731994    -0.001321\n",
       "5   1493732320    -0.002222\n",
       "6   1493732647    -0.001299\n",
       "7   1493732974     0.000842\n",
       "8   1493733301     0.002512\n",
       "9   1493733627     0.002204\n",
       "10  1493733952    -0.000132\n",
       "11  1493734278    -0.002794\n",
       "12  1493734604    -0.003397\n",
       "13  1493736427    -0.000643\n",
       "14  1493738250     0.004453\n",
       "15  1493740074     0.008935\n",
       "16  1493741897     0.009885\n",
       "17  1493743721     0.006846\n",
       "18  1493745545     0.003018\n",
       "19  1493747369     0.004181\n",
       "20  1493749193     0.015652\n",
       "21  1493751017     0.038931\n",
       "22  1493752857     0.070049\n",
       "23  1493754697     0.100725\n",
       "24  1493756537     0.121860\n",
       "25  1493758377     0.127514\n",
       "26  1493760216     0.117294\n",
       "27  1493762057     0.096029\n",
       "28  1493763898     0.071151\n",
       "29  1493765738     0.049382\n",
       "30  1493767576     0.034431\n",
       "31  1493769399     0.026588\n",
       "32  1493771222     0.023904\n",
       "33  1493773060     0.023889\n",
       "34  1493774897     0.024700\n",
       "35  1493776735     0.025407\n",
       "36  1493778573     0.025636\n",
       "37  1493780412     0.025152\n",
       "38  1493782250     0.023774\n",
       "39  1493784088     0.021548\n",
       "40  1493785927     0.018886\n",
       "41  1493787750     0.016433\n",
       "42  1493789574     0.014697\n",
       "43  1493791397     0.013744\n",
       "44  1493793221     0.013212\n",
       "45  1493795045     0.012633\n",
       "46  1493796868     0.011820\n",
       "47  1493798692     0.011012\n",
       "48  1493800516     0.010660\n",
       "49  1493802338     0.011030\n",
       "50  1493804161     0.011943"
      ]
     },
     "execution_count": 41,
     "metadata": {},
     "output_type": "execute_result"
    }
   ],
   "source": [
    "data = pd.read_csv('clean_tac/DK3500_clean_TAC.csv', delimiter=',', decimal='.', usecols=range(2), na_values=-200)\n",
    "data = data.dropna(axis=0)\n",
    "data"
   ]
  },
  {
   "cell_type": "code",
   "execution_count": 42,
   "metadata": {},
   "outputs": [],
   "source": [
    "Time = data['timestamp']\n",
    "Tac = data['TAC_Reading']"
   ]
  },
  {
   "cell_type": "code",
   "execution_count": 43,
   "metadata": {},
   "outputs": [
    {
     "name": "stdout",
     "output_type": "stream",
     "text": [
      "X.shape = (30, 1) Xnames = ['Unix Timestamp'] T.shape = (30, 1) Tnames = ['Tac_Reading']\n",
      "X.shape=(30, 1) Xnames=['Unix Timestamp'] T.shape=(30, 1) Tnames=['Tac_Reading']\n"
     ]
    }
   ],
   "source": [
    "T = Tac[:30]\n",
    "T = np.array(T).reshape((-1, 1))\n",
    "Tnames = ['Tac_Reading']\n",
    "X = np.array(Time[:30]).reshape((-1, 1))\n",
    "Xnames = ['Unix Timestamp']\n",
    "print('X.shape =', X.shape, 'Xnames =', Xnames, 'T.shape =', T.shape, 'Tnames =', Tnames)\n",
    "print(f'{X.shape=} {Xnames=} {T.shape=} {Tnames=}')\n",
    "\n",
    "Ttest = Tac\n",
    "Ttest = np.array(T).reshape((-1, 1))\n",
    "Xtest = np.array(Time).reshape((-1, 1))"
   ]
  },
  {
   "cell_type": "code",
   "execution_count": 44,
   "metadata": {},
   "outputs": [
    {
     "data": {
      "text/plain": [
       "[<matplotlib.lines.Line2D at 0x7ff08d945ca0>]"
      ]
     },
     "execution_count": 44,
     "metadata": {},
     "output_type": "execute_result"
    },
    {
     "data": {
      "image/png": "[encoded data removed]",
      "text/plain": [
       "<Figure size 432x288 with 1 Axes>"
      ]
     },
     "metadata": {
      "needs_background": "light"
     },
     "output_type": "display_data"
    }
   ],
   "source": [
    "plt.plot(X, T, '.-')"
   ]
  },
  {
   "cell_type": "code",
   "execution_count": 45,
   "metadata": {},
   "outputs": [
    {
     "data": {
      "image/png": "[encoded data removed]",
      "text/plain": [
       "<Figure size 432x288 with 2 Axes>"
      ]
     },
     "metadata": {
      "needs_background": "light"
     },
     "output_type": "display_data"
    }
   ],
   "source": [
    "n_inputs = X.shape[1]\n",
    "n_outputs = T.shape[1]\n",
    "hidden_layers = [10, 5, 3]\n",
    "epochs = 10000\n",
    "rho = 0.1\n",
    "\n",
    "n_epochs_per_plot = 500\n",
    "\n",
    "fig = plt.figure()\n",
    "for reps in range(epochs // n_epochs_per_plot):\n",
    "    plt.clf()\n",
    "    nnet = NeuralNetwork(n_inputs, hidden_layers, n_outputs)\n",
    "    nnet.train(X, T, n_epochs=epochs, learning_rate=rho)\n",
    "    plot_data_and_model(nnet, X, T)\n",
    "    ipd.clear_output(wait=True)\n",
    "    ipd.display(fig)\n",
    "    time.sleep(0.2)  # 0.2 seconds\n",
    "ipd.clear_output(wait=True)"
   ]
  }
 ],
 "metadata": {
  "kernelspec": {
   "display_name": "Python 3 (ipykernel)",
   "language": "python",
   "name": "python3"
  },
  "language_info": {
   "codemirror_mode": {
    "name": "ipython",
    "version": 3
   },
   "file_extension": ".py",
   "mimetype": "text/x-python",
   "name": "python",
   "nbconvert_exporter": "python",
   "pygments_lexer": "ipython3",
   "version": "3.9.12"
  },
  "toc": {
   "base_numbering": 1,
   "nav_menu": {},
   "number_sections": false,
   "sideBar": true,
   "skip_h1_title": true,
   "title_cell": "Table of Contents",
   "title_sidebar": "Contents",
   "toc_cell": true,
   "toc_position": {
    "height": "calc(100% - 180px)",
    "left": "10px",
    "top": "150px",
    "width": "512px"
   },
   "toc_section_display": true,
   "toc_window_display": false
  }
 },
 "nbformat": 4,
 "nbformat_minor": 4
}
