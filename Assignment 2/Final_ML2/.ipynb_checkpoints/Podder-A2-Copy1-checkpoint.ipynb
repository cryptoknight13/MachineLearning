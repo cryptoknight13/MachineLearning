{
 "cells": [
  {
   "cell_type": "markdown",
   "metadata": {},
   "source": [
    "# A2: NeuralNetwork Class"
   ]
  },
  {
   "cell_type": "markdown",
   "metadata": {
    "toc": true
   },
   "source": [
    "<h1>Table of Contents<span class=\"tocSkip\"></span></h1>\n",
    "<div class=\"toc\"><ul class=\"toc-item\"><li><span><a href=\"#Requirements\" data-toc-modified-id=\"Requirements-1\">Requirements</a></span></li><li><span><a href=\"#Code-for-NeuralNetwork-Class\" data-toc-modified-id=\"Code-for-NeuralNetwork-Class-2\">Code for <code>NeuralNetwork</code> Class</a></span></li><li><span><a href=\"#Example-Results\" data-toc-modified-id=\"Example-Results-3\">Example Results</a></span></li><li><span><a href=\"#Application-to-Boston-Housing-Data\" data-toc-modified-id=\"Application-to-Boston-Housing-Data-4\">Application to Boston Housing Data</a></span></li></ul></div>"
   ]
  },
  {
   "cell_type": "markdown",
   "metadata": {},
   "source": [
    "## Requirements"
   ]
  },
  {
   "cell_type": "markdown",
   "metadata": {},
   "source": [
    "In this assignment, you will complete the implementation of the `NeuralNetwork` class, starting with the code included in the `04b` lecture notes.  Your implementation must \n",
    "\n",
    "1. Allow any number of hidden layers, including no hidden layers specified by an empty list as `[]`. <font color='red'>Don't forget this case.</font>\n",
    "2. Define `_forward(self, X)` and `_gradients(self, X, T` functions. `_forward` must return the output of the network, `Y`, in standardized form and create `self.Zs` as a list consisting of the input `X` and the outputs of all hidden layers. `_gradients` must return the gradients of the mean square error with respect to the weights in each layer. \n",
    "2. Your `train` function must standardize `X` and `T` and save the standardization parameters (means and stds) in member variables. It must append to `self.rmse_trace` the RMSE value for each epoch.  Initialize this list to be `[]` in the constructor to allow multiple calls to `train` to continue to append to the same `rmse_trace` list.\n",
    "2. Your `use` function must standardize `X` and unstandardize the output.\n",
    "\n",
    "See the following examples for more details.\n",
    "\n",
    "Then apply your `NeuralNetwork` class to the problem of predicting the value of houses in Boston as described below."
   ]
  },
  {
   "cell_type": "markdown",
   "metadata": {},
   "source": [
    "## Code for `NeuralNetwork` Class"
   ]
  },
  {
   "cell_type": "code",
   "execution_count": 1,
   "metadata": {
    "ExecuteTime": {
     "end_time": "2022-09-16T20:44:32.564986Z",
     "start_time": "2022-09-16T20:44:32.561771Z"
    }
   },
   "outputs": [],
   "source": [
    "import numpy as np\n",
    "import matplotlib.pyplot as plt\n",
    "%matplotlib inline\n",
    "import IPython.display as ipd  # for display and clear_output\n",
    "import time"
   ]
  },
  {
   "cell_type": "code",
   "execution_count": 2,
   "metadata": {
    "ExecuteTime": {
     "end_time": "2022-09-16T20:44:32.574691Z",
     "start_time": "2022-09-16T20:44:32.566777Z"
    }
   },
   "outputs": [],
   "source": [
    "# insert your NeuralNetwork class definition here.\n",
    "class NeuralNetwork:\n",
    "    \n",
    "    def __init__(self, n_inputs, n_hiddens_each_layer, n_outputs):\n",
    "        #Initializing all the Variables\n",
    "        self.n_inputs = n_inputs\n",
    "        self.n_hiddens_each_layer = n_hiddens_each_layer\n",
    "        self.n_outputs = n_outputs\n",
    "        \n",
    "        self.X_means = None\n",
    "        self.X_stds = None\n",
    "        self.T_means = None\n",
    "        self.T_stds = None\n",
    "        \n",
    "        self.n_epochs = None\n",
    "        self.rmse = None\n",
    "        #Initializing the Error Trace\n",
    "        self.rmse_trace = []\n",
    "        #Initializing the Wieght matrixes\n",
    "        self.Ws = []\n",
    "        #Forward Layer\n",
    "        self.Zs = []    \n",
    "\n",
    "        #Calcuting Shape of Ws on the basis of number of Hidden Layer\n",
    "        shapes=[[0] * 2 for i in range(len(n_hiddens_each_layer) + 1)]\n",
    "        shapes[0][0] = n_inputs + 1\n",
    "        i = n_inputs\n",
    "        \n",
    "        for j, i in enumerate(n_hiddens_each_layer):\n",
    "            shapes[j][1] = i\n",
    "            if j + 1 < len(n_hiddens_each_layer):\n",
    "                shapes[j + 1][0] = i + 1\n",
    "        if len(n_hiddens_each_layer) > 0:\n",
    "            shapes[j + 1][0] = i + 1\n",
    "            shapes[j + 1][1] = n_outputs\n",
    "        else:\n",
    "            shapes[0][1] = n_outputs\n",
    "        \n",
    "        shape = np.array(shapes)\n",
    "        shape_sum = np.sum(shape[:, 0] * shape[:, 1])\n",
    "        weights = np.random.uniform(-0.1, 0.1, shape_sum) \n",
    "        temp = 0\n",
    "        for i in shape:\n",
    "            init = temp + i[0] * i[1]\n",
    "            self.Ws.append(weights[temp:init].reshape(i[0], i[1]))\n",
    "            temp = init\n",
    "        self.Ws[-1][:,:]=0\n",
    "        \n",
    "    def __repr__(self):\n",
    "        return 'NeuralNetwork({}, {}, {})'.format(self.n_inputs, self.n_hiddens_each_layer, self.n_outputs)\n",
    "    \n",
    "    def __str__(self):\n",
    "        return self.__repr__() + ', trained for {} epochs with a final RMSE of {}'.format(self.n_epochs, self.rmse)\n",
    "    \n",
    "    def _add_ones(self, A):\n",
    "        return np.insert(A, 0, 1, axis=1)\n",
    "    \n",
    "    def _forward(self,X):\n",
    "        Z = [X]\n",
    "        for i in range(len(self.n_hiddens_each_layer)):\n",
    "            W = self._add_ones(Z[-1])\n",
    "            Z.append(np.tanh(W @ self.Ws[i]))\n",
    "            \n",
    "        Y = self._add_ones(Z[-1])\n",
    "        Z.append(Y @ self.Ws[-1])\n",
    "        \n",
    "        return Z\n",
    "    \n",
    "    def _gradients(self, X, T):\n",
    "        grad = []\n",
    "\n",
    "        D = T - self.Zs[-1]\n",
    "        grad.append(- self._add_ones(self.Zs[-2]).T @ D)\n",
    "        \n",
    "        n_layers = len(self.n_hiddens_each_layer)\n",
    "\n",
    "        for i in reversed(range(n_layers)):\n",
    "            D = D @ (self.Ws[i+1][1:, :]).T * (1 - self.Zs[i+1]**2)\n",
    "            grad.append(- self._add_ones(self.Zs[i]).T @ D)\n",
    "            \n",
    "        grad.reverse()\n",
    "        return grad\n",
    "    \n",
    "    def calc_rmse(self, T, Y):\n",
    "        error = (T - Y) * self.T_stds \n",
    "        return np.sqrt(np.mean(error ** 2))\n",
    "    \n",
    "    def train(self, X, T, n_epochs,learning_rate):\n",
    "        self.n_epochs = n_epochs\n",
    "        self.learning_rate = learning_rate\n",
    "        \n",
    "        self.X_means = X.mean(axis=0)\n",
    "        self.X_stds = X.std(axis=0)\n",
    "        self.T_means = T.mean(axis=0)\n",
    "        self.T_stds = T.std(axis=0)\n",
    "        \n",
    "        Xtrain = (X - self.X_means) / self.X_stds\n",
    "        Ttrain = (T - self.T_means) / self.T_stds\n",
    "\n",
    "        n_samples, n_outputs = T.shape\n",
    "        rho = self.learning_rate / (n_samples * n_outputs)\n",
    "        \n",
    "        for epoch in range(self.n_epochs):\n",
    "        \n",
    "            self.Zs = self._forward(Xtrain)\n",
    "            self.Grads = self._gradients(Xtrain,Ttrain)\n",
    "            \n",
    "            \n",
    "           # for i in range(len(self.n_hiddens_each_layer) + 1):\n",
    "             #   self.Ws[i] = self.Ws[i] - rho * self.gradients[i]\n",
    "            for index in range(len(self.n_hiddens_each_layer)+1):\n",
    "                self.Ws[index] = self.Ws[index] - rho * self.Grads[index]\n",
    "            \n",
    "            Y = self._forward(Xtrain)[-1]\n",
    "            self.rmse = self.calc_rmse(Ttrain, Y)\n",
    "            self.rmse_trace.append(self.rmse)\n",
    "\n",
    "        return self\n",
    "    \n",
    "    def use(self, X):\n",
    "        # standardise X\n",
    "        Xtest_st = (X - self.X_means) / self.X_stds\n",
    "        # predict using model and weights provided\n",
    "        Y = self._forward(Xtest_st)[-1]        \n",
    "        # unstandardise output\n",
    "        Y = Y * self.T_stds + self.T_means\n",
    "\n",
    "        return Y"
   ]
  },
  {
   "cell_type": "markdown",
   "metadata": {},
   "source": [
    "In this next code cell, I add a new method to your class that replaces the weights created in your constructor with non-random values to allow you to compare your results with mine, and to allow our grading scripts to work well."
   ]
  },
  {
   "cell_type": "code",
   "execution_count": 3,
   "metadata": {
    "ExecuteTime": {
     "end_time": "2022-09-16T20:44:32.594067Z",
     "start_time": "2022-09-16T20:44:32.590678Z"
    }
   },
   "outputs": [],
   "source": [
    "def set_weights_for_testing(self):\n",
    "    for W in self.Ws[:-1]:   # leave output layer weights at zero\n",
    "        n_weights = W.shape[0] * W.shape[1]\n",
    "        W[:] = np.linspace(-0.01, 0.01, n_weights).reshape(W.shape)\n",
    "        for u in range(W.shape[1]):\n",
    "            W[:, u] += (u - W.shape[1]/2) * 0.2\n",
    "    # Set output layer weights to zero\n",
    "    self.Ws[-1][:] = 0\n",
    "    print('Weights set for testing by calling set_weights_for_testing()')\n",
    "\n",
    "setattr(NeuralNetwork, 'set_weights_for_testing', set_weights_for_testing)"
   ]
  },
  {
   "cell_type": "markdown",
   "metadata": {},
   "source": [
    "## Example Results"
   ]
  },
  {
   "cell_type": "markdown",
   "metadata": {},
   "source": [
    "Here we test the `NeuralNetwork` class with some simple data.  \n"
   ]
  },
  {
   "cell_type": "code",
   "execution_count": 4,
   "metadata": {
    "ExecuteTime": {
     "end_time": "2022-09-16T20:44:32.604006Z",
     "start_time": "2022-09-16T20:44:32.595320Z"
    }
   },
   "outputs": [
    {
     "data": {
      "text/plain": [
       "(array([[0],\n",
       "        [1],\n",
       "        [2],\n",
       "        [3],\n",
       "        [4],\n",
       "        [5],\n",
       "        [6],\n",
       "        [7],\n",
       "        [8],\n",
       "        [9]]),\n",
       " array([[ 0.        ],\n",
       "        [ 0.85147098],\n",
       "        [ 0.94929743],\n",
       "        [ 0.23112001],\n",
       "        [-0.5968025 ],\n",
       "        [-0.70892427],\n",
       "        [ 0.0805845 ],\n",
       "        [ 1.1469866 ],\n",
       "        [ 1.62935825],\n",
       "        [ 1.22211849]]))"
      ]
     },
     "execution_count": 4,
     "metadata": {},
     "output_type": "execute_result"
    }
   ],
   "source": [
    "X = np.arange(0, 10).reshape(-1, 1)\n",
    "T = np.sin(X) + 0.01 * (X ** 2)\n",
    "X, T"
   ]
  },
  {
   "cell_type": "code",
   "execution_count": 5,
   "metadata": {
    "ExecuteTime": {
     "end_time": "2022-09-16T20:44:32.692241Z",
     "start_time": "2022-09-16T20:44:32.605307Z"
    }
   },
   "outputs": [
    {
     "data": {
      "text/plain": [
       "[<matplotlib.lines.Line2D at 0x7fb13ee9b0a0>]"
      ]
     },
     "execution_count": 5,
     "metadata": {},
     "output_type": "execute_result"
    },
    {
     "data": {
      "image/png": "[encoded data removed]",
      "text/plain": [
       "<Figure size 432x288 with 1 Axes>"
      ]
     },
     "metadata": {
      "needs_background": "light"
     },
     "output_type": "display_data"
    }
   ],
   "source": [
    "plt.plot(X, T, '.-')"
   ]
  },
  {
   "cell_type": "code",
   "execution_count": 6,
   "metadata": {
    "ExecuteTime": {
     "end_time": "2022-09-16T20:44:32.697052Z",
     "start_time": "2022-09-16T20:44:32.693526Z"
    }
   },
   "outputs": [
    {
     "data": {
      "text/plain": [
       "NeuralNetwork(1, [3, 2], 1)"
      ]
     },
     "execution_count": 6,
     "metadata": {},
     "output_type": "execute_result"
    }
   ],
   "source": [
    "n_inputs = X.shape[1]\n",
    "n_outputs = T.shape[1]\n",
    "\n",
    "nnet = NeuralNetwork(n_inputs, [3, 2], n_outputs)\n",
    "nnet"
   ]
  },
  {
   "cell_type": "code",
   "execution_count": 7,
   "metadata": {
    "ExecuteTime": {
     "end_time": "2022-09-16T20:44:32.705672Z",
     "start_time": "2022-09-16T20:44:32.698197Z"
    }
   },
   "outputs": [
    {
     "data": {
      "text/plain": [
       "(1, [3, 2], 1)"
      ]
     },
     "execution_count": 7,
     "metadata": {},
     "output_type": "execute_result"
    }
   ],
   "source": [
    "nnet.n_inputs, nnet.n_hiddens_each_layer, nnet.n_outputs"
   ]
  },
  {
   "cell_type": "code",
   "execution_count": 8,
   "metadata": {
    "ExecuteTime": {
     "end_time": "2022-09-16T20:44:32.714071Z",
     "start_time": "2022-09-16T20:44:32.708215Z"
    }
   },
   "outputs": [
    {
     "data": {
      "text/plain": [
       "[]"
      ]
     },
     "execution_count": 8,
     "metadata": {},
     "output_type": "execute_result"
    }
   ],
   "source": [
    "nnet.rmse_trace"
   ]
  },
  {
   "cell_type": "code",
   "execution_count": 9,
   "metadata": {
    "ExecuteTime": {
     "end_time": "2022-09-16T20:44:32.723578Z",
     "start_time": "2022-09-16T20:44:32.715275Z"
    }
   },
   "outputs": [
    {
     "data": {
      "text/plain": [
       "[array([[ 0.08432154,  0.056439  ,  0.00059574],\n",
       "        [ 0.02420965, -0.0443359 , -0.03644169]]),\n",
       " array([[ 0.07258898,  0.01746413],\n",
       "        [-0.01011941, -0.04775611],\n",
       "        [ 0.0940181 , -0.0821568 ],\n",
       "        [ 0.05240244,  0.07066643]]),\n",
       " array([[0.],\n",
       "        [0.],\n",
       "        [0.]])]"
      ]
     },
     "execution_count": 9,
     "metadata": {},
     "output_type": "execute_result"
    }
   ],
   "source": [
    "nnet.Ws"
   ]
  },
  {
   "cell_type": "code",
   "execution_count": 10,
   "metadata": {
    "ExecuteTime": {
     "end_time": "2022-09-16T20:44:32.732243Z",
     "start_time": "2022-09-16T20:44:32.724790Z"
    }
   },
   "outputs": [
    {
     "name": "stdout",
     "output_type": "stream",
     "text": [
      "Weights set for testing by calling set_weights_for_testing()\n"
     ]
    }
   ],
   "source": [
    "nnet.set_weights_for_testing()"
   ]
  },
  {
   "cell_type": "code",
   "execution_count": 11,
   "metadata": {
    "ExecuteTime": {
     "end_time": "2022-09-16T20:44:32.741699Z",
     "start_time": "2022-09-16T20:44:32.733644Z"
    }
   },
   "outputs": [
    {
     "data": {
      "text/plain": [
       "[array([[-0.31 , -0.106,  0.098],\n",
       "        [-0.298, -0.094,  0.11 ]]),\n",
       " array([[-0.21      , -0.00714286],\n",
       "        [-0.20428571, -0.00142857],\n",
       "        [-0.19857143,  0.00428571],\n",
       "        [-0.19285714,  0.01      ]]),\n",
       " array([[0.],\n",
       "        [0.],\n",
       "        [0.]])]"
      ]
     },
     "execution_count": 11,
     "metadata": {},
     "output_type": "execute_result"
    }
   ],
   "source": [
    "nnet.Ws"
   ]
  },
  {
   "cell_type": "code",
   "execution_count": 12,
   "metadata": {
    "ExecuteTime": {
     "end_time": "2022-09-16T20:44:32.750374Z",
     "start_time": "2022-09-16T20:44:32.742984Z"
    }
   },
   "outputs": [
    {
     "data": {
      "text/plain": [
       "NeuralNetwork(1, [3, 2], 1)"
      ]
     },
     "execution_count": 12,
     "metadata": {},
     "output_type": "execute_result"
    }
   ],
   "source": [
    "nnet.train(X, T, n_epochs=1, learning_rate=0.1)"
   ]
  },
  {
   "cell_type": "code",
   "execution_count": 13,
   "metadata": {
    "ExecuteTime": {
     "end_time": "2022-09-16T20:44:32.760663Z",
     "start_time": "2022-09-16T20:44:32.751976Z"
    }
   },
   "outputs": [
    {
     "data": {
      "text/plain": [
       "[array([[-1.5666989 ],\n",
       "        [-1.21854359],\n",
       "        [-0.87038828],\n",
       "        [-0.52223297],\n",
       "        [-0.17407766],\n",
       "        [ 0.17407766],\n",
       "        [ 0.52223297],\n",
       "        [ 0.87038828],\n",
       "        [ 1.21854359],\n",
       "        [ 1.5666989 ]]),\n",
       " array([[ 0.1556019 ,  0.04124628, -0.07420025],\n",
       "        [ 0.05307607,  0.00854289, -0.0360242 ],\n",
       "        [-0.05058109, -0.02417879,  0.00225729],\n",
       "        [-0.15315983, -0.05684874,  0.04053216],\n",
       "        [-0.25254081, -0.0893974 ,  0.07868844],\n",
       "        [-0.34686464, -0.12175623,  0.11661556],\n",
       "        [-0.43465797, -0.15385829,  0.15420558],\n",
       "        [-0.51490065, -0.18563881,  0.19135444],\n",
       "        [-0.58703239, -0.21703564,  0.22796304],\n",
       "        [-0.65091011, -0.24798976,  0.26393827]]),\n",
       " array([[-0.2313994 , -0.00793021],\n",
       "        [-0.21231228, -0.00754217],\n",
       "        [-0.19285534, -0.00715153],\n",
       "        [-0.17346796, -0.00676227],\n",
       "        [-0.15458409, -0.00637825],\n",
       "        [-0.13659418, -0.00600292],\n",
       "        [-0.11981504, -0.00563919],\n",
       "        [-0.10447207, -0.00528929],\n",
       "        [-0.09069498, -0.00495472],\n",
       "        [-0.07852506, -0.00463638]]),\n",
       " array([[0.],\n",
       "        [0.],\n",
       "        [0.],\n",
       "        [0.],\n",
       "        [0.],\n",
       "        [0.],\n",
       "        [0.],\n",
       "        [0.],\n",
       "        [0.],\n",
       "        [0.]])]"
      ]
     },
     "execution_count": 13,
     "metadata": {},
     "output_type": "execute_result"
    }
   ],
   "source": [
    "nnet.Zs"
   ]
  },
  {
   "cell_type": "code",
   "execution_count": 14,
   "metadata": {
    "ExecuteTime": {
     "end_time": "2022-09-16T20:44:32.770833Z",
     "start_time": "2022-09-16T20:44:32.761926Z"
    }
   },
   "outputs": [
    {
     "name": "stdout",
     "output_type": "stream",
     "text": [
      "NeuralNetwork(1, [3, 2], 1), trained for 1 epochs with a final RMSE of 0.7549465762463012\n"
     ]
    }
   ],
   "source": [
    "print(nnet)"
   ]
  },
  {
   "cell_type": "code",
   "execution_count": 15,
   "metadata": {
    "ExecuteTime": {
     "end_time": "2022-09-16T20:44:32.780487Z",
     "start_time": "2022-09-16T20:44:32.772376Z"
    }
   },
   "outputs": [
    {
     "data": {
      "text/plain": [
       "(array([4.5]), array([2.87228132]))"
      ]
     },
     "execution_count": 15,
     "metadata": {},
     "output_type": "execute_result"
    }
   ],
   "source": [
    "nnet.X_means, nnet.X_stds"
   ]
  },
  {
   "cell_type": "code",
   "execution_count": 16,
   "metadata": {
    "ExecuteTime": {
     "end_time": "2022-09-16T20:44:32.791055Z",
     "start_time": "2022-09-16T20:44:32.781837Z"
    }
   },
   "outputs": [
    {
     "data": {
      "text/plain": [
       "(array([0.48052095]), array([0.754969]))"
      ]
     },
     "execution_count": 16,
     "metadata": {},
     "output_type": "execute_result"
    }
   ],
   "source": [
    "nnet.T_means, nnet.T_stds"
   ]
  },
  {
   "cell_type": "code",
   "execution_count": 17,
   "metadata": {
    "ExecuteTime": {
     "end_time": "2022-09-16T20:44:32.801409Z",
     "start_time": "2022-09-16T20:44:32.792391Z"
    }
   },
   "outputs": [
    {
     "data": {
      "text/plain": [
       "[(10, 1), (10, 3), (10, 2), (10, 1)]"
      ]
     },
     "execution_count": 17,
     "metadata": {},
     "output_type": "execute_result"
    }
   ],
   "source": [
    "[Z.shape for Z in nnet.Zs]"
   ]
  },
  {
   "cell_type": "code",
   "execution_count": 18,
   "metadata": {
    "ExecuteTime": {
     "end_time": "2022-09-16T20:44:32.811612Z",
     "start_time": "2022-09-16T20:44:32.802921Z"
    }
   },
   "outputs": [
    {
     "data": {
      "text/plain": [
       "[array([[-0.31 , -0.106,  0.098],\n",
       "        [-0.298, -0.094,  0.11 ]]),\n",
       " array([[-0.21      , -0.00714286],\n",
       "        [-0.20428571, -0.00142857],\n",
       "        [-0.19857143,  0.00428571],\n",
       "        [-0.19285714,  0.01      ]]),\n",
       " array([[-6.66133815e-18],\n",
       "        [ 1.72409702e-03],\n",
       "        [ 3.91828943e-05]])]"
      ]
     },
     "execution_count": 18,
     "metadata": {},
     "output_type": "execute_result"
    }
   ],
   "source": [
    "nnet.Ws"
   ]
  },
  {
   "cell_type": "code",
   "execution_count": 19,
   "metadata": {
    "ExecuteTime": {
     "end_time": "2022-09-16T20:44:32.822303Z",
     "start_time": "2022-09-16T20:44:32.813047Z"
    }
   },
   "outputs": [
    {
     "data": {
      "text/plain": [
       "['Grads',\n",
       " 'T_means',\n",
       " 'T_stds',\n",
       " 'Ws',\n",
       " 'X_means',\n",
       " 'X_stds',\n",
       " 'Zs',\n",
       " '__class__',\n",
       " '__delattr__',\n",
       " '__dict__',\n",
       " '__dir__',\n",
       " '__doc__',\n",
       " '__eq__',\n",
       " '__format__',\n",
       " '__ge__',\n",
       " '__getattribute__',\n",
       " '__gt__',\n",
       " '__hash__',\n",
       " '__init__',\n",
       " '__init_subclass__',\n",
       " '__le__',\n",
       " '__lt__',\n",
       " '__module__',\n",
       " '__ne__',\n",
       " '__new__',\n",
       " '__reduce__',\n",
       " '__reduce_ex__',\n",
       " '__repr__',\n",
       " '__setattr__',\n",
       " '__sizeof__',\n",
       " '__str__',\n",
       " '__subclasshook__',\n",
       " '__weakref__',\n",
       " '_add_ones',\n",
       " '_forward',\n",
       " '_gradients',\n",
       " 'calc_rmse',\n",
       " 'learning_rate',\n",
       " 'n_epochs',\n",
       " 'n_hiddens_each_layer',\n",
       " 'n_inputs',\n",
       " 'n_outputs',\n",
       " 'rmse',\n",
       " 'rmse_trace',\n",
       " 'set_weights_for_testing',\n",
       " 'train',\n",
       " 'use']"
      ]
     },
     "execution_count": 19,
     "metadata": {},
     "output_type": "execute_result"
    }
   ],
   "source": [
    "dir(nnet)"
   ]
  },
  {
   "cell_type": "code",
   "execution_count": 20,
   "metadata": {
    "ExecuteTime": {
     "end_time": "2022-09-16T20:44:32.830904Z",
     "start_time": "2022-09-16T20:44:32.824324Z"
    }
   },
   "outputs": [],
   "source": [
    "def plot_data_and_model(nnet, X, T):\n",
    "    plt.clf()        \n",
    "    plt.subplot(2, 1, 1)\n",
    "    plt.plot(nnet.rmse_trace)\n",
    "    plt.xlabel('Epoch')\n",
    "    plt.ylabel('RMSE')\n",
    "\n",
    "    plt.subplot(2, 1, 2)\n",
    "    Y = nnet.use(X)\n",
    "\n",
    "    plt.plot(X, Y, 'o-', label='Y')\n",
    "    plt.plot(X, T, 'o', label='T', alpha=0.5)\n",
    "    plt.xlabel('X')\n",
    "    plt.ylabel('T or Y')\n",
    "    plt.legend();"
   ]
  },
  {
   "cell_type": "code",
   "execution_count": 21,
   "metadata": {
    "ExecuteTime": {
     "end_time": "2022-09-16T20:44:37.845831Z",
     "start_time": "2022-09-16T20:44:32.832764Z"
    },
    "scrolled": true
   },
   "outputs": [
    {
     "data": {
      "image/png": "[encoded data removed]",
      "text/plain": [
       "<Figure size 432x288 with 2 Axes>"
      ]
     },
     "metadata": {
      "needs_background": "light"
     },
     "output_type": "display_data"
    }
   ],
   "source": [
    "X = np.arange(0, 10).reshape(-1, 1)\n",
    "# X = np.arange(0, 0.5, 0.05).reshape(-1, 1)\n",
    "T = np.sin(X) + 0.01 * (X ** 2)\n",
    "\n",
    "n_inputs = X.shape[1]\n",
    "n_outputs = T.shape[1]\n",
    "\n",
    "nnet = NeuralNetwork(n_inputs, [10, 5], n_outputs)\n",
    "nnet.set_weights_for_testing()\n",
    "\n",
    "n_epochs = 5000\n",
    "n_epochs_per_plot = 500\n",
    "\n",
    "fig = plt.figure()\n",
    "for reps in range(n_epochs // n_epochs_per_plot):\n",
    "    plt.clf()\n",
    "    nnet.train(X, T, n_epochs=n_epochs_per_plot, learning_rate=0.1)\n",
    "    plot_data_and_model(nnet, X, T)\n",
    "    ipd.clear_output(wait=True)\n",
    "    ipd.display(fig)\n",
    "    time.sleep(0.2)  # 0.2 seconds\n",
    "ipd.clear_output(wait=True)"
   ]
  },
  {
   "cell_type": "code",
   "execution_count": 22,
   "metadata": {
    "ExecuteTime": {
     "end_time": "2022-09-16T20:45:20.067700Z",
     "start_time": "2022-09-16T20:44:37.847154Z"
    }
   },
   "outputs": [
    {
     "data": {
      "image/png": "[encoded data removed]",
      "text/plain": [
       "<Figure size 432x288 with 2 Axes>"
      ]
     },
     "metadata": {},
     "output_type": "display_data"
    },
    {
     "ename": "KeyboardInterrupt",
     "evalue": "",
     "output_type": "error",
     "traceback": [
      "\u001b[0;31m---------------------------------------------------------------------------\u001b[0m",
      "\u001b[0;31mKeyboardInterrupt\u001b[0m                         Traceback (most recent call last)",
      "Input \u001b[0;32mIn [22]\u001b[0m, in \u001b[0;36m<cell line: 14>\u001b[0;34m()\u001b[0m\n\u001b[1;32m     14\u001b[0m \u001b[38;5;28;01mfor\u001b[39;00m reps \u001b[38;5;129;01min\u001b[39;00m \u001b[38;5;28mrange\u001b[39m(n_epochs \u001b[38;5;241m/\u001b[39m\u001b[38;5;241m/\u001b[39m n_epochs_per_plot):\n\u001b[1;32m     15\u001b[0m     plt\u001b[38;5;241m.\u001b[39mclf()\n\u001b[0;32m---> 16\u001b[0m     \u001b[43mnnet\u001b[49m\u001b[38;5;241;43m.\u001b[39;49m\u001b[43mtrain\u001b[49m\u001b[43m(\u001b[49m\u001b[43mX\u001b[49m\u001b[43m,\u001b[49m\u001b[43m \u001b[49m\u001b[43mT\u001b[49m\u001b[43m,\u001b[49m\u001b[43m \u001b[49m\u001b[43mn_epochs\u001b[49m\u001b[38;5;241;43m=\u001b[39;49m\u001b[43mn_epochs_per_plot\u001b[49m\u001b[43m,\u001b[49m\u001b[43m \u001b[49m\u001b[43mlearning_rate\u001b[49m\u001b[38;5;241;43m=\u001b[39;49m\u001b[38;5;241;43m0.1\u001b[39;49m\u001b[43m)\u001b[49m\n\u001b[1;32m     17\u001b[0m     plot_data_and_model(nnet, X, T)\n\u001b[1;32m     18\u001b[0m     ipd\u001b[38;5;241m.\u001b[39mclear_output(wait\u001b[38;5;241m=\u001b[39m\u001b[38;5;28;01mTrue\u001b[39;00m)\n",
      "Input \u001b[0;32mIn [2]\u001b[0m, in \u001b[0;36mNeuralNetwork.train\u001b[0;34m(self, X, T, n_epochs, learning_rate)\u001b[0m\n\u001b[1;32m    101\u001b[0m rho \u001b[38;5;241m=\u001b[39m \u001b[38;5;28mself\u001b[39m\u001b[38;5;241m.\u001b[39mlearning_rate \u001b[38;5;241m/\u001b[39m (n_samples \u001b[38;5;241m*\u001b[39m n_outputs)\n\u001b[1;32m    103\u001b[0m \u001b[38;5;28;01mfor\u001b[39;00m epoch \u001b[38;5;129;01min\u001b[39;00m \u001b[38;5;28mrange\u001b[39m(\u001b[38;5;28mself\u001b[39m\u001b[38;5;241m.\u001b[39mn_epochs):\n\u001b[0;32m--> 105\u001b[0m     \u001b[38;5;28mself\u001b[39m\u001b[38;5;241m.\u001b[39mZs \u001b[38;5;241m=\u001b[39m \u001b[38;5;28;43mself\u001b[39;49m\u001b[38;5;241;43m.\u001b[39;49m\u001b[43m_forward\u001b[49m\u001b[43m(\u001b[49m\u001b[43mXtrain\u001b[49m\u001b[43m)\u001b[49m\n\u001b[1;32m    106\u001b[0m     \u001b[38;5;28mself\u001b[39m\u001b[38;5;241m.\u001b[39mGrads \u001b[38;5;241m=\u001b[39m \u001b[38;5;28mself\u001b[39m\u001b[38;5;241m.\u001b[39m_gradients(Xtrain,Ttrain)\n\u001b[1;32m    109\u001b[0m    \u001b[38;5;66;03m# for i in range(len(self.n_hiddens_each_layer) + 1):\u001b[39;00m\n\u001b[1;32m    110\u001b[0m      \u001b[38;5;66;03m#   self.Ws[i] = self.Ws[i] - rho * self.gradients[i]\u001b[39;00m\n",
      "Input \u001b[0;32mIn [2]\u001b[0m, in \u001b[0;36mNeuralNetwork._forward\u001b[0;34m(self, X)\u001b[0m\n\u001b[1;32m     60\u001b[0m \u001b[38;5;28;01mfor\u001b[39;00m i \u001b[38;5;129;01min\u001b[39;00m \u001b[38;5;28mrange\u001b[39m(\u001b[38;5;28mlen\u001b[39m(\u001b[38;5;28mself\u001b[39m\u001b[38;5;241m.\u001b[39mn_hiddens_each_layer)):\n\u001b[1;32m     61\u001b[0m     W \u001b[38;5;241m=\u001b[39m \u001b[38;5;28mself\u001b[39m\u001b[38;5;241m.\u001b[39m_add_ones(Z[\u001b[38;5;241m-\u001b[39m\u001b[38;5;241m1\u001b[39m])\n\u001b[0;32m---> 62\u001b[0m     Z\u001b[38;5;241m.\u001b[39mappend(\u001b[43mnp\u001b[49m\u001b[38;5;241;43m.\u001b[39;49m\u001b[43mtanh\u001b[49m\u001b[43m(\u001b[49m\u001b[43mW\u001b[49m\u001b[43m \u001b[49m\u001b[38;5;241;43m@\u001b[39;49m\u001b[43m \u001b[49m\u001b[38;5;28;43mself\u001b[39;49m\u001b[38;5;241;43m.\u001b[39;49m\u001b[43mWs\u001b[49m\u001b[43m[\u001b[49m\u001b[43mi\u001b[49m\u001b[43m]\u001b[49m\u001b[43m)\u001b[49m)\n\u001b[1;32m     64\u001b[0m Y \u001b[38;5;241m=\u001b[39m \u001b[38;5;28mself\u001b[39m\u001b[38;5;241m.\u001b[39m_add_ones(Z[\u001b[38;5;241m-\u001b[39m\u001b[38;5;241m1\u001b[39m])\n\u001b[1;32m     65\u001b[0m Z\u001b[38;5;241m.\u001b[39mappend(Y \u001b[38;5;241m@\u001b[39m \u001b[38;5;28mself\u001b[39m\u001b[38;5;241m.\u001b[39mWs[\u001b[38;5;241m-\u001b[39m\u001b[38;5;241m1\u001b[39m])\n",
      "\u001b[0;31mKeyboardInterrupt\u001b[0m: "
     ]
    },
    {
     "data": {
      "text/plain": [
       "<Figure size 432x288 with 0 Axes>"
      ]
     },
     "metadata": {},
     "output_type": "display_data"
    }
   ],
   "source": [
    "X = np.arange(-2, 2, 0.05).reshape(-1, 1)\n",
    "T = np.sin(X) * np.sin(X * 10)\n",
    "\n",
    "n_inputs = X.shape[1]\n",
    "n_outputs = T.shape[1]\n",
    "\n",
    "nnet = NeuralNetwork(n_inputs, [50, 10, 5], n_outputs)\n",
    "nnet.set_weights_for_testing()\n",
    "\n",
    "n_epochs = 50000\n",
    "n_epochs_per_plot = 500\n",
    "\n",
    "fig = plt.figure()\n",
    "for reps in range(n_epochs // n_epochs_per_plot):\n",
    "    plt.clf()\n",
    "    nnet.train(X, T, n_epochs=n_epochs_per_plot, learning_rate=0.1)\n",
    "    plot_data_and_model(nnet, X, T)\n",
    "    ipd.clear_output(wait=True)\n",
    "    ipd.display(fig)\n",
    "    # time.sleep(0.01)  # 0.01 seconds\n",
    "ipd.clear_output(wait=True)"
   ]
  },
  {
   "cell_type": "markdown",
   "metadata": {},
   "source": [
    "Your results will not be the same, but your code should complete and make plots somewhat similar to these."
   ]
  },
  {
   "cell_type": "markdown",
   "metadata": {},
   "source": [
    "## Application to Boston Housing Data"
   ]
  },
  {
   "cell_type": "markdown",
   "metadata": {},
   "source": [
    "Download data from [Boston House Data at Kaggle](https://www.kaggle.com/fedesoriano/the-boston-houseprice-data). Read it into python using the `pandas.read_csv` function.  Assign the first 13 columns as inputs to `X` and the final column as target values to `T`.  Make sure `T` is two-dimensional."
   ]
  },
  {
   "cell_type": "markdown",
   "metadata": {},
   "source": [
    "Before training your neural networks, partition the data into training and testing partitions, as shown here."
   ]
  },
  {
   "cell_type": "code",
   "execution_count": null,
   "metadata": {},
   "outputs": [],
   "source": [
    "import numpy as np\n",
    "import matplotlib.pyplot as plt\n",
    "%matplotlib inline"
   ]
  },
  {
   "cell_type": "code",
   "execution_count": null,
   "metadata": {},
   "outputs": [],
   "source": [
    "import pandas as pd\n",
    "data = pd.read_csv('boston.csv',usecols=range(14), na_values=None)"
   ]
  },
  {
   "cell_type": "code",
   "execution_count": null,
   "metadata": {},
   "outputs": [],
   "source": [
    "data.head()"
   ]
  },
  {
   "cell_type": "code",
   "execution_count": null,
   "metadata": {},
   "outputs": [],
   "source": [
    "X_data = pd.read_csv('boston.csv', usecols=range(13))\n",
    "T_data = data['MEDV']\n",
    "X = np.asarray(X_data)\n",
    "T = np.asarray(T_data).reshape(-1,1)\n",
    "X.shape,T.shape"
   ]
  },
  {
   "cell_type": "code",
   "execution_count": null,
   "metadata": {
    "ExecuteTime": {
     "end_time": "2022-09-16T20:45:20.073781Z",
     "start_time": "2022-09-16T20:45:20.070445Z"
    }
   },
   "outputs": [],
   "source": [
    "def partition(X, T, train_fraction):\n",
    "    n_samples = X.shape[0]\n",
    "    rows = np.arange(n_samples)\n",
    "    np.random.shuffle(rows)\n",
    "\n",
    "    n_train = round(n_samples * train_fraction)\n",
    "\n",
    "    Xtrain = X[rows[:n_train], :]\n",
    "    Ttrain = T[rows[:n_train], :]\n",
    "    Xtest = X[rows[n_train:], :]\n",
    "    Ttest = T[rows[n_train:], :]\n",
    "\n",
    "    return Xtrain, Ttrain, Xtest, Ttest"
   ]
  },
  {
   "cell_type": "code",
   "execution_count": null,
   "metadata": {
    "ExecuteTime": {
     "end_time": "2022-09-16T20:45:20.085103Z",
     "start_time": "2022-09-16T20:45:20.075401Z"
    }
   },
   "outputs": [],
   "source": [
    "np.hstack((X, T))  # np.hstack just to print X and T together in one array"
   ]
  },
  {
   "cell_type": "code",
   "execution_count": null,
   "metadata": {
    "ExecuteTime": {
     "end_time": "2022-09-16T20:45:20.093265Z",
     "start_time": "2022-09-16T20:45:20.086429Z"
    }
   },
   "outputs": [],
   "source": [
    "Xtrain, Ttrain, Xtest, Ttest = partition(X, T, 0.8)  "
   ]
  },
  {
   "cell_type": "code",
   "execution_count": null,
   "metadata": {
    "ExecuteTime": {
     "end_time": "2022-09-16T20:45:20.103523Z",
     "start_time": "2022-09-16T20:45:20.094528Z"
    }
   },
   "outputs": [],
   "source": [
    "np.hstack((Xtrain, Ttrain))"
   ]
  },
  {
   "cell_type": "code",
   "execution_count": null,
   "metadata": {
    "ExecuteTime": {
     "end_time": "2022-09-16T20:45:20.113395Z",
     "start_time": "2022-09-16T20:45:20.104729Z"
    }
   },
   "outputs": [],
   "source": [
    "np.hstack((Xtest, Ttest))"
   ]
  },
  {
   "cell_type": "markdown",
   "metadata": {},
   "source": [
    "Write and run code using your `NeuralNetwork` class to model the Boston housing data. Experiment with a variety of neural network structures (numbers of hidden layer and units) including no hidden layers, learning rates, and numbers of epochs. Show results for at least three different network structures, learning rates, and numbers of epochs for a total of at least 27 results.  Show your results in a `pandas` DataFrame with columns `('Structure', 'Epochs', 'Learning Rate', 'Train RMSE', 'Test RMSE')`.\n",
    "\n",
    "Try to find good values for the RMSE on testing data.  Discuss your results, including how good you think the RMSE values are by considering the range of house values given in the data. "
   ]
  },
  {
   "cell_type": "code",
   "execution_count": null,
   "metadata": {},
   "outputs": [],
   "source": [
    "import warnings\n",
    "warnings.filterwarnings('ignore')\n",
    "n_inputs = Xtrain.shape[1]\n",
    "n_outputs = Ttrain.shape[1]\n",
    "rmses= []\n",
    "df = pd.DataFrame(columns = ['Epochs', 'Learning Rate', 'Rmse'])\n",
    "learning_rate = [0.1,0.01,0.001]\n",
    "n_epochs= [20, 100, 1000]\n",
    "n_nnet = [[50,20,10,3], [10,5,3], []]\n",
    "\n",
    "nnets = []\n",
    "Ys = []\n",
    "\n",
    "for hidden_layers in n_nnet:\n",
    "        for epochs in n_epochs:\n",
    "            for rho in learning_rate:\n",
    "                nnet = NeuralNetwork(n_inputs, hidden_layers, n_outputs)\n",
    "                nnet.train(Xtrain, Ttrain, n_epochs=epochs, learning_rate=rho)\n",
    "                Y = nnet.use(Xtest)\n",
    "                Train_RMSE = np.sqrt(np.mean((Ttest - Y)**2))\n",
    "                rmses.append([Train_RMSE])\n",
    "                nnets.append(nnet)\n",
    "                Ys.append(Y)\n",
    "               # print(f'nnet arch: {nnet_num}, nepochs: {epochs}, rho: {rho} and RMSE is {Train_RMSE}')\n",
    "                df = df.append({'Epochs' : int(epochs), 'Learning Rate' : rho, 'Rmse' : Train_RMSE},ignore_index = True)\n",
    "                \n",
    "df"
   ]
  },
  {
   "cell_type": "code",
   "execution_count": null,
   "metadata": {},
   "outputs": [],
   "source": [
    "rmses"
   ]
  },
  {
   "cell_type": "code",
   "execution_count": null,
   "metadata": {},
   "outputs": [],
   "source": [
    "def plot_model(rmses, Ttest, Y):\n",
    "    fig = plt.figure(figsize=(10, 3))\n",
    "    plt.subplot(1, 2, 1)\n",
    "    plt.plot(rmses)\n",
    "    plt.xlabel('Epoch')\n",
    "    plt.ylabel('RMSE')\n",
    "\n",
    "    plt.subplot(1, 2, 2)\n",
    "    plt.plot(Ttest, Y, '.')\n",
    "    plt.ylabel('Predicted')\n",
    "    plt.xlabel('Actual')\n",
    "    plt.plot(np.arange(0, 50), np.arange(0, 50), color='r')"
   ]
  },
  {
   "cell_type": "code",
   "execution_count": null,
   "metadata": {
    "scrolled": true
   },
   "outputs": [],
   "source": [
    "rmses = np.array(rmses)\n",
    "min_val = rmses.min() \n",
    "min_idxs = np.where(rmses == np.min(rmses))\n",
    "index = int(min_idxs[0])\n",
    "\n",
    "model = nnets[index]\n",
    "output = Ys[index]\n",
    "plot_model(model.rmse_trace, Ttest, output)\n",
    "print(\"Best Model: {}\".format(model))\n",
    "print(\"Least RMSE on test data: {}\".format(np.round(np.min(rmses), 4)))"
   ]
  },
  {
   "cell_type": "code",
   "execution_count": null,
   "metadata": {},
   "outputs": [],
   "source": [
    "np.max(rmses)"
   ]
  },
  {
   "cell_type": "markdown",
   "metadata": {},
   "source": [
    "* Observation:\n",
    "- The least value of Rmse ~ 3.57, the model sepcification are \"NeuralNetwork(13, [10, 5, 3], 1), trained for 1000 epochs with a final RMSE of 3.8032856158633406 Least RMSE on test data: 3.57\". This makes me think that we should probably attempt training the same model for further epochs or expand the network's layers or nodes."
   ]
  },
  {
   "cell_type": "code",
   "execution_count": null,
   "metadata": {},
   "outputs": [],
   "source": [
    "rmses = np.array(rmses)\n",
    "max_idxs = np.where(rmses == np.max(rmses))\n",
    "index = int(max_idxs[0])\n",
    "\n",
    "model = nnets[index]\n",
    "output = Ys[index]\n",
    "plot_model(model.rmse_trace, Ttest, output)\n",
    "print(\"Worst Model: {}\".format(model))\n",
    "print(\"Highest RMSE on test data: {}\".format(np.round(np.max(rmses), 4)))"
   ]
  },
  {
   "cell_type": "markdown",
   "metadata": {},
   "source": [
    "* Observation:\n",
    "- The Highest value of Rmse ~ 3.57, the model sepcification are, \"NeuralNetwork(13, [10, 5, 3], 1), trained for 1000 epochs with a final RMSE of 9.49788156068271 Highest RMSE on test data: 7.836\". As that model has many hidden layers, but too low a learning rate and epochs to actually fit the pattern quickly. So the rmses of this model is highest."
   ]
  },
  {
   "cell_type": "code",
   "execution_count": null,
   "metadata": {},
   "outputs": [],
   "source": [
    "n_inputs = Xtrain.shape[1]\n",
    "n_outputs = Ttrain.shape[1]\n",
    "hidden_layers = [10, 5, 3]\n",
    "epochs = 100000\n",
    "rho = 0.1\n",
    "nnet = NeuralNetwork(n_inputs, hidden_layers, n_outputs)\n",
    "nnet.train(Xtrain, Ttrain, n_epochs=epochs, learning_rate=rho)\n",
    "rmses = np.array(nnet.rmse_trace)\n",
    "np.min(rmses)"
   ]
  },
  {
   "cell_type": "markdown",
   "metadata": {},
   "source": [
    "As Observed, if we increases the epochs from 1000 to 100000, the the rmses is reducing to ~1.145 for the hidden layers= [10, 5, 3] and learning rate = = 0.1."
   ]
  },
  {
   "cell_type": "markdown",
   "metadata": {},
   "source": [
    "--------------------"
   ]
  },
  {
   "cell_type": "markdown",
   "metadata": {},
   "source": [
    "# Grading\n",
    "\n",
    "Your notebook will be run and graded automatically. Test this grading process by first downloading [A2grader.tar](http://www.cs.colostate.edu/~anderson/cs545/notebooks/A2grader.tar) and extract `A2grader.py` from it. Run the code in the following cell to demonstrate an example grading session.  The remaining 20 points will be based on your discussion of this assignment.\n",
    "\n",
    "A different, but similar, grading script will be used to grade your checked-in notebook. It will include additional tests. You should design and perform additional tests on all of your functions to be sure they run correctly before checking in your notebook.  \n",
    "\n",
    "For the grading script to run correctly, you must first name this notebook as `Lastname-A2.ipynb` with `Lastname` being your last name, and then save this notebook."
   ]
  },
  {
   "cell_type": "code",
   "execution_count": null,
   "metadata": {
    "ExecuteTime": {
     "end_time": "2022-09-16T21:17:11.112089Z",
     "start_time": "2022-09-16T21:17:08.965640Z"
    }
   },
   "outputs": [],
   "source": [
    "%run -i A2grader.py"
   ]
  },
  {
   "cell_type": "markdown",
   "metadata": {},
   "source": [
    "# Extra Credit\n",
    "\n",
    "Apply your multilayer neural network code to a regression problem using data that you choose \n",
    "from the [UCI Machine Learning Repository](http://archive.ics.uci.edu/ml/datasets.php). Pick a dataset that\n",
    "is listed as being appropriate for regression."
   ]
  }
 ],
 "metadata": {
  "kernelspec": {
   "display_name": "Python 3 (ipykernel)",
   "language": "python",
   "name": "python3"
  },
  "language_info": {
   "codemirror_mode": {
    "name": "ipython",
    "version": 3
   },
   "file_extension": ".py",
   "mimetype": "text/x-python",
   "name": "python",
   "nbconvert_exporter": "python",
   "pygments_lexer": "ipython3",
   "version": "3.9.12"
  },
  "toc": {
   "base_numbering": 1,
   "nav_menu": {},
   "number_sections": false,
   "sideBar": true,
   "skip_h1_title": true,
   "title_cell": "Table of Contents",
   "title_sidebar": "Contents",
   "toc_cell": true,
   "toc_position": {
    "height": "calc(100% - 180px)",
    "left": "10px",
    "top": "150px",
    "width": "512px"
   },
   "toc_section_display": true,
   "toc_window_display": false
  }
 },
 "nbformat": 4,
 "nbformat_minor": 4
}
