{
 "cells": [
  {
   "cell_type": "markdown",
   "metadata": {},
   "source": [
    "# A2: NeuralNetwork Class"
   ]
  },
  {
   "cell_type": "markdown",
   "metadata": {
    "toc": true
   },
   "source": [
    "<h1>Table of Contents<span class=\"tocSkip\"></span></h1>\n",
    "<div class=\"toc\"><ul class=\"toc-item\"><li><span><a href=\"#Requirements\" data-toc-modified-id=\"Requirements-1\">Requirements</a></span></li><li><span><a href=\"#Code-for-NeuralNetwork-Class\" data-toc-modified-id=\"Code-for-NeuralNetwork-Class-2\">Code for <code>NeuralNetwork</code> Class</a></span></li><li><span><a href=\"#Example-Results\" data-toc-modified-id=\"Example-Results-3\">Example Results</a></span></li><li><span><a href=\"#Application-to-Boston-Housing-Data\" data-toc-modified-id=\"Application-to-Boston-Housing-Data-4\">Application to Boston Housing Data</a></span></li></ul></div>"
   ]
  },
  {
   "cell_type": "markdown",
   "metadata": {},
   "source": [
    "## Requirements"
   ]
  },
  {
   "cell_type": "markdown",
   "metadata": {},
   "source": [
    "In this assignment, you will complete the implementation of the `NeuralNetwork` class, starting with the code included in the `04b` lecture notes.  Your implementation must \n",
    "\n",
    "1. Allow any number of hidden layers, including no hidden layers specified by an empty list as `[]`. <font color='red'>Don't forget this case.</font>\n",
    "2. Define `_forward(self, X)` and `_gradients(self, X, T` functions. `_forward` must return the output of the network, `Y`, in standardized form and create `self.Zs` as a list consisting of the input `X` and the outputs of all hidden layers. `_gradients` must return the gradients of the mean square error with respect to the weights in each layer. \n",
    "2. Your `train` function must standardize `X` and `T` and save the standardization parameters (means and stds) in member variables. It must append to `self.rmse_trace` the RMSE value for each epoch.  Initialize this list to be `[]` in the constructor to allow multiple calls to `train` to continue to append to the same `rmse_trace` list.\n",
    "2. Your `use` function must standardize `X` and unstandardize the output.\n",
    "\n",
    "See the following examples for more details.\n",
    "\n",
    "Then apply your `NeuralNetwork` class to the problem of predicting the value of houses in Boston as described below."
   ]
  },
  {
   "cell_type": "markdown",
   "metadata": {},
   "source": [
    "## Code for `NeuralNetwork` Class"
   ]
  },
  {
   "cell_type": "code",
   "execution_count": 1,
   "metadata": {
    "ExecuteTime": {
     "end_time": "2022-09-16T20:44:32.564986Z",
     "start_time": "2022-09-16T20:44:32.561771Z"
    }
   },
   "outputs": [],
   "source": [
    "import numpy as np\n",
    "import matplotlib.pyplot as plt\n",
    "%matplotlib inline\n",
    "import IPython.display as ipd  # for display and clear_output\n",
    "import time"
   ]
  },
  {
   "cell_type": "code",
   "execution_count": 2,
   "metadata": {
    "ExecuteTime": {
     "end_time": "2022-09-16T20:44:32.574691Z",
     "start_time": "2022-09-16T20:44:32.566777Z"
    }
   },
   "outputs": [],
   "source": [
    "# insert your NeuralNetwork class definition here.\n",
    "class NeuralNetwork:\n",
    "    \n",
    "    def __init__(self, n_inputs, n_hiddens_each_layer, n_outputs):\n",
    "\n",
    "        # Initialize member variables\n",
    "        self.n_inputs = n_inputs\n",
    "        self.n_hiddens_each_layer = n_hiddens_each_layer\n",
    "        self.n_outputs = n_outputs\n",
    "        \n",
    "        self.n_epochs = None\n",
    "        self.learning_rate = None\n",
    "        self.rmse = None\n",
    "        self.rmse_trace = []\n",
    "        self.Zs = []\n",
    "        \n",
    "        # Create Weight matrix for the neural network\n",
    "        self.Ws = []\n",
    "        \n",
    "        # Init hidden layer weights\n",
    "        ni = self.n_inputs\n",
    "        for layer in range(len(self.n_hiddens_each_layer)):\n",
    "            nh = self.n_hiddens_each_layer[layer]\n",
    "            self.Ws.append(np.random.uniform(-1, 1, size=(1 + ni, nh)) / np.sqrt(1 + ni))\n",
    "            ni = nh\n",
    "        \n",
    "        # Init output layer weights\n",
    "        # self.Ws.append(np.random.uniform(-1, 1, size=(1 + ni, self.n_outputs)) / np.sqrt(1 + ni))\n",
    "        self.Ws.append(np.random.uniform(0, 1, size=(1 + ni, self.n_outputs)) * 0)\n",
    "            \n",
    "    def __repr__(self):\n",
    "        return 'NeuralNetwork({}, {}, {})'.format(self.n_inputs, self.n_hiddens_each_layer, self.n_outputs)    \n",
    "\n",
    "    def __str__(self):\n",
    "        return self.__repr__() + ', trained for {} epochs at {} LR with a final RMSE of {}'.format(self.n_epochs, self.learning_rate, self.rmse)        \n",
    "\n",
    "    def _add_ones(self, A):\n",
    "        return np.insert(A, 0, 1, axis=1)\n",
    "    \n",
    "    def _rmse(self, T, Y):\n",
    "        error = (T - Y) * self.T_stds \n",
    "        return np.sqrt(np.mean(error ** 2))\n",
    "        \n",
    "    def _forward(self, X):\n",
    "        Z = [X]\n",
    "\n",
    "        # Hidden layers\n",
    "        for i in range(len(self.n_hiddens_each_layer)):\n",
    "            Xi = self._add_ones(Z[-1])\n",
    "            Z.append(np.tanh(Xi @ self.Ws[i]))\n",
    "        \n",
    "        # Output layer\n",
    "        Xi = self._add_ones(Z[-1])\n",
    "        Z.append(Xi @ self.Ws[-1])\n",
    "        \n",
    "        return Z\n",
    "    \n",
    "    def _gradients(self, X, T):\n",
    "        grad = []\n",
    "\n",
    "        # Output layer\n",
    "        delta = T - self.Zs[-1]\n",
    "        grad.append(- self._add_ones(self.Zs[-2]).T @ delta)\n",
    "        \n",
    "        # Hidden layers\n",
    "        for i in reversed(range(len(self.n_hiddens_each_layer))):\n",
    "            delta = delta @ (self.Ws[i+1][1:, :]).T * (1 - self.Zs[i+1]**2)\n",
    "            grad.append(- self._add_ones(self.Zs[i]).T @ delta)\n",
    "            \n",
    "        grad.reverse()\n",
    "        return grad\n",
    "    \n",
    "    def train(self, X, T, n_epochs, learning_rate):\n",
    "        self.n_epochs = n_epochs\n",
    "        self.learning_rate = learning_rate\n",
    "\n",
    "        # Standardise X\n",
    "        self.X_means = np.mean(X, axis=0)\n",
    "        self.X_stds = np.std(X, axis=0)\n",
    "        Xtrain_st = (X - self.X_means) / self.X_stds\n",
    "        \n",
    "        # Standardise T    \n",
    "        self.T_means = np.mean(T, axis=0)\n",
    "        self.T_stds = np.std(T, axis=0)\n",
    "        Ttrain_st = (T - self.T_means) / self.T_stds\n",
    "        \n",
    "        # minimize learning rate\n",
    "        learning_rate = learning_rate / (X.shape[0] * T.shape[1])\n",
    "        # if learning_rate >= 0.1:\n",
    "        #     learning_rate = learning_rate / (X.shape[0] * T.shape[1])\n",
    "        #     # learning_rate = learning_rate / X.shape[0]\n",
    "        \n",
    "        # Iterate for n_epochs\n",
    "        for epoch in range(self.n_epochs):\n",
    "\n",
    "            # Forward pass\n",
    "            self.Zs = self._forward(Xtrain_st)\n",
    "            \n",
    "            # Backward pass\n",
    "            self.gradients = self._gradients(Xtrain_st, Ttrain_st)\n",
    "            \n",
    "            # Gradient Descent\n",
    "            for i in range(len(self.n_hiddens_each_layer) + 1):\n",
    "                self.Ws[i] = self.Ws[i] - learning_rate * self.gradients[i]\n",
    "\n",
    "            # Calculate RMSE\n",
    "            Y = self._forward(Xtrain_st)[-1]\n",
    "            self.rmse = self._rmse(Ttrain_st, Y)\n",
    "            self.rmse_trace.append(self.rmse)\n",
    "        \n",
    "        # print(\"Finished training.\")\n",
    "    \n",
    "    def use(self, X):\n",
    "        # standardise X\n",
    "        Xtest_st = (X - self.X_means) / self.X_stds\n",
    "        # predict using model and weights provided\n",
    "        Y = self._forward(Xtest_st)[-1]        \n",
    "        # unstandardise output\n",
    "        Y = Y * self.T_stds + self.T_means\n",
    "\n",
    "        return Y\n",
    "\n",
    "    def set_weights_for_testing(self):\n",
    "        for W in self.Ws[:-1]:   # leave output layer weights at zero\n",
    "            n_weights = W.shape[0] * W.shape[1]\n",
    "            W[:] = np.linspace(-0.01, 0.01, n_weights).reshape(W.shape)\n",
    "            for u in range(W.shape[1]):\n",
    "                W[:, u] += (u - W.shape[1]/2) * 0.2\n",
    "        # Set output layer weights to zero\n",
    "        self.Ws[-1][:] = 0\n",
    "        print('Weights set for testing by calling set_weights_for_testing()')"
   ]
  },
  {
   "cell_type": "markdown",
   "metadata": {},
   "source": [
    "In this next code cell, I add a new method to your class that replaces the weights created in your constructor with non-random values to allow you to compare your results with mine, and to allow our grading scripts to work well."
   ]
  },
  {
   "cell_type": "code",
   "execution_count": 3,
   "metadata": {
    "ExecuteTime": {
     "end_time": "2022-09-16T20:44:32.594067Z",
     "start_time": "2022-09-16T20:44:32.590678Z"
    }
   },
   "outputs": [],
   "source": [
    "def set_weights_for_testing(self):\n",
    "    for W in self.Ws[:-1]:   # leave output layer weights at zero\n",
    "        n_weights = W.shape[0] * W.shape[1]\n",
    "        W[:] = np.linspace(-0.01, 0.01, n_weights).reshape(W.shape)\n",
    "        for u in range(W.shape[1]):\n",
    "            W[:, u] += (u - W.shape[1]/2) * 0.2\n",
    "    # Set output layer weights to zero\n",
    "    self.Ws[-1][:] = 0\n",
    "    print('Weights set for testing by calling set_weights_for_testing()')\n",
    "\n",
    "setattr(NeuralNetwork, 'set_weights_for_testing', set_weights_for_testing)"
   ]
  },
  {
   "cell_type": "markdown",
   "metadata": {
    "tags": []
   },
   "source": [
    "## Example Results"
   ]
  },
  {
   "cell_type": "markdown",
   "metadata": {},
   "source": [
    "Here we test the `NeuralNetwork` class with some simple data.  \n"
   ]
  },
  {
   "cell_type": "code",
   "execution_count": 4,
   "metadata": {
    "ExecuteTime": {
     "end_time": "2022-09-16T20:44:32.604006Z",
     "start_time": "2022-09-16T20:44:32.595320Z"
    }
   },
   "outputs": [
    {
     "data": {
      "text/plain": [
       "(array([[0],\n",
       "        [1],\n",
       "        [2],\n",
       "        [3],\n",
       "        [4],\n",
       "        [5],\n",
       "        [6],\n",
       "        [7],\n",
       "        [8],\n",
       "        [9]]),\n",
       " array([[ 0.        ],\n",
       "        [ 0.85147098],\n",
       "        [ 0.94929743],\n",
       "        [ 0.23112001],\n",
       "        [-0.5968025 ],\n",
       "        [-0.70892427],\n",
       "        [ 0.0805845 ],\n",
       "        [ 1.1469866 ],\n",
       "        [ 1.62935825],\n",
       "        [ 1.22211849]]))"
      ]
     },
     "execution_count": 4,
     "metadata": {},
     "output_type": "execute_result"
    }
   ],
   "source": [
    "X = np.arange(0, 10).reshape(-1, 1)\n",
    "T = np.sin(X) + 0.01 * (X ** 2)\n",
    "X, T"
   ]
  },
  {
   "cell_type": "code",
   "execution_count": 5,
   "metadata": {
    "ExecuteTime": {
     "end_time": "2022-09-16T20:44:32.692241Z",
     "start_time": "2022-09-16T20:44:32.605307Z"
    }
   },
   "outputs": [
    {
     "data": {
      "text/plain": [
       "[<matplotlib.lines.Line2D at 0x7fbbfee90460>]"
      ]
     },
     "execution_count": 5,
     "metadata": {},
     "output_type": "execute_result"
    },
    {
     "data": {
      "image/png": "[encoded data removed]",
      "text/plain": [
       "<Figure size 432x288 with 1 Axes>"
      ]
     },
     "metadata": {
      "needs_background": "light"
     },
     "output_type": "display_data"
    }
   ],
   "source": [
    "plt.plot(X, T, '.-')"
   ]
  },
  {
   "cell_type": "code",
   "execution_count": 6,
   "metadata": {
    "ExecuteTime": {
     "end_time": "2022-09-16T20:44:32.697052Z",
     "start_time": "2022-09-16T20:44:32.693526Z"
    }
   },
   "outputs": [
    {
     "data": {
      "text/plain": [
       "NeuralNetwork(1, [3, 2], 1)"
      ]
     },
     "execution_count": 6,
     "metadata": {},
     "output_type": "execute_result"
    }
   ],
   "source": [
    "n_inputs = X.shape[1]\n",
    "n_outputs = T.shape[1]\n",
    "\n",
    "nnet = NeuralNetwork(n_inputs, [3, 2], n_outputs)\n",
    "nnet"
   ]
  },
  {
   "cell_type": "code",
   "execution_count": 7,
   "metadata": {
    "ExecuteTime": {
     "end_time": "2022-09-16T20:44:32.705672Z",
     "start_time": "2022-09-16T20:44:32.698197Z"
    }
   },
   "outputs": [
    {
     "data": {
      "text/plain": [
       "(1, [3, 2], 1)"
      ]
     },
     "execution_count": 7,
     "metadata": {},
     "output_type": "execute_result"
    }
   ],
   "source": [
    "nnet.n_inputs, nnet.n_hiddens_each_layer, nnet.n_outputs"
   ]
  },
  {
   "cell_type": "code",
   "execution_count": 8,
   "metadata": {
    "ExecuteTime": {
     "end_time": "2022-09-16T20:44:32.714071Z",
     "start_time": "2022-09-16T20:44:32.708215Z"
    }
   },
   "outputs": [
    {
     "data": {
      "text/plain": [
       "[]"
      ]
     },
     "execution_count": 8,
     "metadata": {},
     "output_type": "execute_result"
    }
   ],
   "source": [
    "nnet.rmse_trace"
   ]
  },
  {
   "cell_type": "code",
   "execution_count": 9,
   "metadata": {
    "ExecuteTime": {
     "end_time": "2022-09-16T20:44:32.723578Z",
     "start_time": "2022-09-16T20:44:32.715275Z"
    }
   },
   "outputs": [
    {
     "data": {
      "text/plain": [
       "[array([[-0.22755138,  0.01212823,  0.55029039],\n",
       "        [-0.43621935, -0.26067365,  0.18898307]]),\n",
       " array([[-0.16642842,  0.03563034],\n",
       "        [ 0.48412122,  0.39294086],\n",
       "        [-0.29956912,  0.44659785],\n",
       "        [-0.41127459,  0.39870399]]),\n",
       " array([[0.],\n",
       "        [0.],\n",
       "        [0.]])]"
      ]
     },
     "execution_count": 9,
     "metadata": {},
     "output_type": "execute_result"
    }
   ],
   "source": [
    "nnet.Ws"
   ]
  },
  {
   "cell_type": "code",
   "execution_count": 10,
   "metadata": {
    "ExecuteTime": {
     "end_time": "2022-09-16T20:44:32.732243Z",
     "start_time": "2022-09-16T20:44:32.724790Z"
    }
   },
   "outputs": [
    {
     "name": "stdout",
     "output_type": "stream",
     "text": [
      "Weights set for testing by calling set_weights_for_testing()\n"
     ]
    }
   ],
   "source": [
    "nnet.set_weights_for_testing()"
   ]
  },
  {
   "cell_type": "code",
   "execution_count": 11,
   "metadata": {
    "ExecuteTime": {
     "end_time": "2022-09-16T20:44:32.741699Z",
     "start_time": "2022-09-16T20:44:32.733644Z"
    }
   },
   "outputs": [
    {
     "data": {
      "text/plain": [
       "[array([[-0.31 , -0.106,  0.098],\n",
       "        [-0.298, -0.094,  0.11 ]]),\n",
       " array([[-0.21      , -0.00714286],\n",
       "        [-0.20428571, -0.00142857],\n",
       "        [-0.19857143,  0.00428571],\n",
       "        [-0.19285714,  0.01      ]]),\n",
       " array([[0.],\n",
       "        [0.],\n",
       "        [0.]])]"
      ]
     },
     "execution_count": 11,
     "metadata": {},
     "output_type": "execute_result"
    }
   ],
   "source": [
    "nnet.Ws"
   ]
  },
  {
   "cell_type": "code",
   "execution_count": 12,
   "metadata": {
    "ExecuteTime": {
     "end_time": "2022-09-16T20:44:32.750374Z",
     "start_time": "2022-09-16T20:44:32.742984Z"
    }
   },
   "outputs": [],
   "source": [
    "nnet.train(X, T, n_epochs=1, learning_rate=0.1)"
   ]
  },
  {
   "cell_type": "code",
   "execution_count": 13,
   "metadata": {
    "ExecuteTime": {
     "end_time": "2022-09-16T20:44:32.760663Z",
     "start_time": "2022-09-16T20:44:32.751976Z"
    }
   },
   "outputs": [
    {
     "data": {
      "text/plain": [
       "[array([[-1.5666989 ],\n",
       "        [-1.21854359],\n",
       "        [-0.87038828],\n",
       "        [-0.52223297],\n",
       "        [-0.17407766],\n",
       "        [ 0.17407766],\n",
       "        [ 0.52223297],\n",
       "        [ 0.87038828],\n",
       "        [ 1.21854359],\n",
       "        [ 1.5666989 ]]),\n",
       " array([[ 0.1556019 ,  0.04124628, -0.07420025],\n",
       "        [ 0.05307607,  0.00854289, -0.0360242 ],\n",
       "        [-0.05058109, -0.02417879,  0.00225729],\n",
       "        [-0.15315983, -0.05684874,  0.04053216],\n",
       "        [-0.25254081, -0.0893974 ,  0.07868844],\n",
       "        [-0.34686464, -0.12175623,  0.11661556],\n",
       "        [-0.43465797, -0.15385829,  0.15420558],\n",
       "        [-0.51490065, -0.18563881,  0.19135444],\n",
       "        [-0.58703239, -0.21703564,  0.22796304],\n",
       "        [-0.65091011, -0.24798976,  0.26393827]]),\n",
       " array([[-0.2313994 , -0.00793021],\n",
       "        [-0.21231228, -0.00754217],\n",
       "        [-0.19285534, -0.00715153],\n",
       "        [-0.17346796, -0.00676227],\n",
       "        [-0.15458409, -0.00637825],\n",
       "        [-0.13659418, -0.00600292],\n",
       "        [-0.11981504, -0.00563919],\n",
       "        [-0.10447207, -0.00528929],\n",
       "        [-0.09069498, -0.00495472],\n",
       "        [-0.07852506, -0.00463638]]),\n",
       " array([[0.],\n",
       "        [0.],\n",
       "        [0.],\n",
       "        [0.],\n",
       "        [0.],\n",
       "        [0.],\n",
       "        [0.],\n",
       "        [0.],\n",
       "        [0.],\n",
       "        [0.]])]"
      ]
     },
     "execution_count": 13,
     "metadata": {},
     "output_type": "execute_result"
    }
   ],
   "source": [
    "nnet.Zs"
   ]
  },
  {
   "cell_type": "code",
   "execution_count": 14,
   "metadata": {
    "ExecuteTime": {
     "end_time": "2022-09-16T20:44:32.770833Z",
     "start_time": "2022-09-16T20:44:32.761926Z"
    }
   },
   "outputs": [
    {
     "name": "stdout",
     "output_type": "stream",
     "text": [
      "NeuralNetwork(1, [3, 2], 1), trained for 1 epochs at 0.1 LR with a final RMSE of 0.7549465762463012\n"
     ]
    }
   ],
   "source": [
    "print(nnet)"
   ]
  },
  {
   "cell_type": "code",
   "execution_count": 15,
   "metadata": {
    "ExecuteTime": {
     "end_time": "2022-09-16T20:44:32.780487Z",
     "start_time": "2022-09-16T20:44:32.772376Z"
    }
   },
   "outputs": [
    {
     "data": {
      "text/plain": [
       "(array([4.5]), array([2.87228132]))"
      ]
     },
     "execution_count": 15,
     "metadata": {},
     "output_type": "execute_result"
    }
   ],
   "source": [
    "nnet.X_means, nnet.X_stds"
   ]
  },
  {
   "cell_type": "code",
   "execution_count": 16,
   "metadata": {
    "ExecuteTime": {
     "end_time": "2022-09-16T20:44:32.791055Z",
     "start_time": "2022-09-16T20:44:32.781837Z"
    }
   },
   "outputs": [
    {
     "data": {
      "text/plain": [
       "(array([0.48052095]), array([0.754969]))"
      ]
     },
     "execution_count": 16,
     "metadata": {},
     "output_type": "execute_result"
    }
   ],
   "source": [
    "nnet.T_means, nnet.T_stds"
   ]
  },
  {
   "cell_type": "code",
   "execution_count": 17,
   "metadata": {
    "ExecuteTime": {
     "end_time": "2022-09-16T20:44:32.801409Z",
     "start_time": "2022-09-16T20:44:32.792391Z"
    }
   },
   "outputs": [
    {
     "data": {
      "text/plain": [
       "[(10, 1), (10, 3), (10, 2), (10, 1)]"
      ]
     },
     "execution_count": 17,
     "metadata": {},
     "output_type": "execute_result"
    }
   ],
   "source": [
    "[Z.shape for Z in nnet.Zs]"
   ]
  },
  {
   "cell_type": "code",
   "execution_count": 18,
   "metadata": {
    "ExecuteTime": {
     "end_time": "2022-09-16T20:44:32.811612Z",
     "start_time": "2022-09-16T20:44:32.802921Z"
    }
   },
   "outputs": [
    {
     "data": {
      "text/plain": [
       "[array([[-0.31 , -0.106,  0.098],\n",
       "        [-0.298, -0.094,  0.11 ]]),\n",
       " array([[-0.21      , -0.00714286],\n",
       "        [-0.20428571, -0.00142857],\n",
       "        [-0.19857143,  0.00428571],\n",
       "        [-0.19285714,  0.01      ]]),\n",
       " array([[-6.66133815e-18],\n",
       "        [ 1.72409702e-03],\n",
       "        [ 3.91828943e-05]])]"
      ]
     },
     "execution_count": 18,
     "metadata": {},
     "output_type": "execute_result"
    }
   ],
   "source": [
    "nnet.Ws"
   ]
  },
  {
   "cell_type": "code",
   "execution_count": 19,
   "metadata": {
    "ExecuteTime": {
     "end_time": "2022-09-16T20:44:32.822303Z",
     "start_time": "2022-09-16T20:44:32.813047Z"
    }
   },
   "outputs": [
    {
     "data": {
      "text/plain": [
       "['T_means',\n",
       " 'T_stds',\n",
       " 'Ws',\n",
       " 'X_means',\n",
       " 'X_stds',\n",
       " 'Zs',\n",
       " '__class__',\n",
       " '__delattr__',\n",
       " '__dict__',\n",
       " '__dir__',\n",
       " '__doc__',\n",
       " '__eq__',\n",
       " '__format__',\n",
       " '__ge__',\n",
       " '__getattribute__',\n",
       " '__gt__',\n",
       " '__hash__',\n",
       " '__init__',\n",
       " '__init_subclass__',\n",
       " '__le__',\n",
       " '__lt__',\n",
       " '__module__',\n",
       " '__ne__',\n",
       " '__new__',\n",
       " '__reduce__',\n",
       " '__reduce_ex__',\n",
       " '__repr__',\n",
       " '__setattr__',\n",
       " '__sizeof__',\n",
       " '__str__',\n",
       " '__subclasshook__',\n",
       " '__weakref__',\n",
       " '_add_ones',\n",
       " '_forward',\n",
       " '_gradients',\n",
       " '_rmse',\n",
       " 'gradients',\n",
       " 'learning_rate',\n",
       " 'n_epochs',\n",
       " 'n_hiddens_each_layer',\n",
       " 'n_inputs',\n",
       " 'n_outputs',\n",
       " 'rmse',\n",
       " 'rmse_trace',\n",
       " 'set_weights_for_testing',\n",
       " 'train',\n",
       " 'use']"
      ]
     },
     "execution_count": 19,
     "metadata": {},
     "output_type": "execute_result"
    }
   ],
   "source": [
    "dir(nnet)"
   ]
  },
  {
   "cell_type": "code",
   "execution_count": 20,
   "metadata": {
    "ExecuteTime": {
     "end_time": "2022-09-16T20:44:32.830904Z",
     "start_time": "2022-09-16T20:44:32.824324Z"
    }
   },
   "outputs": [],
   "source": [
    "def plot_data_and_model(nnet, X, T):\n",
    "    plt.clf()        \n",
    "    plt.subplot(2, 1, 1)\n",
    "    plt.plot(nnet.rmse_trace)\n",
    "    plt.xlabel('Epoch')\n",
    "    plt.ylabel('RMSE')\n",
    "\n",
    "    plt.subplot(2, 1, 2)\n",
    "    Y = nnet.use(X)\n",
    "\n",
    "    plt.plot(X, Y, 'o-', label='Y')\n",
    "    plt.plot(X, T, 'o', label='T', alpha=0.5)\n",
    "    plt.xlabel('X')\n",
    "    plt.ylabel('T or Y')\n",
    "    plt.legend()\n",
    "    plt.tight_layout();"
   ]
  },
  {
   "cell_type": "code",
   "execution_count": 21,
   "metadata": {
    "ExecuteTime": {
     "end_time": "2022-09-16T20:44:37.845831Z",
     "start_time": "2022-09-16T20:44:32.832764Z"
    },
    "tags": []
   },
   "outputs": [
    {
     "data": {
      "image/png": "[encoded data removed]",
      "text/plain": [
       "<Figure size 432x288 with 2 Axes>"
      ]
     },
     "metadata": {
      "needs_background": "light"
     },
     "output_type": "display_data"
    }
   ],
   "source": [
    "X = np.arange(0, 10).reshape(-1, 1)\n",
    "# X = np.arange(0, 0.5, 0.05).reshape(-1, 1)\n",
    "T = np.sin(X) + 0.01 * (X ** 2)\n",
    "\n",
    "n_inputs = X.shape[1]\n",
    "n_outputs = T.shape[1]\n",
    "\n",
    "nnet = NeuralNetwork(n_inputs, [10, 5], n_outputs)\n",
    "nnet.set_weights_for_testing()\n",
    "\n",
    "n_epochs = 5000\n",
    "n_epochs_per_plot = 500\n",
    "\n",
    "fig = plt.figure()\n",
    "for reps in range(n_epochs // n_epochs_per_plot):\n",
    "    plt.clf()\n",
    "    nnet.train(X, T, n_epochs=n_epochs_per_plot, learning_rate=0.1)\n",
    "    plot_data_and_model(nnet, X, T)\n",
    "    ipd.clear_output(wait=True)\n",
    "    ipd.display(fig)\n",
    "    time.sleep(0.2)  # 0.2 seconds\n",
    "ipd.clear_output(wait=True)"
   ]
  },
  {
   "cell_type": "code",
   "execution_count": null,
   "metadata": {
    "ExecuteTime": {
     "end_time": "2022-09-16T20:45:20.067700Z",
     "start_time": "2022-09-16T20:44:37.847154Z"
    }
   },
   "outputs": [
    {
     "data": {
      "image/png": "[encoded data removed]",
      "text/plain": [
       "<Figure size 432x288 with 2 Axes>"
      ]
     },
     "metadata": {},
     "output_type": "display_data"
    }
   ],
   "source": [
    "X = np.arange(-2, 2, 0.05).reshape(-1, 1)\n",
    "T = np.sin(X) * np.sin(X * 10)\n",
    "\n",
    "n_inputs = X.shape[1]\n",
    "n_outputs = T.shape[1]\n",
    "\n",
    "nnet = NeuralNetwork(n_inputs, [50, 10, 5], n_outputs)\n",
    "nnet.set_weights_for_testing()\n",
    "\n",
    "n_epochs = 75000\n",
    "n_epochs_per_plot = 500\n",
    "\n",
    "fig = plt.figure()\n",
    "for reps in range(n_epochs // n_epochs_per_plot):\n",
    "    plt.clf()\n",
    "    nnet.train(X, T, n_epochs=n_epochs_per_plot, learning_rate=0.05)\n",
    "    plot_data_and_model(nnet, X, T)\n",
    "    ipd.clear_output(wait=True)\n",
    "    ipd.display(fig)\n",
    "    # time.sleep(0.01)  # 0.01 seconds\n",
    "ipd.clear_output(wait=True)"
   ]
  },
  {
   "cell_type": "markdown",
   "metadata": {},
   "source": [
    "Your results will not be the same, but your code should complete and make plots somewhat similar to these."
   ]
  },
  {
   "cell_type": "markdown",
   "metadata": {
    "tags": []
   },
   "source": [
    "## Application to Boston Housing Data"
   ]
  },
  {
   "cell_type": "markdown",
   "metadata": {},
   "source": [
    "Download data from [Boston House Data at Kaggle](https://www.kaggle.com/fedesoriano/the-boston-houseprice-data). Read it into python using the `pandas.read_csv` function.  Assign the first 13 columns as inputs to `X` and the final column as target values to `T`.  Make sure `T` is two-dimensional."
   ]
  },
  {
   "cell_type": "code",
   "execution_count": 23,
   "metadata": {},
   "outputs": [],
   "source": [
    "import pandas as pd\n",
    "df = pd.read_csv('boston.csv')\n",
    "# df.info()"
   ]
  },
  {
   "cell_type": "code",
   "execution_count": 24,
   "metadata": {},
   "outputs": [
    {
     "data": {
      "text/html": [
       "<div>\n",
       "<style scoped>\n",
       "    .dataframe tbody tr th:only-of-type {\n",
       "        vertical-align: middle;\n",
       "    }\n",
       "\n",
       "    .dataframe tbody tr th {\n",
       "        vertical-align: top;\n",
       "    }\n",
       "\n",
       "    .dataframe thead th {\n",
       "        text-align: right;\n",
       "    }\n",
       "</style>\n",
       "<table border=\"1\" class=\"dataframe\">\n",
       "  <thead>\n",
       "    <tr style=\"text-align: right;\">\n",
       "      <th></th>\n",
       "      <th>CRIM</th>\n",
       "      <th>ZN</th>\n",
       "      <th>INDUS</th>\n",
       "      <th>CHAS</th>\n",
       "      <th>NOX</th>\n",
       "      <th>RM</th>\n",
       "      <th>AGE</th>\n",
       "      <th>DIS</th>\n",
       "      <th>RAD</th>\n",
       "      <th>TAX</th>\n",
       "      <th>PTRATIO</th>\n",
       "      <th>B</th>\n",
       "      <th>LSTAT</th>\n",
       "      <th>MEDV</th>\n",
       "    </tr>\n",
       "  </thead>\n",
       "  <tbody>\n",
       "    <tr>\n",
       "      <th>0</th>\n",
       "      <td>0.00632</td>\n",
       "      <td>18.0</td>\n",
       "      <td>2.31</td>\n",
       "      <td>0</td>\n",
       "      <td>0.538</td>\n",
       "      <td>6.575</td>\n",
       "      <td>65.2</td>\n",
       "      <td>4.0900</td>\n",
       "      <td>1</td>\n",
       "      <td>296.0</td>\n",
       "      <td>15.3</td>\n",
       "      <td>396.90</td>\n",
       "      <td>4.98</td>\n",
       "      <td>24.0</td>\n",
       "    </tr>\n",
       "    <tr>\n",
       "      <th>1</th>\n",
       "      <td>0.02731</td>\n",
       "      <td>0.0</td>\n",
       "      <td>7.07</td>\n",
       "      <td>0</td>\n",
       "      <td>0.469</td>\n",
       "      <td>6.421</td>\n",
       "      <td>78.9</td>\n",
       "      <td>4.9671</td>\n",
       "      <td>2</td>\n",
       "      <td>242.0</td>\n",
       "      <td>17.8</td>\n",
       "      <td>396.90</td>\n",
       "      <td>9.14</td>\n",
       "      <td>21.6</td>\n",
       "    </tr>\n",
       "    <tr>\n",
       "      <th>2</th>\n",
       "      <td>0.02729</td>\n",
       "      <td>0.0</td>\n",
       "      <td>7.07</td>\n",
       "      <td>0</td>\n",
       "      <td>0.469</td>\n",
       "      <td>7.185</td>\n",
       "      <td>61.1</td>\n",
       "      <td>4.9671</td>\n",
       "      <td>2</td>\n",
       "      <td>242.0</td>\n",
       "      <td>17.8</td>\n",
       "      <td>392.83</td>\n",
       "      <td>4.03</td>\n",
       "      <td>34.7</td>\n",
       "    </tr>\n",
       "    <tr>\n",
       "      <th>3</th>\n",
       "      <td>0.03237</td>\n",
       "      <td>0.0</td>\n",
       "      <td>2.18</td>\n",
       "      <td>0</td>\n",
       "      <td>0.458</td>\n",
       "      <td>6.998</td>\n",
       "      <td>45.8</td>\n",
       "      <td>6.0622</td>\n",
       "      <td>3</td>\n",
       "      <td>222.0</td>\n",
       "      <td>18.7</td>\n",
       "      <td>394.63</td>\n",
       "      <td>2.94</td>\n",
       "      <td>33.4</td>\n",
       "    </tr>\n",
       "    <tr>\n",
       "      <th>4</th>\n",
       "      <td>0.06905</td>\n",
       "      <td>0.0</td>\n",
       "      <td>2.18</td>\n",
       "      <td>0</td>\n",
       "      <td>0.458</td>\n",
       "      <td>7.147</td>\n",
       "      <td>54.2</td>\n",
       "      <td>6.0622</td>\n",
       "      <td>3</td>\n",
       "      <td>222.0</td>\n",
       "      <td>18.7</td>\n",
       "      <td>396.90</td>\n",
       "      <td>5.33</td>\n",
       "      <td>36.2</td>\n",
       "    </tr>\n",
       "  </tbody>\n",
       "</table>\n",
       "</div>"
      ],
      "text/plain": [
       "      CRIM    ZN  INDUS  CHAS    NOX     RM   AGE     DIS  RAD    TAX  \\\n",
       "0  0.00632  18.0   2.31     0  0.538  6.575  65.2  4.0900    1  296.0   \n",
       "1  0.02731   0.0   7.07     0  0.469  6.421  78.9  4.9671    2  242.0   \n",
       "2  0.02729   0.0   7.07     0  0.469  7.185  61.1  4.9671    2  242.0   \n",
       "3  0.03237   0.0   2.18     0  0.458  6.998  45.8  6.0622    3  222.0   \n",
       "4  0.06905   0.0   2.18     0  0.458  7.147  54.2  6.0622    3  222.0   \n",
       "\n",
       "   PTRATIO       B  LSTAT  MEDV  \n",
       "0     15.3  396.90   4.98  24.0  \n",
       "1     17.8  396.90   9.14  21.6  \n",
       "2     17.8  392.83   4.03  34.7  \n",
       "3     18.7  394.63   2.94  33.4  \n",
       "4     18.7  396.90   5.33  36.2  "
      ]
     },
     "execution_count": 24,
     "metadata": {},
     "output_type": "execute_result"
    }
   ],
   "source": [
    "df.head()"
   ]
  },
  {
   "cell_type": "code",
   "execution_count": 25,
   "metadata": {},
   "outputs": [
    {
     "data": {
      "text/plain": [
       "((506, 13), (506, 1))"
      ]
     },
     "execution_count": 25,
     "metadata": {},
     "output_type": "execute_result"
    }
   ],
   "source": [
    "X = np.array(df.iloc[:,:-1])\n",
    "T = np.array(df.iloc[:,-1:])\n",
    "X.shape, T.shape"
   ]
  },
  {
   "cell_type": "markdown",
   "metadata": {},
   "source": [
    "Before training your neural networks, partition the data into training and testing partitions, as shown here."
   ]
  },
  {
   "cell_type": "code",
   "execution_count": 26,
   "metadata": {
    "ExecuteTime": {
     "end_time": "2022-09-16T20:45:20.073781Z",
     "start_time": "2022-09-16T20:45:20.070445Z"
    }
   },
   "outputs": [],
   "source": [
    "def partition(X, T, train_fraction):\n",
    "    n_samples = X.shape[0]\n",
    "    rows = np.arange(n_samples)\n",
    "    np.random.shuffle(rows)\n",
    "\n",
    "    n_train = round(n_samples * train_fraction)\n",
    "\n",
    "    Xtrain = X[rows[:n_train], :]\n",
    "    Ttrain = T[rows[:n_train], :]\n",
    "    Xtest = X[rows[n_train:], :]\n",
    "    Ttest = T[rows[n_train:], :]\n",
    "\n",
    "    return Xtrain, Ttrain, Xtest, Ttest"
   ]
  },
  {
   "cell_type": "code",
   "execution_count": 27,
   "metadata": {
    "ExecuteTime": {
     "end_time": "2022-09-16T20:45:20.093265Z",
     "start_time": "2022-09-16T20:45:20.086429Z"
    }
   },
   "outputs": [
    {
     "data": {
      "text/plain": [
       "((405, 13), (405, 1), (101, 13), (101, 1))"
      ]
     },
     "execution_count": 27,
     "metadata": {},
     "output_type": "execute_result"
    }
   ],
   "source": [
    "Xtrain, Ttrain, Xtest, Ttest = partition(X, T, 0.8)  \n",
    "Xtrain.shape, Ttrain.shape, Xtest.shape, Ttest.shape"
   ]
  },
  {
   "cell_type": "code",
   "execution_count": 28,
   "metadata": {
    "ExecuteTime": {
     "end_time": "2022-09-16T20:45:20.103523Z",
     "start_time": "2022-09-16T20:45:20.094528Z"
    }
   },
   "outputs": [
    {
     "data": {
      "text/plain": [
       "array([[3.29820e-01, 0.00000e+00, 2.18900e+01, ..., 3.88690e+02,\n",
       "        1.50300e+01, 1.84000e+01],\n",
       "       [4.64689e+00, 0.00000e+00, 1.81000e+01, ..., 3.74680e+02,\n",
       "        1.16600e+01, 2.98000e+01],\n",
       "       [3.82140e-01, 0.00000e+00, 6.20000e+00, ..., 3.87380e+02,\n",
       "        3.13000e+00, 3.76000e+01],\n",
       "       ...,\n",
       "       [1.50860e-01, 0.00000e+00, 2.77400e+01, ..., 3.95090e+02,\n",
       "        1.80600e+01, 1.52000e+01],\n",
       "       [7.50260e-01, 0.00000e+00, 8.14000e+00, ..., 3.94330e+02,\n",
       "        1.63000e+01, 1.56000e+01],\n",
       "       [1.40507e+01, 0.00000e+00, 1.81000e+01, ..., 3.50500e+01,\n",
       "        2.12200e+01, 1.72000e+01]])"
      ]
     },
     "execution_count": 28,
     "metadata": {},
     "output_type": "execute_result"
    }
   ],
   "source": [
    "np.hstack((Xtrain, Ttrain))"
   ]
  },
  {
   "cell_type": "code",
   "execution_count": 29,
   "metadata": {
    "ExecuteTime": {
     "end_time": "2022-09-16T20:45:20.113395Z",
     "start_time": "2022-09-16T20:45:20.104729Z"
    }
   },
   "outputs": [
    {
     "data": {
      "text/plain": [
       "array([[8.79212e+00, 0.00000e+00, 1.81000e+01, ..., 3.65000e+00,\n",
       "        1.71600e+01, 1.17000e+01],\n",
       "       [3.18270e-01, 0.00000e+00, 9.90000e+00, ..., 3.90700e+02,\n",
       "        1.83300e+01, 1.78000e+01],\n",
       "       [1.80028e+00, 0.00000e+00, 1.95800e+01, ..., 2.27610e+02,\n",
       "        1.21400e+01, 2.38000e+01],\n",
       "       ...,\n",
       "       [9.37800e-02, 1.25000e+01, 7.87000e+00, ..., 3.90500e+02,\n",
       "        1.57100e+01, 2.17000e+01],\n",
       "       [8.87300e-02, 2.10000e+01, 5.64000e+00, ..., 3.95560e+02,\n",
       "        1.34500e+01, 1.97000e+01],\n",
       "       [6.96215e+00, 0.00000e+00, 1.81000e+01, ..., 3.94430e+02,\n",
       "        1.71100e+01, 1.51000e+01]])"
      ]
     },
     "execution_count": 29,
     "metadata": {},
     "output_type": "execute_result"
    }
   ],
   "source": [
    "np.hstack((Xtest, Ttest))"
   ]
  },
  {
   "cell_type": "markdown",
   "metadata": {},
   "source": [
    "Write and run code using your `NeuralNetwork` class to model the Boston housing data. Experiment with a variety of neural network structures (numbers of hidden layer and units) including no hidden layers, learning rates, and numbers of epochs. Show results for at least three different network structures, learning rates, and numbers of epochs for a total of at least 27 results.  Show your results in a `pandas` DataFrame with columns `('Structure', 'Epochs', 'Learning Rate', 'Train RMSE', 'Test RMSE')`.\n",
    "\n",
    "Try to find good values for the RMSE on testing data.  Discuss your results, including how good you think the RMSE values are by considering the range of house values given in the data. "
   ]
  },
  {
   "cell_type": "code",
   "execution_count": 30,
   "metadata": {},
   "outputs": [],
   "source": [
    "n_inputs = Xtrain.shape[1]\n",
    "n_outputs = Ttrain.shape[1]"
   ]
  },
  {
   "cell_type": "code",
   "execution_count": 31,
   "metadata": {},
   "outputs": [
    {
     "data": {
      "image/png": "[encoded data removed]",
      "text/plain": [
       "<Figure size 640x480 with 1 Axes>"
      ]
     },
     "metadata": {},
     "output_type": "display_data"
    }
   ],
   "source": [
    "plt.boxplot(Xtrain);"
   ]
  },
  {
   "cell_type": "code",
   "execution_count": 32,
   "metadata": {},
   "outputs": [],
   "source": [
    "def plot_model(rmses, Ttest, Y):\n",
    "    fig = plt.figure(figsize=(10, 3))\n",
    "    plt.subplot(1, 2, 1)\n",
    "    plt.plot(rmses)\n",
    "    plt.xlabel('Epoch')\n",
    "    plt.ylabel('RMSE')\n",
    "\n",
    "    plt.subplot(1, 2, 2)\n",
    "    plt.plot(Ttest, Y, '.')\n",
    "    plt.ylabel('Predicted')\n",
    "    plt.xlabel('Actual')\n",
    "    plt.plot(np.arange(0, 50), np.arange(0, 50), color='r')"
   ]
  },
  {
   "cell_type": "code",
   "execution_count": 33,
   "metadata": {
    "scrolled": true,
    "tags": []
   },
   "outputs": [
    {
     "name": "stdout",
     "output_type": "stream",
     "text": [
      "--------------------------\n",
      "Model: 1/27\n",
      "NeuralNetwork(13, [50, 30, 10, 3], 1), trained for 1000 epochs at 0.1 LR with a final RMSE of 2.3742102195404056\n",
      "rmse=2.8411903432925576\n",
      "--------------------------\n",
      "Model: 2/27\n",
      "NeuralNetwork(13, [50, 30, 10, 3], 1), trained for 1000 epochs at 0.01 LR with a final RMSE of 4.765159467415923\n",
      "rmse=4.748331134020905\n",
      "--------------------------\n",
      "Model: 3/27\n",
      "NeuralNetwork(13, [50, 30, 10, 3], 1), trained for 1000 epochs at 0.001 LR with a final RMSE of 8.976836654509427\n",
      "rmse=9.920056646173828\n",
      "--------------------------\n",
      "Model: 4/27\n",
      "NeuralNetwork(13, [50, 30, 10, 3], 1), trained for 10000 epochs at 0.1 LR with a final RMSE of 1.2350518462645208\n",
      "rmse=3.1224583575008795\n",
      "--------------------------\n",
      "Model: 5/27\n",
      "NeuralNetwork(13, [50, 30, 10, 3], 1), trained for 10000 epochs at 0.01 LR with a final RMSE of 2.2386131107411607\n",
      "rmse=2.7814680608061977\n",
      "--------------------------\n",
      "Model: 6/27\n",
      "NeuralNetwork(13, [50, 30, 10, 3], 1), trained for 10000 epochs at 0.001 LR with a final RMSE of 5.2230600270687\n",
      "rmse=5.197041379839781\n",
      "--------------------------\n",
      "Model: 7/27\n",
      "NeuralNetwork(13, [50, 30, 10, 3], 1), trained for 25000 epochs at 0.1 LR with a final RMSE of 0.7678490812627093\n",
      "rmse=3.752007754012072\n",
      "--------------------------\n",
      "Model: 8/27\n",
      "NeuralNetwork(13, [50, 30, 10, 3], 1), trained for 25000 epochs at 0.01 LR with a final RMSE of 1.7395885804186477\n",
      "rmse=2.9592160962821095\n",
      "--------------------------\n",
      "Model: 9/27\n",
      "NeuralNetwork(13, [50, 30, 10, 3], 1), trained for 25000 epochs at 0.001 LR with a final RMSE of 4.061009747643207\n",
      "rmse=4.158311693983278\n",
      "--------------------------\n",
      "Model: 10/27\n",
      "NeuralNetwork(13, [30, 10, 5], 1), trained for 1000 epochs at 0.1 LR with a final RMSE of 2.262670970763099\n",
      "rmse=2.606432449790873\n",
      "--------------------------\n",
      "Model: 11/27\n",
      "NeuralNetwork(13, [30, 10, 5], 1), trained for 1000 epochs at 0.01 LR with a final RMSE of 4.847781296090727\n",
      "rmse=4.76338302613864\n",
      "--------------------------\n",
      "Model: 12/27\n",
      "NeuralNetwork(13, [30, 10, 5], 1), trained for 1000 epochs at 0.001 LR with a final RMSE of 8.962309677276552\n",
      "rmse=9.911193303616583\n",
      "--------------------------\n",
      "Model: 13/27\n",
      "NeuralNetwork(13, [30, 10, 5], 1), trained for 10000 epochs at 0.1 LR with a final RMSE of 1.3105448220124198\n",
      "rmse=2.909927099637334\n",
      "--------------------------\n",
      "Model: 14/27\n",
      "NeuralNetwork(13, [30, 10, 5], 1), trained for 10000 epochs at 0.01 LR with a final RMSE of 2.3109228892427964\n",
      "rmse=2.772864070556855\n",
      "--------------------------\n",
      "Model: 15/27\n",
      "NeuralNetwork(13, [30, 10, 5], 1), trained for 10000 epochs at 0.001 LR with a final RMSE of 5.1279156548283575\n",
      "rmse=5.192351654347271\n",
      "--------------------------\n",
      "Model: 16/27\n",
      "NeuralNetwork(13, [30, 10, 5], 1), trained for 25000 epochs at 0.1 LR with a final RMSE of 0.7845795354634828\n",
      "rmse=3.2316890427926404\n",
      "--------------------------\n",
      "Model: 17/27\n",
      "NeuralNetwork(13, [30, 10, 5], 1), trained for 25000 epochs at 0.01 LR with a final RMSE of 1.7717418572918031\n",
      "rmse=2.7337072487115415\n",
      "--------------------------\n",
      "Model: 18/27\n",
      "NeuralNetwork(13, [30, 10, 5], 1), trained for 25000 epochs at 0.001 LR with a final RMSE of 4.106044416541626\n",
      "rmse=4.322448570993567\n",
      "--------------------------\n",
      "Model: 19/27\n",
      "NeuralNetwork(13, [], 1), trained for 1000 epochs at 0.1 LR with a final RMSE of 4.68001797112801\n",
      "rmse=4.826725966750906\n",
      "--------------------------\n",
      "Model: 20/27\n",
      "NeuralNetwork(13, [], 1), trained for 1000 epochs at 0.01 LR with a final RMSE of 4.712396534435001\n",
      "rmse=4.780300041961429\n",
      "--------------------------\n",
      "Model: 21/27\n",
      "NeuralNetwork(13, [], 1), trained for 1000 epochs at 0.001 LR with a final RMSE of 5.256003638822254\n",
      "rmse=4.8021316386825355\n",
      "--------------------------\n",
      "Model: 22/27\n",
      "NeuralNetwork(13, [], 1), trained for 10000 epochs at 0.1 LR with a final RMSE of 4.6800176143003025\n",
      "rmse=4.8268108094959725\n",
      "--------------------------\n",
      "Model: 23/27\n",
      "NeuralNetwork(13, [], 1), trained for 10000 epochs at 0.01 LR with a final RMSE of 4.680017983582111\n",
      "rmse=4.826724505067293\n",
      "--------------------------\n",
      "Model: 24/27\n",
      "NeuralNetwork(13, [], 1), trained for 10000 epochs at 0.001 LR with a final RMSE of 4.712428511222224\n",
      "rmse=4.780210961965614\n",
      "--------------------------\n",
      "Model: 25/27\n",
      "NeuralNetwork(13, [], 1), trained for 25000 epochs at 0.1 LR with a final RMSE of 4.6800176143003025\n",
      "rmse=4.8268108094959725\n",
      "--------------------------\n",
      "Model: 26/27\n",
      "NeuralNetwork(13, [], 1), trained for 25000 epochs at 0.01 LR with a final RMSE of 4.680017614300306\n",
      "rmse=4.8268108011015505\n",
      "--------------------------\n",
      "Model: 27/27\n",
      "NeuralNetwork(13, [], 1), trained for 25000 epochs at 0.001 LR with a final RMSE of 4.683878873993399\n",
      "rmse=4.8189832733081985\n"
     ]
    }
   ],
   "source": [
    "# 27 models\n",
    "networks = [[50, 30, 10, 3], [30, 10, 5], []]\n",
    "epochs = [1000, 10000, 25000]\n",
    "rhos = [0.1, 0.01, 0.001]\n",
    "\n",
    "rmses = []\n",
    "nnets = []\n",
    "Ys = []\n",
    "i = 1\n",
    "for hidden_layers in networks:\n",
    "    for n_epochs in epochs:\n",
    "        for rho in rhos:\n",
    "            print(\"--------------------------\")\n",
    "            print(\"Model: {}/27\".format(i))\n",
    "\n",
    "            # Train\n",
    "            nnet = NeuralNetwork(n_inputs, hidden_layers, n_outputs)\n",
    "            nnet.train(Xtrain, Ttrain, n_epochs=n_epochs, learning_rate=rho)\n",
    "            \n",
    "            # Eval\n",
    "            print(nnet)\n",
    "            Y = nnet.use(Xtest)\n",
    "            rmse = np.sqrt(np.mean((Ttest - Y)**2))\n",
    "            print(f'{rmse=}')\n",
    "            nnets.append(nnet)\n",
    "            Ys.append(Y)\n",
    "            rmses.append(rmse)\n",
    "            \n",
    "            i += 1"
   ]
  },
  {
   "cell_type": "code",
   "execution_count": 34,
   "metadata": {},
   "outputs": [
    {
     "name": "stdout",
     "output_type": "stream",
     "text": [
      "--------------------------\n",
      "Best Model: NeuralNetwork(13, [30, 10, 5], 1), trained for 1000 epochs at 0.1 LR with a final RMSE of 2.262670970763099\n",
      "Least RMSE on test data: 2.6064\n"
     ]
    },
    {
     "data": {
      "image/png": "[encoded data removed]",
      "text/plain": [
       "<Figure size 1000x300 with 2 Axes>"
      ]
     },
     "metadata": {},
     "output_type": "display_data"
    }
   ],
   "source": [
    "# Best model\n",
    "rmses = np.array(rmses)\n",
    "best_model_index = int(np.where(rmses == np.amin(rmses))[0])\n",
    "best_model = nnets[best_model_index]\n",
    "best_output = Ys[best_model_index]\n",
    "print(\"--------------------------\")\n",
    "plot_model(best_model.rmse_trace, Ttest, best_output)\n",
    "print(\"Best Model: {}\".format(best_model))\n",
    "print(\"Least RMSE on test data: {}\".format(np.round(np.amin(rmses), 4)))"
   ]
  },
  {
   "cell_type": "code",
   "execution_count": 35,
   "metadata": {},
   "outputs": [
    {
     "name": "stdout",
     "output_type": "stream",
     "text": [
      "--------------------------\n",
      "Worst Model: NeuralNetwork(13, [50, 30, 10, 3], 1), trained for 1000 epochs at 0.001 LR with a final RMSE of 8.976836654509427\n",
      "Highest RMSE on test data: 9.9201\n"
     ]
    },
    {
     "data": {
      "image/png": "[encoded data removed]",
      "text/plain": [
       "<Figure size 1000x300 with 2 Axes>"
      ]
     },
     "metadata": {},
     "output_type": "display_data"
    }
   ],
   "source": [
    "# Worst model\n",
    "rmses = np.array(rmses)\n",
    "worst_model_index = int(np.where(rmses == np.amax(rmses))[0])\n",
    "worst_model = nnets[worst_model_index]\n",
    "worst_output = Ys[worst_model_index]\n",
    "print(\"--------------------------\")\n",
    "plot_model(worst_model.rmse_trace, Ttest, worst_output)\n",
    "print(\"Worst Model: {}\".format(worst_model))\n",
    "print(\"Highest RMSE on test data: {}\".format(np.round(np.amax(rmses), 4)))"
   ]
  },
  {
   "cell_type": "code",
   "execution_count": 36,
   "metadata": {},
   "outputs": [
    {
     "data": {
      "image/png": "[encoded data removed]",
      "text/plain": [
       "<Figure size 300x400 with 1 Axes>"
      ]
     },
     "metadata": {},
     "output_type": "display_data"
    }
   ],
   "source": [
    "fig = plt.figure(figsize=(3, 4))\n",
    "# plt.plot(rmses, 'o')\n",
    "plt.boxplot(rmses);"
   ]
  },
  {
   "cell_type": "markdown",
   "metadata": {},
   "source": [
    "* Inference: \n",
    "- Most of our models seem to be doing a decent job at predicting the Target value on test data from Boston housing data. \n",
    "- Couple of them just produce a staright line of predictions with a very high RMSE. This is expected as that model has many hidden layers, but too low learning rate and epochs to actually fit the pattern quickly.\n",
    "- The best model turned out to be the one with [30, 10, 5] hidden layers and 25,000 epochs with an RMSE of 1.83 on training data. This gives me an idea that we could probably further try training the same model for more epochs, or also add more layers or nodes to the network."
   ]
  },
  {
   "cell_type": "code",
   "execution_count": 37,
   "metadata": {},
   "outputs": [
    {
     "name": "stdout",
     "output_type": "stream",
     "text": [
      "NeuralNetwork(13, [], 1), trained for 25000 epochs at 0.001 LR with a final RMSE of 4.683878873993399\n",
      "Y.shape=(101, 1)\n",
      "rmse=4.8189832733081985\n"
     ]
    },
    {
     "data": {
      "image/png": "[encoded data removed]",
      "text/plain": [
       "<Figure size 640x480 with 1 Axes>"
      ]
     },
     "metadata": {},
     "output_type": "display_data"
    }
   ],
   "source": [
    "print(nnet)\n",
    "\n",
    "Y = nnet.use(Xtest)\n",
    "print(f'{Y.shape=}')\n",
    "\n",
    "rmse = np.sqrt(np.mean((Ttest - Y)**2))\n",
    "print(f'{rmse=}')\n",
    "\n",
    "plt.plot(Ttest, Y, '.')\n",
    "plt.ylabel('Predicted')\n",
    "plt.xlabel('Actual')\n",
    "plt.plot(np.arange(0, 50), np.arange(0, 50), color='r');"
   ]
  },
  {
   "cell_type": "markdown",
   "metadata": {},
   "source": [
    "* Inference: Soft-tep nets relatively easily fit to the training data from the start point and also produced decent predictions. First model with high learning rate skewed down the gradient quickly, so tried decresing it in second one but the resultant error increased. The first model produced best results with RMSE ~2.3"
   ]
  },
  {
   "cell_type": "markdown",
   "metadata": {},
   "source": [
    "# Grading\n",
    "\n",
    "Your notebook will be run and graded automatically. Test this grading process by first downloading [A2grader.tar](http://www.cs.colostate.edu/~anderson/cs545/notebooks/A2grader.tar) and extract `A2grader.py` from it. Run the code in the following cell to demonstrate an example grading session.  The remaining 20 points will be based on your discussion of this assignment.\n",
    "\n",
    "A different, but similar, grading script will be used to grade your checked-in notebook. It will include additional tests. You should design and perform additional tests on all of your functions to be sure they run correctly before checking in your notebook.  \n",
    "\n",
    "For the grading script to run correctly, you must first name this notebook as `Lastname-A2.ipynb` with `Lastname` being your last name, and then save this notebook."
   ]
  },
  {
   "cell_type": "code",
   "execution_count": 38,
   "metadata": {
    "ExecuteTime": {
     "end_time": "2022-09-16T21:17:11.112089Z",
     "start_time": "2022-09-16T21:17:08.965640Z"
    }
   },
   "outputs": [
    {
     "name": "stdout",
     "output_type": "stream",
     "text": [
      "\n",
      "======================= Code Execution =======================\n",
      "\n",
      "Extracting python code from notebook named 'Agarwal-A2.ipynb' and storing in notebookcode.py\n"
     ]
    },
    {
     "name": "stderr",
     "output_type": "stream",
     "text": [
      "[NbConvertApp] Converting notebook Agarwal-A2.ipynb to script\n"
     ]
    },
    {
     "name": "stdout",
     "output_type": "stream",
     "text": [
      "Removing all statements that are not function or class defs or import statements.\n",
      "\n",
      "Testing\n",
      "\n",
      "    n_inputs = 3\n",
      "    n_hiddens = [2, 1]\n",
      "    n_outputs = 2\n",
      "    n_samples = 5\n",
      "\n",
      "    X = np.arange(n_samples * n_inputs).reshape(n_samples, n_inputs) * 0.1\n",
      "    T = np.hstack((X, X*2))\n",
      "\n",
      "    nnet = NeuralNetwork(n_inputs, n_hiddens, n_outputs)\n",
      "    nnet.set_weights_for_testing()\n",
      "\n",
      "    # Set standardization variables so use() will run\n",
      "    nnet.X_means = 0\n",
      "    nnet.X_stds = 1\n",
      "    nnet.T_means = 0\n",
      "    nnet.T_stds = 1\n",
      "    \n",
      "    Y = nnet.use(X)\n",
      "\n",
      "Weights set for testing by calling set_weights_for_testing()\n",
      "\n",
      "--- 20/20 points. Returned correct value.\n",
      "\n",
      "Testing\n",
      "\n",
      "    n_inputs = 3\n",
      "    n_hiddens = []   # NO HIDDEN LAYERS.  SO THE NEURAL NET IS JUST A LINEAR MODEL.\n",
      "    n_samples = 5\n",
      "\n",
      "    X = np.arange(n_samples * n_inputs).reshape(n_samples, n_inputs) * 0.1\n",
      "    T = np.hstack((X, X*2))\n",
      "    n_outputs = T.shape[1]\n",
      "\n",
      "    nnet = NeuralNetwork(n_inputs, n_hiddens, n_outputs)\n",
      "    nnet.set_weights_for_testing()\n",
      "\n",
      "    nnet.train(X, T, 1000, 0.01)\n",
      "    Y = nnet.use(X)\n",
      "\n",
      "Weights set for testing by calling set_weights_for_testing()\n",
      "\n",
      "--- 20/20 points. Returned correct value.\n",
      "\n",
      "Testing\n",
      "    n_inputs = 3\n",
      "    n_hiddens = [20, 20, 10, 10, 5]\n",
      "    n_samples = 5\n",
      "\n",
      "    X = np.arange(n_samples * n_inputs).reshape(n_samples, n_inputs) * 0.1\n",
      "    T = np.log(X + 0.1)\n",
      "    n_outputs = T.shape[1]\n",
      "    \n",
      "    def rmse(A, B):\n",
      "        return np.sqrt(np.mean((A - B)**2))\n",
      "\n",
      "    nnet = NeuralNetwork(n_inputs, n_hiddens, n_outputs)\n",
      "    nnet.set_weights_for_testing()\n",
      "\n",
      "    nnet.train(X, T, 6000, 0.01)\n",
      "    Y = nnet.use(X)\n",
      "    err = rmse(Y, T)\n",
      "    print('RMSE', rmse(Y, T))\n",
      "\n",
      "Weights set for testing by calling set_weights_for_testing()\n",
      "RMSE 0.038919781322996234\n",
      "\n",
      "--- 40/40 points. Returned correct value.\n",
      "\n",
      "======================================================================\n",
      "WIP Execution Grade is 80 / 80\n",
      "======================================================================\n",
      "\n",
      "___ / 5 Correctly read in Boston housing data using pandas.read_csv.\n",
      "___ / 5 Correctly created X and T and training and testing partitions.\n",
      "___ / 5 Correctly ran the required experiments.\n",
      "___ / 5 Provided a sufficient description of your experiments and results.\n",
      "\n",
      "======================================================================\n",
      "WIP Experiments and Discussion Grade is __ / 20\n",
      "======================================================================\n",
      "\n",
      "======================================================================\n",
      "WIP FINAL GRADE is  ___ / 100\n",
      "======================================================================\n",
      "\n",
      "Extra Credit:\n",
      "\n",
      "Apply your functions to a data set from the UCI Machine Learning Repository.\n",
      "Explain your steps and results in markdown cells.\n",
      "\n",
      "\n",
      "WIP EXTRA CREDIT is 0 / 1\n"
     ]
    },
    {
     "data": {
      "text/plain": [
       "<Figure size 640x480 with 0 Axes>"
      ]
     },
     "metadata": {},
     "output_type": "display_data"
    }
   ],
   "source": [
    "%run -i A2grader.py"
   ]
  }
 ],
 "metadata": {
  "kernelspec": {
   "display_name": "Python 3 (ipykernel)",
   "language": "python",
   "name": "python3"
  },
  "language_info": {
   "codemirror_mode": {
    "name": "ipython",
    "version": 3
   },
   "file_extension": ".py",
   "mimetype": "text/x-python",
   "name": "python",
   "nbconvert_exporter": "python",
   "pygments_lexer": "ipython3",
   "version": "3.9.12"
  },
  "toc": {
   "base_numbering": 1,
   "nav_menu": {},
   "number_sections": false,
   "sideBar": true,
   "skip_h1_title": true,
   "title_cell": "Table of Contents",
   "title_sidebar": "Contents",
   "toc_cell": true,
   "toc_position": {
    "height": "calc(100% - 180px)",
    "left": "10px",
    "top": "150px",
    "width": "512px"
   },
   "toc_section_display": true,
   "toc_window_display": false
  }
 },
 "nbformat": 4,
 "nbformat_minor": 4
}
